{
 "cells": [
  {
   "cell_type": "code",
   "execution_count": 42,
   "metadata": {},
   "outputs": [],
   "source": [
    "import os\n",
    "os.environ['SPARK_HOME']=\"/usr/hdp/current/spark2-client\""
   ]
  },
  {
   "cell_type": "code",
   "execution_count": 43,
   "metadata": {},
   "outputs": [
    {
     "data": {
      "text/html": [
       "\n",
       "        <div>\n",
       "            <p><b>SparkContext</b></p>\n",
       "\n",
       "            <p><a href=\"http://edge0.hadoop.hcc.snu.ac.kr:4047\">Spark UI</a></p>\n",
       "\n",
       "            <dl>\n",
       "              <dt>Version</dt>\n",
       "                <dd><code>v2.3.2.3.1.0.0-78</code></dd>\n",
       "              <dt>Master</dt>\n",
       "                <dd><code>yarn</code></dd>\n",
       "              <dt>AppName</dt>\n",
       "                <dd><code>ssds2_kb</code></dd>\n",
       "            </dl>\n",
       "        </div>\n",
       "        "
      ],
      "text/plain": [
       "<SparkContext master=yarn appName=ssds2_kb>"
      ]
     },
     "execution_count": 43,
     "metadata": {},
     "output_type": "execute_result"
    }
   ],
   "source": [
    "import findspark\n",
    "findspark.init()\n",
    "\n",
    "from pyspark.sql import SparkSession\n",
    "spark = SparkSession.builder \\\n",
    "        .master(\"yarn\") \\\n",
    "        .appName(\"ssds2_kb\") \\\n",
    "        .getOrCreate()\n",
    "sc = spark.sparkContext\n",
    "sc"
   ]
  },
  {
   "cell_type": "code",
   "execution_count": 44,
   "metadata": {},
   "outputs": [],
   "source": [
    "from pyspark.sql.types import StructType, StructField, IntegerType, DoubleType\n",
    "\n",
    "colNames = [\"Elevation\", \"Aspect\", \"Slope\",\n",
    "\"Horizontal_Distance_To_Hydrology\", \"Vertical_Distance_To_Hydrology\",\n",
    "\"Horizontal_Distance_To_Roadways\",\n",
    "\"Hillshade_9am\", \"Hillshade_Noon\", \"Hillshade_3pm\",\n",
    "\"Horizontal_Distance_To_Fire_Points\"]\n",
    "for i in range(4):\n",
    "    colNames += [\"Wilderness_Area_\"+str(i),]\n",
    "for i in range(40):\n",
    "    colNames += [\"Soil_Type_\"+str(i),]\n",
    "colNames += [\"Cover_Type\",]"
   ]
  },
  {
   "cell_type": "code",
   "execution_count": 45,
   "metadata": {},
   "outputs": [],
   "source": [
    "# Create schema\n",
    "schema = StructType()\n",
    "for name in colNames:\n",
    "    if name == \"Cover_Type\":\n",
    "        schema.add(StructField(name, DoubleType(), True))\n",
    "    else:\n",
    "        schema.add(StructField(name, IntegerType(), True))\n",
    "\n",
    "# Load CSV with schema\n",
    "data = spark.read.csv(\"covtype.data\", header=False, schema=schema)"
   ]
  },
  {
   "cell_type": "code",
   "execution_count": 46,
   "metadata": {},
   "outputs": [],
   "source": [
    "# train/test data split\n",
    "(trainData, testData) = data.randomSplit([0.9, 0.1])\n",
    "# remove target label\n",
    "inputCols = trainData.drop('Cover_Type').columns"
   ]
  },
  {
   "cell_type": "code",
   "execution_count": 47,
   "metadata": {},
   "outputs": [],
   "source": [
    "# load library\n",
    "from pyspark.ml.feature import VectorAssembler\n",
    "\n",
    "# asemble features to vector\n",
    "assembler = VectorAssembler(\n",
    "    inputCols=inputCols,\n",
    "    outputCol=\"featureVector\")\n",
    "assembledTrainData = assembler.transform(trainData)\n",
    "assembledTestData = assembler.transform(testData)"
   ]
  },
  {
   "cell_type": "markdown",
   "metadata": {},
   "source": [
    "## Logistic Regression"
   ]
  },
  {
   "cell_type": "code",
   "execution_count": 48,
   "metadata": {},
   "outputs": [
    {
     "name": "stdout",
     "output_type": "stream",
     "text": [
      "CPU times: user 94.4 ms, sys: 23.6 ms, total: 118 ms\n",
      "Wall time: 51 s\n"
     ]
    }
   ],
   "source": [
    "%%time\n",
    "# import library\n",
    "from pyspark.ml.classification import LogisticRegression\n",
    "\n",
    "# create logistic regression model\n",
    "logi = LogisticRegression(labelCol=\"Cover_Type\", featuresCol=\"featureVector\", family=\"multinomial\", predictionCol=\"prediction\")\n",
    "\n",
    "# train model with train data\n",
    "model = logi.fit(assembledTrainData)"
   ]
  },
  {
   "cell_type": "code",
   "execution_count": 49,
   "metadata": {},
   "outputs": [
    {
     "name": "stdout",
     "output_type": "stream",
     "text": [
      "0.7124149220298096\n",
      "0.7000750643021649\n",
      "CPU times: user 55.4 ms, sys: 11.6 ms, total: 67 ms\n",
      "Wall time: 24.2 s\n"
     ]
    }
   ],
   "source": [
    "%%time\n",
    "# load library\n",
    "from pyspark.ml.evaluation import MulticlassClassificationEvaluator\n",
    "\n",
    "# create evaluator\n",
    "evaluator = MulticlassClassificationEvaluator(labelCol=\"Cover_Type\", predictionCol=\"prediction\")\n",
    "# transform test data using the fitted model\n",
    "predictions = model.transform(assembledTestData)\n",
    "\n",
    "print(evaluator.setMetricName(\"accuracy\").evaluate(predictions))\n",
    "print(evaluator.setMetricName(\"f1\").evaluate(predictions))"
   ]
  },
  {
   "cell_type": "markdown",
   "metadata": {},
   "source": [
    "## Decision Tree"
   ]
  },
  {
   "cell_type": "code",
   "execution_count": 50,
   "metadata": {},
   "outputs": [
    {
     "name": "stdout",
     "output_type": "stream",
     "text": [
      "CPU times: user 68.5 ms, sys: 23.3 ms, total: 91.8 ms\n",
      "Wall time: 29.6 s\n"
     ]
    }
   ],
   "source": [
    "%%time\n",
    "# load library\n",
    "from pyspark.ml.classification import DecisionTreeClassifier\n",
    "\n",
    "#create model\n",
    "classifier = DecisionTreeClassifier(labelCol=\"Cover_Type\", featuresCol=\"featureVector\", predictionCol=\"prediction\")\n",
    "\n",
    "# train model with train data\n",
    "model = classifier.fit(assembledTrainData)"
   ]
  },
  {
   "cell_type": "code",
   "execution_count": 51,
   "metadata": {},
   "outputs": [
    {
     "name": "stdout",
     "output_type": "stream",
     "text": [
      "0.7003015421728267\n",
      "0.6828278611040922\n",
      "CPU times: user 56.4 ms, sys: 13 ms, total: 69.4 ms\n",
      "Wall time: 22.6 s\n"
     ]
    }
   ],
   "source": [
    "%%time\n",
    "# transform test data using the fitted model\n",
    "predictions = model.transform(assembledTestData)\n",
    "\n",
    "print(evaluator.setMetricName(\"accuracy\").evaluate(predictions))\n",
    "print(evaluator.setMetricName(\"f1\").evaluate(predictions))"
   ]
  },
  {
   "cell_type": "markdown",
   "metadata": {},
   "source": [
    "## RandomForest"
   ]
  },
  {
   "cell_type": "code",
   "execution_count": 52,
   "metadata": {},
   "outputs": [
    {
     "name": "stdout",
     "output_type": "stream",
     "text": [
      "CPU times: user 80.6 ms, sys: 24.8 ms, total: 105 ms\n",
      "Wall time: 35.1 s\n"
     ]
    }
   ],
   "source": [
    "%%time\n",
    "# load library\n",
    "from pyspark.ml.classification import RandomForestClassifier\n",
    "\n",
    "#create model\n",
    "rf = RandomForestClassifier(labelCol=\"Cover_Type\", featuresCol=\"featureVector\", predictionCol=\"prediction\")\n",
    "\n",
    "# train model with train data\n",
    "model = rf.fit(assembledTrainData)"
   ]
  },
  {
   "cell_type": "code",
   "execution_count": 53,
   "metadata": {},
   "outputs": [
    {
     "name": "stdout",
     "output_type": "stream",
     "text": [
      "0.6722667355905919\n",
      "0.6415333743553542\n",
      "CPU times: user 68.6 ms, sys: 18.8 ms, total: 87.4 ms\n",
      "Wall time: 26.3 s\n"
     ]
    }
   ],
   "source": [
    "%%time\n",
    "from pyspark.ml.evaluation import MulticlassClassificationEvaluator\n",
    "\n",
    "evaluator = MulticlassClassificationEvaluator(labelCol=\"Cover_Type\", predictionCol=\"prediction\")\n",
    "\n",
    "# transform test data using the fitted model\n",
    "predictions = model.transform(assembledTestData)\n",
    "\n",
    "print(evaluator.setMetricName(\"accuracy\").evaluate(predictions))\n",
    "print(evaluator.setMetricName(\"f1\").evaluate(predictions))"
   ]
  },
  {
   "cell_type": "markdown",
   "metadata": {},
   "source": [
    "## SVM"
   ]
  },
  {
   "cell_type": "code",
   "execution_count": 54,
   "metadata": {},
   "outputs": [],
   "source": [
    "assembledTrainDataBinary = assembledTrainData.where(\"Cover_Type = 1 or Cover_Type = 2\")\n",
    "assembledTestDataBinary = assembledTestData.where(\"Cover_Type = 1 or Cover_Type = 2\")"
   ]
  },
  {
   "cell_type": "code",
   "execution_count": 55,
   "metadata": {},
   "outputs": [],
   "source": [
    "from pyspark.sql.types import DoubleType\n",
    "from pyspark.sql.functions import udf\n",
    "\n",
    "def convertTo01(value):\n",
    "    if value == 1.0: label=0.0\n",
    "    else: label=1.0\n",
    "    return float(label)\n",
    "\n",
    "convertTo01_udf = udf(convertTo01, DoubleType())\n",
    "assembledTrainDataBinary = assembledTrainDataBinary.withColumn(\"label\", convertTo01_udf(assembledTrainDataBinary[\"Cover_Type\"]))\n",
    "assembledTestDataBinary = assembledTestDataBinary.withColumn(\"label\", convertTo01_udf(assembledTestDataBinary[\"Cover_Type\"]))"
   ]
  },
  {
   "cell_type": "code",
   "execution_count": 56,
   "metadata": {},
   "outputs": [
    {
     "name": "stdout",
     "output_type": "stream",
     "text": [
      "CPU times: user 2.62 s, sys: 979 ms, total: 3.6 s\n",
      "Wall time: 30min 54s\n"
     ]
    }
   ],
   "source": [
    "%%time\n",
    "# load library\n",
    "from pyspark.ml.classification import LinearSVC\n",
    "#create model\n",
    "svm = LinearSVC(labelCol=\"label\", featuresCol=\"featureVector\")\n",
    "# train model with train data\n",
    "model = svm.fit(assembledTrainDataBinary)"
   ]
  },
  {
   "cell_type": "code",
   "execution_count": 57,
   "metadata": {},
   "outputs": [
    {
     "data": {
      "text/plain": [
       "DenseVector([-0.0005, -0.0, 0.0105, 0.0001, 0.0003, -0.0, 0.0035, 0.0047, 0.0013, 0.0, 0.0766, 0.0245, 0.047, 0.3767, 0.0, 0.5592, 0.4037, 0.1198, 0.0, 0.1807, 0.2886, 0.1669, 0.0477, 0.2457, 0.1947, 0.1894, 0.1652, 0.0, 0.0, 0.1517, 0.1368, 0.0321, -1.7001, 0.0874, -1.8943, -1.7477, -1.7179, -1.5856, 0.302, 0.1809, -1.8032, 0.3283, 0.1522, 0.126, 0.0931, 0.1258, 0.0909, 0.1855, -1.8385, 0.1485, 0.0, -1.7567, -1.859, -1.7692])"
      ]
     },
     "execution_count": 57,
     "metadata": {},
     "output_type": "execute_result"
    }
   ],
   "source": [
    "model.coefficients"
   ]
  },
  {
   "cell_type": "code",
   "execution_count": 58,
   "metadata": {
    "scrolled": true
   },
   "outputs": [
    {
     "name": "stdout",
     "output_type": "stream",
     "text": [
      "0.6906042711535351\n",
      "0.6767494856185956\n"
     ]
    }
   ],
   "source": [
    "from pyspark.ml.evaluation import MulticlassClassificationEvaluator\n",
    "# transform test data using the fitted model\n",
    "predictions = model.transform(assembledTestDataBinary)\n",
    "\n",
    "evaluator = MulticlassClassificationEvaluator(labelCol=\"label\", predictionCol=\"prediction\")\n",
    "\n",
    "print(evaluator.setMetricName(\"accuracy\").evaluate(predictions))\n",
    "print(evaluator.setMetricName(\"f1\").evaluate(predictions))"
   ]
  },
  {
   "cell_type": "code",
   "execution_count": 59,
   "metadata": {},
   "outputs": [
    {
     "name": "stdout",
     "output_type": "stream",
     "text": [
      "0.6632417690693648\n"
     ]
    }
   ],
   "source": [
    "from pyspark.ml.evaluation import BinaryClassificationEvaluator\n",
    "predictions = model.transform(assembledTestDataBinary)\n",
    "evaluator = BinaryClassificationEvaluator(labelCol=\"label\", rawPredictionCol=\"prediction\")\n",
    "print(evaluator.evaluate(predictions)) # AUROC"
   ]
  },
  {
   "cell_type": "code",
   "execution_count": null,
   "metadata": {},
   "outputs": [],
   "source": []
  }
 ],
 "metadata": {
  "kernelspec": {
   "display_name": "Python 3",
   "language": "python",
   "name": "python3"
  },
  "language_info": {
   "codemirror_mode": {
    "name": "ipython",
    "version": 3
   },
   "file_extension": ".py",
   "mimetype": "text/x-python",
   "name": "python",
   "nbconvert_exporter": "python",
   "pygments_lexer": "ipython3",
   "version": "3.6.6"
  }
 },
 "nbformat": 4,
 "nbformat_minor": 2
}
