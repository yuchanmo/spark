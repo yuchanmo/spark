{
 "cells": [
  {
   "cell_type": "code",
   "execution_count": 1,
   "metadata": {},
   "outputs": [],
   "source": [
    "import findspark\n",
    "findspark.init()"
   ]
  },
  {
   "cell_type": "code",
   "execution_count": 2,
   "metadata": {},
   "outputs": [],
   "source": [
    "from pyspark.sql import SparkSession\n",
    "spark = SparkSession.builder \\\n",
    "        .master('yarn') \\\n",
    "        .appName('yuchanyuchan') \\\n",
    "        .getOrCreate()\n"
   ]
  },
  {
   "cell_type": "code",
   "execution_count": 3,
   "metadata": {},
   "outputs": [],
   "source": [
    "sc = spark.sparkContext"
   ]
  },
  {
   "cell_type": "code",
   "execution_count": 4,
   "metadata": {},
   "outputs": [
    {
     "data": {
      "text/html": [
       "\n",
       "        <div>\n",
       "            <p><b>SparkContext</b></p>\n",
       "\n",
       "            <p><a href=\"http://ip-172-31-27-54.ap-northeast-2.compute.internal:4042\">Spark UI</a></p>\n",
       "\n",
       "            <dl>\n",
       "              <dt>Version</dt>\n",
       "                <dd><code>v2.4.0</code></dd>\n",
       "              <dt>Master</dt>\n",
       "                <dd><code>yarn</code></dd>\n",
       "              <dt>AppName</dt>\n",
       "                <dd><code>yuchanyuchan</code></dd>\n",
       "            </dl>\n",
       "        </div>\n",
       "        "
      ],
      "text/plain": [
       "<SparkContext master=yarn appName=yuchanyuchan>"
      ]
     },
     "execution_count": 4,
     "metadata": {},
     "output_type": "execute_result"
    }
   ],
   "source": [
    "sc"
   ]
  },
  {
   "cell_type": "code",
   "execution_count": 5,
   "metadata": {},
   "outputs": [],
   "source": [
    "wordcounts = sc.textFile('s3://ssds2/gutenberg.txt')\n"
   ]
  },
  {
   "cell_type": "code",
   "execution_count": 6,
   "metadata": {},
   "outputs": [
    {
     "name": "stdout",
     "output_type": "stream",
     "text": [
      "+----+----+\n",
      "|  _1|  _2|\n",
      "+----+----+\n",
      "|2833| the|\n",
      "|1474|  to|\n",
      "|1454|  of|\n",
      "|1449| and|\n",
      "|1060|   i|\n",
      "| 982|   a|\n",
      "| 810|  in|\n",
      "| 770|that|\n",
      "| 604|  he|\n",
      "| 579| was|\n",
      "| 569| his|\n",
      "| 542| for|\n",
      "| 501|  it|\n",
      "| 489| had|\n",
      "| 480| you|\n",
      "| 448|  as|\n",
      "| 400|have|\n",
      "| 397|with|\n",
      "| 348|  is|\n",
      "| 319|  at|\n",
      "+----+----+\n",
      "only showing top 20 rows\n",
      "\n"
     ]
    }
   ],
   "source": [
    "wordcounts.map(lambda x : x.replace(',','').replace('.','').replace('\\\"\"','').replace('\\'','').lower()) \\\n",
    "           .flatMap(lambda x : x.split()) \\\n",
    "            .map(lambda x : (x,1)) \\\n",
    "            .reduceByKey(lambda x,y : x+y) \\\n",
    "            .map(lambda x : (x[1],x[0])) \\\n",
    "            .sortByKey(False) \\\n",
    "            .toDF() \\\n",
    "            .show()\n"
   ]
  },
  {
   "cell_type": "code",
   "execution_count": 7,
   "metadata": {},
   "outputs": [],
   "source": [
    "p1 = wordcounts.map(lambda x:x.replace(',','').replace('.','').replace('\\'','').replace('\\\"\"','').lower())"
   ]
  },
  {
   "cell_type": "code",
   "execution_count": 8,
   "metadata": {},
   "outputs": [
    {
     "name": "stdout",
     "output_type": "stream",
     "text": [
      "+----+----+\n",
      "|  _1|  _2|\n",
      "+----+----+\n",
      "|2833| the|\n",
      "|1474|  to|\n",
      "|1454|  of|\n",
      "|1449| and|\n",
      "|1060|   i|\n",
      "| 982|   a|\n",
      "| 810|  in|\n",
      "| 770|that|\n",
      "| 604|  he|\n",
      "| 579| was|\n",
      "| 569| his|\n",
      "| 542| for|\n",
      "| 501|  it|\n",
      "| 489| had|\n",
      "| 480| you|\n",
      "| 448|  as|\n",
      "| 400|have|\n",
      "| 397|with|\n",
      "| 348|  is|\n",
      "| 319|  at|\n",
      "+----+----+\n",
      "only showing top 20 rows\n",
      "\n"
     ]
    }
   ],
   "source": [
    "p2 = p1.flatMap(lambda x : x.split())\n",
    "p3 = p2.map(lambda x: (x,1))\n",
    "p4 = p3.reduceByKey(lambda x,y : x+y)\n",
    "p5 = p4.map(lambda x:(x[1],x[0]))\n",
    "p6 = p5.sortByKey(False)\n",
    "d = p6.toDF()\n",
    "d.show()"
   ]
  },
  {
   "cell_type": "code",
   "execution_count": 9,
   "metadata": {},
   "outputs": [
    {
     "name": "stdout",
     "output_type": "stream",
     "text": [
      "3.140536\n"
     ]
    }
   ],
   "source": [
    "import random\n",
    "ns = 1000000\n",
    "def inside(p):\n",
    "    x,y = random.random(),random.random()\n",
    "    return x*x + y*y <1\n",
    "\n",
    "count = sc.parallelize(list(range(0,ns))).filter(inside).count()\n",
    "print(4.0*count/ns)"
   ]
  },
  {
   "cell_type": "code",
   "execution_count": 10,
   "metadata": {},
   "outputs": [
    {
     "name": "stdout",
     "output_type": "stream",
     "text": [
      "The Project Gutenberg EBook of Friday, the Thirteenth, by Thomas W. Lawson\n",
      "\n",
      "This eBook is for the use of anyone anywhere at no cost and with\n",
      "almost no restrictions whatsoever.  You may copy it, give it away or\n",
      "re-use it under the terms of the Project Gutenberg License included\n",
      "with this eBook or online at www.gutenberg.net\n",
      "\n",
      "\n",
      "Title: Friday, the Thirteenth\n",
      "\n"
     ]
    },
    {
     "data": {
      "text/plain": [
       "[None, None, None, None, None, None, None, None, None, None]"
      ]
     },
     "execution_count": 10,
     "metadata": {},
     "output_type": "execute_result"
    }
   ],
   "source": [
    "g = sc.textFile('s3://ssds2/gutenberg.txt')\n",
    "list(map(print,g.take(10)))"
   ]
  },
  {
   "cell_type": "code",
   "execution_count": 11,
   "metadata": {},
   "outputs": [],
   "source": [
    "p = spark.read.option('header','true').option('nullValue','?').option('inferSchema','true').csv"
   ]
  },
  {
   "cell_type": "code",
   "execution_count": 12,
   "metadata": {},
   "outputs": [
    {
     "name": "stdout",
     "output_type": "stream",
     "text": [
      "+-------+\n",
      "|   name|\n",
      "+-------+\n",
      "|Michael|\n",
      "|   Andy|\n",
      "| Justin|\n",
      "+-------+\n",
      "\n",
      "+---+----+\n",
      "|age|name|\n",
      "+---+----+\n",
      "| 30|Andy|\n",
      "+---+----+\n",
      "\n"
     ]
    }
   ],
   "source": [
    "df = spark.read.json('s3://ssds2/people.json')\n",
    "df.select('name').show()\n",
    "df.where('age>21').show()"
   ]
  },
  {
   "cell_type": "code",
   "execution_count": 13,
   "metadata": {},
   "outputs": [
    {
     "name": "stdout",
     "output_type": "stream",
     "text": [
      "total rows : 4881\n",
      "number of lines containing word 'Bob' 364\n"
     ]
    },
    {
     "data": {
      "text/plain": [
       "[Row(contents='\"Friday, the 13th; I thought as much. If Bob has started, there will be'),\n",
       " Row(contents=\"second. It's Bob--that is evident to all. If he keeps up this pace for\"),\n",
       " Row(contents='\"Are you sure, Fred, that this is Bob\\'s work?\" I asked. \"Have you seen'),\n",
       " Row(contents=\"executing Bob's orders, and have been pouring Anti-People's out for an\"),\n",
       " Row(contents='values every few minutes, I was sure this was the work of Bob Brownley.'),\n",
       " Row(contents='minutes. The night before I had passed Bob in the theatre lobby. I gave'),\n",
       " Row(contents=\"flash and snarl, I remembered Bob's ugly mood, and all it portended.\"),\n",
       " Row(contents=\"Fred Brownley was Bob's youngest brother, twelve years his junior. He had\"),\n",
       " Row(contents='year had been our most trusted Stock Exchange man. Bob Brownley, when'),\n",
       " Row(contents='of Bob--and his option during the past five years had been exercised many'),\n",
       " Row(contents='the world, for then Bob knew no kindred, no friends. All the wide world'),\n",
       " Row(contents='Bob Brownley, of Richmond, Va., was graduated with me. He was class poet,'),\n",
       " Row(contents=\"Bob's father, one of the big, white pillars of Southern aristocracy, had\"),\n",
       " Row(contents='small son dependent upon Bob, his eldest.'),\n",
       " Row(contents=\"Many a warm summer's afternoon, as Bob and I paddled down the Charles, and\"),\n",
       " Row(contents='the great banking business of Randolph & Randolph, and Bob was eventually'),\n",
       " Row(contents='in an office,\" Bob used to say, \"and the floor of the Stock Exchange is'),\n",
       " Row(contents=\"were over my able had saddled Bob's youth with the heavy responsibilities\"),\n",
       " Row(contents='\"Jim, you and Bob have fairly outdone my expectations. I have had my eye'),\n",
       " Row(contents='learn his way round so he can step into my shoes; you, Bob, to take one of'),\n",
       " Row(contents=\"Bob's face went red and then pale with happiness as he reached for my\"),\n",
       " Row(contents='\"Speak up here, Bob,\" said my father.'),\n",
       " Row(contents='I knew what Bob meant; so did father, and we were glad enough to do what'),\n",
       " Row(contents='Bob Brownley entered the Stock Exchange he had paid back the forty'),\n",
       " Row(contents='thousand yearly earnings cast an uncertain shadow at Christmas time. Bob'),\n",
       " Row(contents='Once more I begged Bob to come into the firm.'),\n",
       " Row(contents='He laughed, and I laughed too. Bob was looked upon by all his friends as a'),\n",
       " Row(contents=\"Bob's orbit but had felt that fascination, delicious to all women, in the\"),\n",
       " Row(contents='I knew what marriage was for--never tired of saying, \"Poor Bob! He\\'s'),\n",
       " Row(contents=\"Bob's handsome head was thrown back; his thin nostrils dilated as though\"),\n",
       " Row(contents=\"gambling tempter of Bob's. Once in a poker game in our rooms, when a crowd\"),\n",
       " Row(contents='at Bob until with a yell he left his usually well-leaded feet and'),\n",
       " Row(contents=\"frightened me, whose allowance was dollars to Bob's cents, at the sum\"),\n",
       " Row(contents='Bob that day, while he tried to tell me that the business of Randolph &'),\n",
       " Row(contents='But it was habit with me to let Bob have his way, and I did not press him'),\n",
       " Row(contents='slipping along as well as either Bob or I could have asked, I was'),\n",
       " Row(contents='It was a beautiful July Saturday noon and Bob and I had just \"packed up\"'),\n",
       " Row(contents='food and the good air of all outdoors?\" growled Bob. Then he said, \"Show'),\n",
       " Row(contents='Bob bowed.'),\n",
       " Row(contents='\"Of the Judge Lee Sands\\'s?\" asked Bob, as he held out his hand.'),\n",
       " Row(contents='at Bob in my office that long-ago noon, gracefully at ease in a suit of'),\n",
       " Row(contents='interfere with the outing Bob Brownley and I had laid out, and who was'),\n",
       " Row(contents=\"thought must have been Bob's too, for his eyes were riveted on her face.\"),\n",
       " Row(contents='\"Step into my office, Miss Sands, and all my time is yours,\" said Bob, as'),\n",
       " Row(contents='wait for Bob in the general office, and it was a long wait. Thirty minutes'),\n",
       " Row(contents='went into an hour and an hour into two before Bob and Miss Sands came out.'),\n",
       " Row(contents='ideas.\" After lunch, on the bow end of the upper deck Bob relieved'),\n",
       " Row(contents='Bob Brownley had got to his feet; he was slipping the shackles of that'),\n",
       " Row(contents=\"trumpet, 'Bob, don't forget, when you're a man, that the goal is honour,\"),\n",
       " Row(contents=\"they said, 'You are well on the road, Bob Brownley, and in time your heart\"),\n",
       " Row(contents='Bob had worked himself into a state of frenzy. I had never seen him so'),\n",
       " Row(contents='\"For heaven\\'s sake, Bob, pull yourself together,\" I urged. \"The captain on'),\n",
       " Row(contents=\"Bob's hysteria oozed. He dropped on the rail-seat at my side.\"),\n",
       " Row(contents='a question of minutes until Bob would be his clearheaded self.'),\n",
       " Row(contents='Bob in his enthusiasm had completely lost sight of the fact that he was'),\n",
       " Row(contents='Inevitably, if the project he outlined were carried out, Bob and the'),\n",
       " Row(contents='appealed to me almost as strongly as it had to Bob. So, although I knew it'),\n",
       " Row(contents='\"Bob, I don\\'t blame you for falling in with the girl\\'s plans. If I were in'),\n",
       " Row(contents=\"Tears came to Bob's eyes as he grabbed my hand and said:\"),\n",
       " Row(contents='It was no time to give way to emotional outbursts, and while Bob was'),\n",
       " Row(contents='\"Come along down to earth now, Bob; let us look at this thing squarely.'),\n",
       " Row(contents=\"and Bob's. She had not been there a day before we knew she was a worker.\"),\n",
       " Row(contents='whose accounts she had kept. Bob and I saw that she was bent on smothering'),\n",
       " Row(contents='office life was simplicity itself. She spoke to no one except Bob, save in'),\n",
       " Row(contents=\"that I rightly guessed was one of Bob's delicate ways of smoothing out her\"),\n",
       " Row(contents='herself. Bob explained to me, some three weeks after she came to the'),\n",
       " Row(contents='But from the day she came to occupy her desk in our office, Bob was a'),\n",
       " Row(contents='guessed that Bob was staggering under a strange load. While before, from'),\n",
       " Row(contents='Bob Brownley did not know he was in the stock business. Formerly every'),\n",
       " Row(contents='clerk knew when Bob came or went, for it was with a rush, a shout, a'),\n",
       " Row(contents='his path, Bob Brownley was a man who was thinking, thinking, thinking all'),\n",
       " Row(contents='the saying occupied much time it would be apparent to the talker that Bob'),\n",
       " Row(contents=\"over Bob's mental rails and ditches, though I did not know it from\"),\n",
       " Row(contents=\"friend's nature, did not surprise me. I foresaw from the first that Bob\"),\n",
       " Row(contents='presence was the Bob Brownley of old. He would be in and out all day on'),\n",
       " Row(contents='all the rest of us. I had not attempted to say a word to Bob about his'),\n",
       " Row(contents='noted an increasing anxiety in Bob. He had opened a special account for'),\n",
       " Row(contents='1st was almost four hundred thousand dollars. On some of the trades Bob'),\n",
       " Row(contents='profit of a quarter of a million, but when Bob told her what I had done,'),\n",
       " Row(contents='neither of us dared help her to any short cuts. Bob was deeply impressed'),\n",
       " Row(contents='made up my mind to avoid stirring Bob up unnecessarily. Also, I had to'),\n",
       " Row(contents='best broker on the floor. However, knowing Bob as I did, I could not get'),\n",
       " Row(contents='Shortly after the October 1st statements had been sent out, Bob dropped'),\n",
       " Row(contents='\"You\\'ve got that right, Bob.\"'),\n",
       " Row(contents='Bob was afire with enthusiasm, the first I had seen him show for three'),\n",
       " Row(contents='\"Don\\'t say anything more, Bob,\" I replied. \"This time the rule goes by the'),\n",
       " Row(contents='was opposed to stock gambling, but I saw how Bob had worked it out, and'),\n",
       " Row(contents='Bob knew how I looked at his proposed deal and ordinarily would not have'),\n",
       " Row(contents='Next day Sugar was lively on the Exchange. Bob bought all in sight and'),\n",
       " Row(contents='Sands had 20,000 shares, which averaged her 115; Bob and I had 30,000 at'),\n",
       " Row(contents='looked as though the shares were good for the figures set for them by Bob,'),\n",
       " Row(contents=\"$175, at which price the Sands's profits would be $1,200,000. Bob was\"),\n",
       " Row(contents='Bob rushed the talk along, flitting from one point to another, but'),\n",
       " Row(contents='chair and tears rolled down his cheeks Poor, poor Bob, strong as a lion in'),\n",
       " Row(contents='open wild, and then, too, I wanted to be handy if Bob should need any'),\n",
       " Row(contents=\"in that crowd was calm, but Bob Brownley was the calmest of them all. It's\"),\n",
       " Row(contents=\"known, Bob's chances of success would have been on par with a Canadian\"),\n",
       " Row(contents=\"men realise their success or their failure. I picked Bob's magnificently\"),\n",
       " Row(contents='the form of Bob, his face cold and expressionless as an iceberg. In five'),\n",
       " Row(contents='I could see by the few entries Bob was making on his pad that he had been'),\n",
       " Row(contents='Suddenly the lull was broken. Bob\\'s voice rang out again--\"153 for any'),\n",
       " Row(contents='that Sugar was 160 bid. Then Bob worked his way out of the crowd, and'),\n",
       " Row(contents='I went back to the office. In a few minutes Bob without a word strode'),\n",
       " Row(contents='study. Her heart was evidently swaying and tugging with the news Bob had'),\n",
       " Row(contents='deal,\" Bob began. \"I want to know if you both agree with me on adhering to'),\n",
       " Row(contents='Bob went back to the Exchange and I into my office. Bob had been right'),\n",
       " Row(contents='steady. Presently Bob was back and we sat down again.'),\n",
       " Row(contents='rushed for some water while Bob seized both her hands, but in an instant'),\n",
       " Row(contents='She turned her big eyes full upon Bob, filled with a light such as can'),\n",
       " Row(contents=\"Sharp and shrill rang Bob's Exchange telephone. The ring seemed shriller;\"),\n",
       " Row(contents='it certainly was longer than usual. Bob jumped for the receiver.'),\n",
       " Row(contents='I sprang for Bob\\'s telephone: \"Perkins, quick!\" \"What are they doing,'),\n",
       " Row(contents='Bob when he gets there. He is on the way.\"'),\n",
       " Row(contents='out for blood. Bob has exhausted his buying power, and though I tell you'),\n",
       " Row(contents=\"this deal only for Bob--and for you--I swear I don't intend to let them\"),\n",
       " Row(contents='Ordinarily I would defer to your wishes, but I love Bob Brownley only'),\n",
       " Row(contents=\"If they should turn Bob over in this deal, he--well, they're not going to,\"),\n",
       " Row(contents='other man on the floor against him. I understood: Bob against them'),\n",
       " Row(contents='the rail--not the Bob of the morning; not a vestige of that cold,'),\n",
       " Row(contents='eyes were fairly mad. Bob was no longer a human being, but a monarch of'),\n",
       " Row(contents='facing Bob, was Barry Conant--very slight, very short, a marvellously'),\n",
       " Row(contents='to Barry Conant. Here was Bob thundering with terrific emphasis \"78 for'),\n",
       " Row(contents='\"Sold\" met Bob\\'s every retreating bid. It was a battle royal--a king on'),\n",
       " Row(contents='trend of their battle. All knew that if Bob should be beaten down by this'),\n",
       " Row(contents='none could say how low. But if Bob should play him to a standstill by'),\n",
       " Row(contents=\"Randolph & Randolph were usually behind Bob's big operations; this was\"),\n",
       " Row(contents='As Bob made his bid \"72 for 5,000,\" and got it, I saw a quick flash of'),\n",
       " Row(contents=\"happened I would go no further. Just then Bob's wild eye caught mine, and\"),\n",
       " Row(contents='through. As Bob caught the sign, he threw his head back and bellowed a'),\n",
       " Row(contents=\"day before by Bob's uplift.\"),\n",
       " Row(contents='Poor Bob, he was forgotten! An instant after he made his last effort he'),\n",
       " Row(contents=\"night at Delmonico's and the clubs, these men would moan for poor Bob;\"),\n",
       " Row(contents=\"spread over Bob's face; and then in a flash he was the Bob Brownley who I\"),\n",
       " Row(contents='panics seemed now to have no interest for Bob. He pushed his way through'),\n",
       " Row(contents=\"Bob's bitterness was terrible. My heart was torn as I listened. He stalked\"),\n",
       " Row(contents='they took in Bob, his grim, set face, the defiant, sullen desperation of'),\n",
       " Row(contents='admiring for three months, and stood facing Bob. She did not seem to see'),\n",
       " Row(contents='\"Bob.\"'),\n",
       " Row(contents=\"room. The look of desperation faded from Bob's face, and as though the\"),\n",
       " Row(contents='the one syllable, \"Bob.\" And at that Bob\\'s self-control slipped the'),\n",
       " Row(contents='is little to tell,\" Bob answered. \"Camemeyer and \\'Standard Oil\\' have'),\n",
       " Row(contents='Wishing to spare Bob, I interrupted and myself gave the girl briefly the'),\n",
       " Row(contents='she suffered. As soon as I was through she turned to Bob, who had stood'),\n",
       " Row(contents=\"suffering more than either of us, that she was only acting to ease Bob's\"),\n",
       " Row(contents='anguish. Bob brought out his memoranda, and in half an hour we had the'),\n",
       " Row(contents='20,000 shares had cost less than ours and Bob figured to leave her capital'),\n",
       " Row(contents='figuring with the keenness of an expert, and when Bob announced the final'),\n",
       " Row(contents='Though Bob and I were in despair at her determination to strip herself of'),\n",
       " Row(contents='what Bob had worked so hard to accumulate, we could not help feeling a'),\n",
       " Row(contents='hand to Bob. \"Mr. Brownley, please, for the sake of the work we have to'),\n",
       " Row(contents='Bob took me into his office. \"Jim, you see what a woman can do, and we are'),\n",
       " Row(contents='had been through. I did not feel easy with Bob out of sight while he was'),\n",
       " Row(contents='over the affair, but when I told her that Bob was to be gone for a week'),\n",
       " Row(contents='The following week Bob returned to the office. He had not changed, and yet'),\n",
       " Row(contents='optimistic, soft-hearted Bob Brownley I had known and loved. I could not'),\n",
       " Row(contents=\"Bob's soul a week before had affected his whole being. I think Beulah\"),\n",
       " Row(contents=\"For days after Bob's return I saw little of him. I think Beulah Sands saw\"),\n",
       " Row(contents='fellow members began to humour and respect it. They all knew that Bob had'),\n",
       " Row(contents='for a meeting between Bob and myself in her office. She could hardly have'),\n",
       " Row(contents='asked Bob to come without me, but I knew it was Bob she wanted to see, and'),\n",
       " Row(contents=\"I made some excuse for a moment's delay at my desk, telling Bob to go on\"),\n",
       " Row(contents='and Bob sat so that his back was half toward me. \"I dislike to trouble you'),\n",
       " Row(contents='\"Miss Sands, I understand what you mean,\" Bob broke in, \"and I should'),\n",
       " Row(contents='moment held my eyes as if I had been fascinated. It was Bob bowed forward'),\n",
       " Row(contents='Sands, her arms about his neck, his head drawn down to her bosom. \"Bob,'),\n",
       " Row(contents='Bob,\" she said chokingly, \"I cannot stand it any longer. My heart is'),\n",
       " Row(contents='a longing to tell you, to tell you, Bob----\"'),\n",
       " Row(contents='\"Bob, forgive me, but I love you, love you, Bob, as only a woman can love'),\n",
       " Row(contents='who has never known love before, never known anything but stern duty. Bob,'),\n",
       " Row(contents='would bring back to you the happiness I had stolen. Bob, I have suffered,'),\n",
       " Row(contents=\"hour-long. Then in Bob's voice came one low sob of joy:\"),\n",
       " Row(contents='the door. But again I saw a picture that transfixed me. Bob had taken'),\n",
       " Row(contents='wife, Bob bent his head and kissed her forehead. Again and again he drew'),\n",
       " Row(contents='they turned and stared at me. At last Bob gave a long deep sigh, then one'),\n",
       " Row(contents='made but little headway on the work she had come North to accomplish. Bob'),\n",
       " Row(contents='manner. But there was one point on which Bob showed he was holding back. I'),\n",
       " Row(contents='finally put it to him bluntly: \"Bob, are you working out anything that'),\n",
       " Row(contents='Bob going along in the cab with Miss Sands.'),\n",
       " Row(contents='Bob had listened, but made no comment until she was through; then he said,'),\n",
       " Row(contents='After our talk with Beulah Sands I begged Bob to dine with me and go over'),\n",
       " Row(contents='\"I don\\'t know what you mean, Bob. What are you driving at?\"'),\n",
       " Row(contents='\"I don\\'t follow you, Bob. I know that Barry Conant was able to do this'),\n",
       " Row(contents='\"Bob, what are you talking about? It is all Chinese to me. I cannot get'),\n",
       " Row(contents='Others than Ike Bloomstein remarked upon the fact that Bob Brownley had'),\n",
       " Row(contents='Bob had not been near the office the afternoon before, and as he had not'),\n",
       " Row(contents=\"I was not surprised to see Bob's tall form wedged in the crowd about\"),\n",
       " Row(contents='turkey money, perhaps to get as near the killing as possible. Bob was not'),\n",
       " Row(contents='It was Bob. He had worked his way to the centre of the crowd and stood in'),\n",
       " Row(contents=\"front of Barry Conant. He was not the Bob who had taken Barry Conant's\"),\n",
       " Row(contents=\"The effect upon Barry Conant was different from that of Bob's last bid on\"),\n",
       " Row(contents=\"day before, when he had wondered what Bob's presence in the crowd meant,\"),\n",
       " Row(contents='and that he saw again the picture of Bob on the day when he himself had'),\n",
       " Row(contents=\"ditched Bob's treasure-train. He hesitated for just the fraction of a\"),\n",
       " Row(contents='for 5,000,\" Cold, cold as the voice of a condemning judge rang Bob\\'s'),\n",
       " Row(contents=\"fixed upon each other, in Barry's a defiant glare, in Bob's mingled pity\"),\n",
       " Row(contents='\"25 for 5,000.\" That Bob saw the pallor, that he caught the quiver, was'),\n",
       " Row(contents='question until Bob allowed his voice to dwell just a pendulum swing of'),\n",
       " Row(contents='was yet on his lips when Bob\\'s deep voice rang out \"Sold.\" \"Any part of'),\n",
       " Row(contents='life or death verdict. They all knew that Bob had sold more than a hundred'),\n",
       " Row(contents=\"Indeed, Bob's was the only one in the centre of that throng that showed no\"),\n",
       " Row(contents='lieutenants bid 67 for 500, another 67 for 300, and as Bob had not yet'),\n",
       " Row(contents='heard all over the crowd. Bob might have been tossing a mental coin to'),\n",
       " Row(contents='mortally wounded but still game general\\'s \"Sound the retreat.\" Bob heard'),\n",
       " Row(contents=\"to have concluded that Bob's renewal of attack meant that his was the\"),\n",
       " Row(contents='Bob had started caused further frantic selling, and, as though every'),\n",
       " Row(contents='I watched Bob closely; in fact, it was impossible for me to take my eyes'),\n",
       " Row(contents=\"the tumult rose Bob Brownley's voice. He must have been standing on his\"),\n",
       " Row(contents='Bob had been sold all the 25,000 he had bid for. Again his voice rang out:'),\n",
       " Row(contents='panic on the up side as there had been on the down. Bob Brownley continued'),\n",
       " Row(contents='nightmare. Bob, in the name of God what have you been doing?\"'),\n",
       " Row(contents=\"As I passed through my office a few minutes later I heard Bob's voice in\"),\n",
       " Row(contents=\"the door of Beulah Sands's office. Bob was standing just inside the\"),\n",
       " Row(contents='\"Bob, in mercy\\'s name tell me you got this money fairly, honourably.\"'),\n",
       " Row(contents='Bob must have realised for the first time what he had done. He did not'),\n",
       " Row(contents='\"Bob, you are unnerved,\" she said; \"you have been through a terrible'),\n",
       " Row(contents='joy, my gratitude, my love--for, oh, Bob, I love you,\" she interrupted'),\n",
       " Row(contents='miseries of eternal torture. Yes, Bob, for the right to have you call me'),\n",
       " Row(contents='yours for only while I heard the word, I would do anything, Bob, anything'),\n",
       " Row(contents='\"Bob, speak to me, speak to me,\" she begged, \"tell me there was no'),\n",
       " Row(contents='or dishonourable that you have done. Bob, oh, Bob, answer! Answer no, or'),\n",
       " Row(contents='my heart will break; or if, Bob, you have made a mistake, if you have done'),\n",
       " Row(contents='justifiable, but which you now see was wrong, tell it to me, Bob dear, and'),\n",
       " Row(contents='undo this great wrong. And then, Bob, we will be married, and you and I'),\n",
       " Row(contents='I overtook Bob just outside the office. I did not speak to him, for I'),\n",
       " Row(contents='Asterfield National a suicide.\" Bob gave no sign of hearing. He strode'),\n",
       " Row(contents='buzz. Bob saw none. Where could he be going? He came to the head of the'),\n",
       " Row(contents=\"Bob Brownley's mind only his Maker knew. For minutes he stood motionless,\"),\n",
       " Row(contents='whose clothes told of the immigrant ship just into port. Bob Brownley'),\n",
       " Row(contents='stenographer, Bessie Brown, to Bob, he told me of the incident at the'),\n",
       " Row(contents='into the street by her landlord. I saw Bob take from his pocket his'),\n",
       " Row(contents='paper again and at the retreating form of Bob Brownley. Then I saw her,'),\n",
       " Row(contents='know. I only know that as I followed Bob I looked back and the woman was'),\n",
       " Row(contents='Brown came to our office to see Bob. Not being able to get at him she'),\n",
       " Row(contents='From the Battery Bob sought the wharves, the Bowery, Five Points, the'),\n",
       " Row(contents=\"outcome might depend Bob's salvation. Some seek the quiet of the woods,\"),\n",
       " Row(contents=\"battling for their soul, but Bob's woods appeared to be the shadowy places\"),\n",
       " Row(contents='again approached the office of Randolph & Randolph. Bob was now moving'),\n",
       " Row(contents=\"Bob went straight to Beulah Sands's office, I to mine. I had been there\"),\n",
       " Row(contents='figure that had grown to be such a familiar picture to Bob and me of late,'),\n",
       " Row(contents='evidently been reading when Bob entered. God knows how long she had been'),\n",
       " Row(contents='reading it before he came. Bob was kneeling at the side of her chair, his'),\n",
       " Row(contents=\"turned her face until her eyes gazed into Bob's with a sweet, childish\"),\n",
       " Row(contents=\"across my now damp forehead. I closed my eyes and opened them again. Bob's\"),\n",
       " Row(contents=\"hand from the paper and passed it over Bob's bronzed cheek, just as the\"),\n",
       " Row(contents=\"The awful groaning stopped and an ashen pallor spread over Bob Brownley's\"),\n",
       " Row(contents='Bob Brownley, too, had gone beyond his limit. I bent over him and lifted'),\n",
       " Row(contents='\"Bob, my Bob, wake up, wake up; your Beulah wants you.\" As I placed my'),\n",
       " Row(contents=\"hand upon Bob's heart and felt its beats grow stronger, as I listened to\"),\n",
       " Row(contents=\"of God and nature, is that of compensation. I had allowed Bob's head to\"),\n",
       " Row(contents='Bob slept. Beulah Sands ceased her calling and with a smile raised her'),\n",
       " Row(contents='fingers to her lips and softly said, \"Hush, my Bob\\'s asleep.\" Together we'),\n",
       " Row(contents=\"great beyond? How long we waited Bob's awakening I could not tell. The\"),\n",
       " Row(contents='\"There, Bob, I thought you would know it was time to wake up.\" She bent'),\n",
       " Row(contents='\"Why, Bob, my Bob, is this the way you treat your Beulah when she\\'s let'),\n",
       " Row(contents='Naughty, naughty Bob.\"'),\n",
       " Row(contents='I looked at her, at Bob, in horror. I was beginning to realise the'),\n",
       " Row(contents='At the sound of \"wedding,\" \"church,\" Bob\\'s head slowly rose from her'),\n",
       " Row(contents='child, \"Yes, Beulah, my darling, I have slept too long. Bob has been'),\n",
       " Row(contents='Bob Brownley had thought himself in hard luck when his eyes opened to the'),\n",
       " Row(contents=\"satisfied, because--he must be. Bob's strong head bowed, his iron will\"),\n",
       " Row(contents='childish smile as she snuggled closer to Bob.'),\n",
       " Row(contents='Bob and his bride went South to his mother and sisters the next day. He'),\n",
       " Row(contents='I could not for the life of me see where Bob Brownley could have got five'),\n",
       " Row(contents=\"Bob left his wife at his mother's house while he went to Sands Landing to\"),\n",
       " Row(contents=\"been trustee. Before he went back to his mother's, Bob had turned a great\"),\n",
       " Row(contents=\"Two days after the funeral Bob's dearest hope fled. He had ordered all\"),\n",
       " Row(contents='by every means in their power to coax back her lost mind. They assured Bob'),\n",
       " Row(contents='would not be a memory-recaller missing. Bob and his wife landed from the'),\n",
       " Row(contents=\"landing to the vine-covered, white-pillared portico. Bob's agony must have\"),\n",
       " Row(contents='exclaimed, \"Oh, Bob, what a pretty place!\" She gave no sign that she had'),\n",
       " Row(contents=\"babyhood. Bob took her to the library, to her mother's room, to her own,\"),\n",
       " Row(contents='Bob brought her back to New York and besought the aid of the medical'),\n",
       " Row(contents='that one was too terrible for Bob to entertain.'),\n",
       " Row(contents='The first anniversary of their marriage found Bob and his wife settled in'),\n",
       " Row(contents='drawing-rooms, library, and dining-room. Bob said to me, in taking me'),\n",
       " Row(contents=\"duplicates of mine, Bob's, and Beulah Sands's at Randolph & Randolph's.\"),\n",
       " Row(contents='taken place. Bob had reproduced to the minutest details our down-town'),\n",
       " Row(contents=\"the side of the chair in search of Bob's agonised face and uplifted hands.\"),\n",
       " Row(contents=\"As I stood for the first time in the middle of Bob's handiwork, I seemed\"),\n",
       " Row(contents='\"Jim,\" Bob said, \"I have a haunting idea that some day Beulah will wake'),\n",
       " Row(contents='went to Bob and throwing her arms about his neck, covered his face with'),\n",
       " Row(contents='\"Good Bob has come back to play with Beulah,\" she said, \"She knew he'),\n",
       " Row(contents='would. They told Beulah Bob had gone away to the woods to gather pretty'),\n",
       " Row(contents='flowers. Beulah knew if Bob had gone to the woods he would have taken'),\n",
       " Row(contents='Beulah with him. Now Bob must play school with Beulah.\" She sat at her'),\n",
       " Row(contents='\"Bob, c-a-t. What does it spell?\" For half an hour Bob sat and played'),\n",
       " Row(contents=\"For the first year of Bob's marriage we saw but little of him at the\"),\n",
       " Row(contents='\"The Street\" knew Bob had married the daughter of Judge Lee Sands, the'),\n",
       " Row(contents='thought Bob a lucky fellow. It seemed quite natural that his wife should'),\n",
       " Row(contents='figure beside Bob in the victoria should always be garbed in gray. After a'),\n",
       " Row(contents=\"while it was whispered that there was something wrong in Bob's household.\"),\n",
       " Row(contents='Shortly after the first anniversary of his wedding Bob gave up his office'),\n",
       " Row(contents=\"Strange stories of Bob's doings began to seep into my office. For long\"),\n",
       " Row(contents='the strike of the gong Bob took possession of the Union Pacific pole and'),\n",
       " Row(contents='with Reinhart and his crowd. As soon as I got word that Bob was the cause'),\n",
       " Row(contents='and stocks were bounding upward two to five points at a leap. Bob'),\n",
       " Row(contents='I looked at him in wonderment. \"Bob, I cannot understand you,\" I said at'),\n",
       " Row(contents='tangled curls, and here and there showed a streak of white. Bob Brownley'),\n",
       " Row(contents='Bob Brownley laughed a horrible ringing laugh as he uttered these awful'),\n",
       " Row(contents='vent to the feelings that consumed me. \"Kate, Bob will surely do something'),\n",
       " Row(contents='anniversary of the Sands tragedy, Bob carried the Exchange to the verge of'),\n",
       " Row(contents='up money rates to 150 per cent, and a crash seemed inevitable, Bob'),\n",
       " Row(contents='in making this last try. I rushed back to him. \"Bob, good-bye,\" I'),\n",
       " Row(contents=\"the haunted depths of Bob's eyes that day.\"),\n",
       " Row(contents=\"but as I said, 'Bob is going to kill Beulah and himself,' she laughed that\"),\n",
       " Row(contents=\"sweet child's laugh and clapping her hands said, 'Bob is so good to play\"),\n",
       " Row(contents='Shortly after this talk Bob left for Europe with Beulah. A great German'),\n",
       " Row(contents='Bob was the same hopelessly desperate man as when he left, more hopeless,'),\n",
       " Row(contents=\"Since Bob's return from Europe I had seen him but a few times. Up to\"),\n",
       " Row(contents='Brownley\\'s voice. \"Things are frightful here. Bob\\'s brokers are selling'),\n",
       " Row(contents=\"Anti-People's and that it is unlimited, but Bob has the Reinhart crowd\"),\n",
       " Row(contents=\"going over to get Bob himself to face Barry Conant. They're down twenty\"),\n",
       " Row(contents=\"in that Bob, under cover of a general attack, is unloading Anti-People's\"),\n",
       " Row(contents=\"to-morrow night? If Bob breaks through Anti-People's peg, it will be the\"),\n",
       " Row(contents='\"All right, Fred,\" I answered. \"I will go over to Bob\\'s right now. I hate'),\n",
       " Row(contents=\"I dropped the receiver and started for Bob's office. As I went through his\"),\n",
       " Row(contents=\"I rapped on Bob's private-office door. I felt the coming struggle as I\"),\n",
       " Row(contents='terrific figure. Had Bob Brownley been an enemy of mine I should have'),\n",
       " Row(contents='cowardice. Inwardly I thanked God that Bob was in his office instead of on'),\n",
       " Row(contents='hoarse, but it had a metallic ring that went to my marrow. Bob Brownley in'),\n",
       " Row(contents='loved Bob Brownley. I would have done anything to make him happy, would'),\n",
       " Row(contents='others, but this madman, this wild brute, was no more Bob Brownley as I'),\n",
       " Row(contents='trying to think of nothing but his awful misery and the Bob of our college'),\n",
       " Row(contents='I said in a firm voice, \"Bob, is this the way to talk to me in your own'),\n",
       " Row(contents='for the doorknob, but before I could swing the door open Bob was upon me'),\n",
       " Row(contents='Bob, and I dropped my head on my hands and wept. It is hard to admit it,'),\n",
       " Row(contents=\"Bob's towering figure was in front of me. His head had fallen forward, and\"),\n",
       " Row(contents='\"Bob, my dear old chum, Bob, forgive me. For God\\'s sake, forgive me for'),\n",
       " Row(contents='They had been gathering for minutes while Bob talked in his low, sad tone,'),\n",
       " Row(contents='Bob went to the door. The office was in an uproar. Twenty or thirty of'),\n",
       " Row(contents=\"Bob's brokers were there, aghast at not getting a reply to their calls.\"),\n",
       " Row(contents='Many more were pouring in through the outer office. Bob looked at them'),\n",
       " Row(contents='the kind that Bob Brownley employed on panic days, but his coolness'),\n",
       " Row(contents='man why Bob had ignored his wires--guessed that I had been pleading for'),\n",
       " Row(contents='Bob listened as if he had been a master at the wheel in a gale, receiving'),\n",
       " Row(contents='The Governing Committee was holding a meeting in its room. Bob rushed in'),\n",
       " Row(contents='Bob Brownley strode to the place just vacated by the president. The crowd'),\n",
       " Row(contents='to time, as Bob Brownley poured forth his shot and shell of deadly logic,'),\n",
       " Row(contents='Bob Brownley paused and looked down into the faces of the breathless'),\n",
       " Row(contents='Bob Brownley paused and let his eyes sweep his dumfounded audience. There'),\n",
       " Row(contents='out, \"Barry Conant.\" The wiry form of Bob\\'s old antagonist leaped to the'),\n",
       " Row(contents='standing.\" Bob had kept his eye on the great clock; as the last word'),\n",
       " Row(contents='assistants, who, when Bob Brownley called for Conant, had gathered around'),\n",
       " Row(contents=\"wisdom for any man on the floor to see that Bob Brownley's seed had fallen\"),\n",
       " Row(contents='The instant after the gong sounded Bob Brownley was alone on the floor at'),\n",
       " Row(contents=\"during Bob's harangue been vainly endeavouring to beat his way through the\"),\n",
       " Row(contents='crowd, was there first. \"For God\\'s sake, Bob, hear me. Word came from your'),\n",
       " Row(contents='that sees the arena walls go down, Bob rushed out through the nearest'),\n",
       " Row(contents='\"In the name of Christ, Bob, be careful,\" I yelled, as he hurled the iron'),\n",
       " Row(contents='its wheels. Bob Brownley heard not their screams, heard not the curses of'),\n",
       " Row(contents=\"answering a call. I thanked God again and again as I yelled into Bob's\"),\n",
       " Row(contents='ear, \"For Beulah\\'s sake, Bob, don\\'t pass; if you do, we\\'ll run into a'),\n",
       " Row(contents='As our automobile jumped across Fourteenth Street into Fourth Avenue, Bob'),\n",
       " Row(contents='follow in our wake. Bob was dead to all we passed. His entire being seemed'),\n",
       " Row(contents='swaying car to Forty-second Street! Bob seemed to be performing the'),\n",
       " Row(contents='not come. Surely the new world Bob was speeding to must be a kind one,'),\n",
       " Row(contents='dense jam of cars, teams, and carriages blocked the crossing. Bob must'),\n",
       " Row(contents='and a dray. It had not stopped when Bob was off and up the avenue like a'),\n",
       " Row(contents=\"bystanders stared in wonder. As we neared Bob's house I could see people\"),\n",
       " Row(contents='on the stoop. I heard Bob\\'s secretary shout, \"Thank God, Mr. Brownley, you'),\n",
       " Row(contents='her for fear she would ask questions. I have\"--but Bob was up the stairs'),\n",
       " Row(contents=\"prayer as his Maker touched the bell. Bob Brownley's great brown eyes were\"),\n",
       " Row(contents='What did \"Bob\" hear when he picked up the receiver. Impossible to wait one'),\n",
       " Row(contents='You are Bob Brownley, _I know_. Can you really _feel_ what you write as')]"
      ]
     },
     "execution_count": 13,
     "metadata": {},
     "output_type": "execute_result"
    }
   ],
   "source": [
    "from pyspark.sql.functions import col\n",
    "from pyspark.sql.types import Row\n",
    "\n",
    "\n",
    "g = sc.textFile('s3://ssds2/gutenberg.txt')\n",
    "cg = g.map(lambda x : Row(x)).toDF(['contents'])\n",
    "print('total rows :', cg.count())\n",
    "bob = cg.filter(col('contents').like('%Bob%'))\n",
    "print('number of lines containing word \\'Bob\\'', bob.count())\n",
    "bob.collect()\n",
    "\n"
   ]
  },
  {
   "cell_type": "code",
   "execution_count": 14,
   "metadata": {},
   "outputs": [],
   "source": [
    "import matplotlib.pyplot as plt\n",
    "import matplotlib as mlt\n",
    "import seaborn as sns\n",
    "\n",
    "sns.set()\n",
    "sns.set_style('whitegrid')\n",
    "sns.set_color_codes()"
   ]
  },
  {
   "cell_type": "code",
   "execution_count": 15,
   "metadata": {},
   "outputs": [
    {
     "name": "stdout",
     "output_type": "stream",
     "text": [
      "+------+--------+----------+----------------------------------+----------------------------------+--------+---------+----------+\n",
      "|  구명|대여소ID|대여소번호|                          대여소명|                       대여소 주소|거치대수|     위도|      경도|\n",
      "+------+--------+----------+----------------------------------+----------------------------------+--------+---------+----------+\n",
      "|강남구|  ST-777|      2301|               현대고등학교 건너편|  서울특별시 강남구 압구정로 13...|      10|37.524071| 127.02179|\n",
      "|강남구|  ST-787|      2302| 교보타워 버스정류장(신논현역 3...|서울특별시 강남구 봉은사로 지하...|      10|37.505581|127.024277|\n",
      "|강남구|  ST-788|      2303|                    논현역 7번출구| 서울특별시 강남구 학동로 지하 ...|      15|37.511517|127.021477|\n",
      "|강남구|  ST-789|      2304|              신영 ROYAL PALACE 앞|   서울특별시 강남구 언주로 626...|      10|37.512527|127.035835|\n",
      "|강남구|  ST-790|      2305|                MCM 본사 직영점 앞|   서울특별시 강남구 언주로 734...|      10|37.520641|127.034508|\n",
      "|강남구|  ST-791|      2306|              압구정역 2번 출구 옆|서울특별시 강남구 압구정로 지하...|      30|37.527122|127.028717|\n",
      "|강남구|  ST-792|      2307|            압구정 한양 3차 아파트|  서울특별시 강남구 압구정로 32...|      10|37.528614|127.038559|\n",
      "|강남구|  ST-793|      2308|                   압구정파출소 앞|  서울특별시 강남구 압구정로 31...|      14|37.529301|127.035599|\n",
      "|강남구|  ST-783|      2309|             청담역(우리들병원 앞)|   서울특별시 강남구 학동로 443...|      10|37.518902|127.049385|\n",
      "|강남구|  ST-794|      2310|          청담동 맥도날드 옆(위치)| 서울특별시 강남구 학동로 지하 ...|      10|37.523613|127.040176|\n",
      "|강남구|  ST-786|      2311|           학동로 래미안 아파트 앞| 서울특별시 강남구 학동로 지하 ...|      10|37.517773|127.043022|\n",
      "|강남구|  ST-795|      2312|               청담역 13번 출구 앞|  서울특별시 강남구 영동대로 70...|      10| 37.52058|127.056328|\n",
      "|강남구|  ST-796|      2313|                       금원빌딩 앞|  서울특별시 강남구 도산대로 53...|      10|37.525116|127.052467|\n",
      "|강남구|  ST-798|      2314|                    청담나들목입구|  서울특별시 강남구 영동대로128...|      10|37.521275|127.061035|\n",
      "|강남구|  ST-799|      2315|               봉은사역 5번출구 옆|서울특별시 강남구 봉은사로 지하...|      10|37.514248|127.061119|\n",
      "|강남구|  ST-784|      2317|                      삼성도로공원|  서울특별시 강남구 영동대로112...|      10|37.515888|  127.0662|\n",
      "|강남구|  ST-801|      2318|삼성중앙역4번출구(문화센터더 리빌)|  서울특별시 강남구 봉은사로 53...|      15|37.513577|127.055031|\n",
      "|강남구|  ST-802|      2319|포스코4거리 서측(수협 삼성동 지점)|  서울특별시 강남구 테헤란로 43...|      10|37.506607| 127.05468|\n",
      "|강남구|  ST-803|      2320|            도곡역 대치지구대 방향|서울특별시 강남구 남부순환로 지...|      10|37.491928|127.056969|\n",
      "|강남구|  ST-804|      2321|                   학여울역 사거리|서울특별시 강남구 남부순환로 지...|      10|37.496117|127.069443|\n",
      "+------+--------+----------+----------------------------------+----------------------------------+--------+---------+----------+\n",
      "only showing top 20 rows\n",
      "\n",
      "+----------+--------------------------------+-------------------+--------+--------+\n",
      "|대여소위치|                        대여소명|           기준일자|대여건수|반납건수|\n",
      "+----------+--------------------------------+-------------------+--------+--------+\n",
      "|    동작구|     2067. LG전자 베스트샾 대...|2018-11-30 00:00:00|      16|      11|\n",
      "|    양천구|   726. 목동3단지 시내버스정류장|2018-11-30 00:00:00|      30|      27|\n",
      "|    양천구|        725. 양강중학교앞 교차로|2018-11-30 00:00:00|      14|       5|\n",
      "|    양천구|724. 계남공원 입구 주출입구 좌측|2018-11-30 00:00:00|       3|       0|\n",
      "|    양천구|                  723. SBS방송국|2018-11-30 00:00:00|      38|      44|\n",
      "|    양천구|     722. LG전자베스트샵 신정점 |2018-11-30 00:00:00|      29|      28|\n",
      "|    마포구|           426. 서울신용보증재단|2018-11-30 00:00:00|      11|      22|\n",
      "|    마포구|            425. DMC첨단산업센터|2018-11-30 00:00:00|      14|      11|\n",
      "|    마포구|  424. 롯데하이마트 (상암월드...|2018-11-30 00:00:00|       2|       3|\n",
      "|    광진구|    502. 뚝섬유원지역 1번출구 앞|2018-11-30 00:00:00|      63|      75|\n",
      "|    광진구|         3505. 신양초교앞 교차로|2018-11-30 00:00:00|      19|      20|\n",
      "|    광진구|                  3504. 원일교회|2018-11-30 00:00:00|      38|      33|\n",
      "|    광진구|            3502. 중곡역 1번출구|2018-11-30 00:00:00|       8|      15|\n",
      "|    광진구|               3501. 광진구청 앞|2018-11-30 00:00:00|      46|      36|\n",
      "|    광진구|             3500. 군자역2번출구|2018-11-30 00:00:00|      24|      28|\n",
      "|    송파구|           1250.문정2동 주민센터|2018-11-30 00:00:00|       6|       8|\n",
      "|    광진구|              593.자양중앙나들목|2018-11-30 00:00:00|      23|      28|\n",
      "|    광진구|              501. 광진구의회 앞|2018-11-30 00:00:00|      32|      30|\n",
      "|    종로구|                 451. 청와대앞길|2018-11-30 00:00:00|      14|       6|\n",
      "|    종로구|              450. 효자동 삼거리|2018-11-30 00:00:00|      24|      22|\n",
      "+----------+--------------------------------+-------------------+--------+--------+\n",
      "only showing top 20 rows\n",
      "\n"
     ]
    }
   ],
   "source": [
    "dl = spark.read.option('header','true').option('nullValue','?').option('inferSchema','true')\\\n",
    "    .csv('s3://ssds2/bikeshare_loc.csv')\n",
    "du = spark.read.option('header','true').option('nullValue','?').option('inferSchema','true')\\\n",
    "    .csv('s3://ssds2/bikeshare_seoul.csv')\n",
    "dl.show()\n",
    "du.show()"
   ]
  },
  {
   "cell_type": "code",
   "execution_count": 16,
   "metadata": {
    "scrolled": false
   },
   "outputs": [
    {
     "name": "stdout",
     "output_type": "stream",
     "text": [
      "+------+--------+----------+----------------------------------+--------------------------------+--------+---------+---------+\n",
      "|  구명|대여소ID|대여소번호|                          대여소명|                     대여소 주소|거치대수|     위도|     경도|\n",
      "+------+--------+----------+----------------------------------+--------------------------------+--------+---------+---------+\n",
      "|강남구|  ST-802|      2319|포스코4거리 서측(수협 삼성동 지점)|서울특별시 강남구 테헤란로 43...|      10|37.506607|127.05468|\n",
      "+------+--------+----------+----------------------------------+--------------------------------+--------+---------+---------+\n",
      "\n",
      "+--------+-------------+\n",
      "|    구명|sum(거치대수)|\n",
      "+--------+-------------+\n",
      "|  송파구|         1130|\n",
      "|  도봉구|          383|\n",
      "|  은평구|          671|\n",
      "|  양천구|          628|\n",
      "|  중랑구|          616|\n",
      "|  강동구|          763|\n",
      "|  용산구|          523|\n",
      "|  구로구|          661|\n",
      "|  마포구|         1025|\n",
      "|  강서구|          884|\n",
      "|  강남구|         1150|\n",
      "|  광진구|          720|\n",
      "|  성동구|          771|\n",
      "|  관악구|          632|\n",
      "|영등포구|         1191|\n",
      "|동대문구|          633|\n",
      "|  동작구|          501|\n",
      "|    중구|          413|\n",
      "|  종로구|          706|\n",
      "|  노원구|          840|\n",
      "+--------+-------------+\n",
      "only showing top 20 rows\n",
      "\n",
      "+--------+-------+\n",
      "|    구명|sumofgu|\n",
      "+--------+-------+\n",
      "|  송파구|   1130|\n",
      "|  도봉구|    383|\n",
      "|  은평구|    671|\n",
      "|  양천구|    628|\n",
      "|  중랑구|    616|\n",
      "|  강동구|    763|\n",
      "|  용산구|    523|\n",
      "|  구로구|    661|\n",
      "|  마포구|   1025|\n",
      "|  강서구|    884|\n",
      "|  강남구|   1150|\n",
      "|  광진구|    720|\n",
      "|  성동구|    771|\n",
      "|  관악구|    632|\n",
      "|영등포구|   1191|\n",
      "|동대문구|    633|\n",
      "|  동작구|    501|\n",
      "|    중구|    413|\n",
      "|  종로구|    706|\n",
      "|  노원구|    840|\n",
      "+--------+-------+\n",
      "only showing top 20 rows\n",
      "\n",
      "+--------+----------+----+\n",
      "|    구명|대여소번호|temp|\n",
      "+--------+----------+----+\n",
      "|  강남구|      2351|  15|\n",
      "|  강남구|      2396|  15|\n",
      "|  금천구|      1850|  10|\n",
      "|  노원구|      1669|   9|\n",
      "|동대문구|       660|  10|\n",
      "|  성북구|      1370|  20|\n",
      "|  양천구|       737|  10|\n",
      "|  용산구|       838|   8|\n",
      "|  강동구|      1042|  10|\n",
      "|  강서구|      1106|  10|\n",
      "|동대문구|       609|  20|\n",
      "|동대문구|       635|  12|\n",
      "|  동작구|      2036|  20|\n",
      "|  서초구|      2242|  20|\n",
      "|  성북구|      1339|   9|\n",
      "|  성북구|      1360|  10|\n",
      "|영등포구|       200|  20|\n",
      "|영등포구|       271|  10|\n",
      "|  종로구|       337|   5|\n",
      "|  강남구|      2386|  10|\n",
      "+--------+----------+----+\n",
      "only showing top 20 rows\n",
      "\n",
      "+--------+-----+\n",
      "|    구명|count|\n",
      "+--------+-----+\n",
      "|  강남구|   95|\n",
      "|  서초구|   87|\n",
      "|  송파구|   86|\n",
      "|영등포구|   84|\n",
      "|  강서구|   76|\n",
      "|  마포구|   75|\n",
      "|  노원구|   66|\n",
      "|  종로구|   63|\n",
      "|  성동구|   62|\n",
      "|  은평구|   60|\n",
      "|  강동구|   57|\n",
      "|  광진구|   57|\n",
      "|  성북구|   56|\n",
      "|  구로구|   56|\n",
      "|  중랑구|   52|\n",
      "|  양천구|   51|\n",
      "|서대문구|   51|\n",
      "|  관악구|   51|\n",
      "|동대문구|   49|\n",
      "|  금천구|   42|\n",
      "+--------+-----+\n",
      "only showing top 20 rows\n",
      "\n"
     ]
    }
   ],
   "source": [
    "import pyspark.sql.functions as sf\n",
    "dl.filter(dl['대여소번호']==2319).show()\n",
    "dl.groupBy('구명').sum('거치대수').show()\n",
    "dl.groupBy('구명').agg(sf.sum('거치대수').alias('sumofgu')).show()\n",
    "dl.groupBy('구명','대여소번호').agg(sf.sum('거치대수').alias('temp')).show()\n",
    "dl.groupBy('구명').count().orderBy('count',ascending=False).show()\n",
    "##dl.where('대여소번호==2319').show()"
   ]
  },
  {
   "cell_type": "code",
   "execution_count": 17,
   "metadata": {},
   "outputs": [
    {
     "data": {
      "image/png": "[encoded data removed]",
      "text/plain": [
       "<Figure size 432x288 with 1 Axes>"
      ]
     },
     "metadata": {
      "needs_background": "light"
     },
     "output_type": "display_data"
    }
   ],
   "source": [
    "ld = dl.select('구명').toPandas()\n",
    "sns.countplot(x='구명',data=ld)\n",
    "plt.show()"
   ]
  },
  {
   "cell_type": "code",
   "execution_count": 18,
   "metadata": {},
   "outputs": [
    {
     "name": "stdout",
     "output_type": "stream",
     "text": [
      "+--------+----------+\n",
      "|    구명|총거치대수|\n",
      "+--------+----------+\n",
      "|  서초구|      1214|\n",
      "|영등포구|      1191|\n",
      "|  강남구|      1150|\n",
      "|  송파구|      1130|\n",
      "|  마포구|      1025|\n",
      "|  강서구|       884|\n",
      "|  노원구|       840|\n",
      "|  성동구|       771|\n",
      "|  강동구|       763|\n",
      "|  광진구|       720|\n",
      "|  종로구|       706|\n",
      "|  성북구|       687|\n",
      "|  은평구|       671|\n",
      "|  구로구|       661|\n",
      "|서대문구|       643|\n",
      "|동대문구|       633|\n",
      "|  관악구|       632|\n",
      "|  양천구|       628|\n",
      "|  중랑구|       616|\n",
      "|  용산구|       523|\n",
      "+--------+----------+\n",
      "only showing top 20 rows\n",
      "\n"
     ]
    },
    {
     "data": {
      "image/png": "[encoded data removed]",
      "text/plain": [
       "<Figure size 432x288 with 1 Axes>"
      ]
     },
     "metadata": {
      "needs_background": "light"
     },
     "output_type": "display_data"
    }
   ],
   "source": [
    "res =  dl.groupBy('구명').agg(sf.sum('거치대수').alias('총거치대수')).orderBy('총거치대수',ascending=False)\n",
    "res.show()\n",
    "res_df = res.toPandas()\n",
    "sns.barplot(x='구명',y='총거치대수',data=res_df)\n",
    "plt.show()"
   ]
  },
  {
   "cell_type": "code",
   "execution_count": 19,
   "metadata": {},
   "outputs": [
    {
     "name": "stdout",
     "output_type": "stream",
     "text": [
      "+----------+--------------------------------+-------------------+--------+--------+\n",
      "|대여소위치|                        대여소명|           기준일자|대여건수|반납건수|\n",
      "+----------+--------------------------------+-------------------+--------+--------+\n",
      "|    양천구|   726. 목동3단지 시내버스정류장|2018-07-30 00:00:00|      24|      29|\n",
      "|    양천구|        725. 양강중학교앞 교차로|2018-07-30 00:00:00|       9|       1|\n",
      "|    양천구|724. 계남공원 입구 주출입구 좌측|2018-07-30 00:00:00|       8|      10|\n",
      "|    양천구|                  723. SBS방송국|2018-07-30 00:00:00|      57|      51|\n",
      "|    양천구|     722. LG전자베스트샵 신정점 |2018-07-30 00:00:00|      20|      26|\n",
      "|    마포구|           426. 서울신용보증재단|2018-07-30 00:00:00|       9|      10|\n",
      "|    마포구|            425. DMC첨단산업센터|2018-07-30 00:00:00|      23|      20|\n",
      "|    마포구|  424. 롯데하이마트 (상암월드...|2018-07-30 00:00:00|      22|      10|\n",
      "|    광진구|    502. 뚝섬유원지역 1번출구 앞|2018-07-30 00:00:00|     186|     246|\n",
      "|    광진구|         3505. 신양초교앞 교차로|2018-07-30 00:00:00|      39|      22|\n",
      "|    광진구|                  3504. 원일교회|2018-07-30 00:00:00|      36|      45|\n",
      "|    광진구|              3503. 광진유진스웰|2018-07-30 00:00:00|       8|       4|\n",
      "|    광진구|            3502. 중곡역 1번출구|2018-07-30 00:00:00|      24|      28|\n",
      "|    광진구|               3501. 광진구청 앞|2018-07-30 00:00:00|      53|      39|\n",
      "|    광진구|             3500. 군자역2번출구|2018-07-30 00:00:00|      46|      38|\n",
      "|    송파구|           1250.문정2동 주민센터|2018-07-30 00:00:00|       8|      13|\n",
      "|    광진구|              593.자양중앙나들목|2018-07-30 00:00:00|      38|      39|\n",
      "|    광진구|              501. 광진구의회 앞|2018-07-30 00:00:00|      88|      95|\n",
      "|    종로구|                 451. 청와대앞길|2018-07-30 00:00:00|      16|      10|\n",
      "|    종로구|              450. 효자동 삼거리|2018-07-30 00:00:00|      27|      28|\n",
      "+----------+--------------------------------+-------------------+--------+--------+\n",
      "only showing top 20 rows\n",
      "\n",
      "+----------+--------------------------------+-------------------+--------+--------+\n",
      "|대여소위치|                        대여소명|           기준일자|대여건수|반납건수|\n",
      "+----------+--------------------------------+-------------------+--------+--------+\n",
      "|    양천구|   726. 목동3단지 시내버스정류장|2018-07-30 00:00:00|      24|      29|\n",
      "|    양천구|        725. 양강중학교앞 교차로|2018-07-30 00:00:00|       9|       1|\n",
      "|    양천구|724. 계남공원 입구 주출입구 좌측|2018-07-30 00:00:00|       8|      10|\n",
      "|    양천구|                  723. SBS방송국|2018-07-30 00:00:00|      57|      51|\n",
      "|    양천구|     722. LG전자베스트샵 신정점 |2018-07-30 00:00:00|      20|      26|\n",
      "|    마포구|           426. 서울신용보증재단|2018-07-30 00:00:00|       9|      10|\n",
      "|    마포구|            425. DMC첨단산업센터|2018-07-30 00:00:00|      23|      20|\n",
      "|    마포구|  424. 롯데하이마트 (상암월드...|2018-07-30 00:00:00|      22|      10|\n",
      "|    광진구|    502. 뚝섬유원지역 1번출구 앞|2018-07-30 00:00:00|     186|     246|\n",
      "|    광진구|         3505. 신양초교앞 교차로|2018-07-30 00:00:00|      39|      22|\n",
      "|    광진구|                  3504. 원일교회|2018-07-30 00:00:00|      36|      45|\n",
      "|    광진구|              3503. 광진유진스웰|2018-07-30 00:00:00|       8|       4|\n",
      "|    광진구|            3502. 중곡역 1번출구|2018-07-30 00:00:00|      24|      28|\n",
      "|    광진구|               3501. 광진구청 앞|2018-07-30 00:00:00|      53|      39|\n",
      "|    광진구|             3500. 군자역2번출구|2018-07-30 00:00:00|      46|      38|\n",
      "|    송파구|           1250.문정2동 주민센터|2018-07-30 00:00:00|       8|      13|\n",
      "|    광진구|              593.자양중앙나들목|2018-07-30 00:00:00|      38|      39|\n",
      "|    광진구|              501. 광진구의회 앞|2018-07-30 00:00:00|      88|      95|\n",
      "|    종로구|                 451. 청와대앞길|2018-07-30 00:00:00|      16|      10|\n",
      "|    종로구|              450. 효자동 삼거리|2018-07-30 00:00:00|      27|      28|\n",
      "+----------+--------------------------------+-------------------+--------+--------+\n",
      "only showing top 20 rows\n",
      "\n"
     ]
    }
   ],
   "source": [
    "import pyspark.sql.functions as sf\n",
    "from pyspark.sql.functions import col\n",
    "du.where(du['기준일자'].between('2018-07-01','2018-07-31')).show()\n",
    "\n",
    "du.filter(du['기준일자'].between('2018-07-01','2018-07-31')).show()"
   ]
  },
  {
   "cell_type": "code",
   "execution_count": 20,
   "metadata": {},
   "outputs": [
    {
     "name": "stdout",
     "output_type": "stream",
     "text": [
      "[Row(대여소위치='영등포구', 대여소명='207. 여의나루역 1번출구 앞', 기준일자=datetime.datetime(2018, 6, 1, 0, 0), 대여건수=8707, 반납건수=8153)]\n",
      "[Row(대여소위치='구로구', 대여소명='1941. 오류동역 2번출구', 기준일자=datetime.datetime(2018, 11, 30, 0, 0), 대여건수=0, 반납건수=1)]\n"
     ]
    }
   ],
   "source": [
    "from pyspark.sql.functions import month\n",
    "b2018 = du.filter(du['기준일자'].between('2018-01-01','2018-12-31'))\n",
    "print(b2018.orderBy('대여건수',ascending=False).take(1))\n",
    "print(b2018.orderBy('대여건수',ascending=True).take(1))\n"
   ]
  },
  {
   "cell_type": "code",
   "execution_count": 21,
   "metadata": {},
   "outputs": [
    {
     "ename": "SyntaxError",
     "evalue": "unexpected EOF while parsing (<ipython-input-21-2ac94b424b02>, line 2)",
     "output_type": "error",
     "traceback": [
      "\u001b[0;36m  File \u001b[0;32m\"<ipython-input-21-2ac94b424b02>\"\u001b[0;36m, line \u001b[0;32m2\u001b[0m\n\u001b[0;31m    windowval = (Window.partitionBy(month(du['기준일자']).orderBy(month(du['기준일자']).rangeBetween(Window.unboundedPreceding,0))\u001b[0m\n\u001b[0m                                                                                                                          ^\u001b[0m\n\u001b[0;31mSyntaxError\u001b[0m\u001b[0;31m:\u001b[0m unexpected EOF while parsing\n"
     ]
    }
   ],
   "source": [
    "from pyspark.sql import Window\n",
    "windowval = (Window.partitionBy(month(du['기준일자']).orderBy(month(du['기준일자']).rangeBetween(Window.unboundedPreceding,0))\n"
   ]
  },
  {
   "cell_type": "code",
   "execution_count": 22,
   "metadata": {},
   "outputs": [
    {
     "data": {
      "image/png": "[encoded data removed]",
      "text/plain": [
       "<Figure size 432x288 with 1 Axes>"
      ]
     },
     "metadata": {
      "needs_background": "light"
     },
     "output_type": "display_data"
    }
   ],
   "source": [
    "monthly_trend = b2018.where(du['대여소위치'] == '강남구') \\\n",
    ".groupBy(month(du['기준일자'])) \\\n",
    ".agg(sf.sum('대여건수'),sf.sum('반납건수')) \\\n",
    ".orderBy('month(기준일자)',ascending=True) \\\n",
    ".toPandas()\n",
    "\n",
    "sns.lineplot(x='month(기준일자)',y='sum(반납건수)',data=monthly_trend)\n",
    "sns.lineplot(x='month(기준일자)',y='sum(대여건수)',data=monthly_trend)\n",
    "\n",
    "plt.show()"
   ]
  },
  {
   "cell_type": "code",
   "execution_count": 23,
   "metadata": {},
   "outputs": [],
   "source": [
    "summary_2018 = b2018.groupBy('대여소명') \\\n",
    "    .agg(sf.sum('대여건수').alias('총대여수'),sf.sum('반납건수').alias('총반납수'))\n",
    "    \n",
    "summary_2018 =summary_2018.withColumn('diff',summary_2018['총대여수']-summary_2018['총반납수'])"
   ]
  },
  {
   "cell_type": "code",
   "execution_count": 24,
   "metadata": {},
   "outputs": [
    {
     "name": "stdout",
     "output_type": "stream",
     "text": [
      "+-----------------------------+--------+--------+-----+\n",
      "|                     대여소명|총대여수|총반납수| diff|\n",
      "+-----------------------------+--------+--------+-----+\n",
      "|      2156. 농협 관악문성지점|    4212|    4100|  112|\n",
      "|2328. 르네상스 호텔 사거리...|    4610|    3663|  947|\n",
      "|       2116. 에이스에이존빌딩|    4537|    4324|  213|\n",
      "|        1816. 금천폭포공원 앞|    1246|     953|  293|\n",
      "|     1438. 홈플러스 신내점 앞|    7513|    9583|-2070|\n",
      "|      382. 약수역 10번출구 앞|    4300|    4308|   -8|\n",
      "|                429. 송도병원|     128|      73|   55|\n",
      "|        1275. 거여초등학교 옆|    2204|    2482| -278|\n",
      "|                 2293. SPC 앞|    3666|    2922|  744|\n",
      "|     1166. 강서구립등빛도서관|    8315|    8697| -382|\n",
      "|          1959. 구로구의회 앞|    3778|    4211| -433|\n",
      "|              300. 정동사거리|   10271|    8588| 1683|\n",
      "|              1835. STX V타워|    3211|    3250|  -39|\n",
      "|     174. 명지대학교 학생회관|    2302|    1759|  543|\n",
      "|1224. 아시아지하보도 2번 출구|   11521|   11773| -252|\n",
      "|1141. 곰달래 문화복지센터 1-1|    6833|    9743|-2910|\n",
      "|1102. 방화사거리 마을버스 ...|    5438|    5734| -296|\n",
      "|       286. 우성아파트 교차로|     548|     644|  -96|\n",
      "|    1368. 성신여대입구 교차로|     361|     395|  -34|\n",
      "|          956. 응암시장교차로|    5522|    6334| -812|\n",
      "+-----------------------------+--------+--------+-----+\n",
      "only showing top 20 rows\n",
      "\n"
     ]
    }
   ],
   "source": [
    "summary_2018.show()"
   ]
  },
  {
   "cell_type": "code",
   "execution_count": 25,
   "metadata": {},
   "outputs": [
    {
     "name": "stdout",
     "output_type": "stream",
     "text": [
      "+----------+--------+--------+------+------------------------------+---------+\n",
      "|대여소번호|대여건수|반납건수|  구명|                      대여소명|     위도|\n",
      "+----------+--------+--------+------+------------------------------+---------+\n",
      "|      1210|     119|     132|송파구|롯데월드타워(잠실역2번출구 쪽)|37.513126|\n",
      "|      1308|     116|     139|성북구|      안암로터리 버스정류장 앞|37.582592|\n",
      "|       113|     144|     202|마포구|         홍대입구역 2번출구 앞|37.557499|\n",
      "|       590|     104|     104|광진구|       건국대학교 (입학정보관)| 37.53989|\n",
      "|      1308|     129|     140|성북구|      안암로터리 버스정류장 앞|37.582592|\n",
      "|       113|     122|     194|마포구|         홍대입구역 2번출구 앞|37.557499|\n",
      "|       590|     120|     121|광진구|       건국대학교 (입학정보관)| 37.53989|\n",
      "|      1308|     116|     115|성북구|      안암로터리 버스정류장 앞|37.582592|\n",
      "|       113|     130|     205|마포구|         홍대입구역 2번출구 앞|37.557499|\n",
      "|       590|     131|     130|광진구|       건국대학교 (입학정보관)| 37.53989|\n",
      "|      1210|     101|     102|송파구|롯데월드타워(잠실역2번출구 쪽)|37.513126|\n",
      "|      1308|     104|     131|성북구|      안암로터리 버스정류장 앞|37.582592|\n",
      "|       113|     140|     201|마포구|         홍대입구역 2번출구 앞|37.557499|\n",
      "|       592|     102|     115|광진구|           건국대학교 학생회관|37.541912|\n",
      "|       590|     118|     116|광진구|       건국대학교 (입학정보관)| 37.53989|\n",
      "|      1210|     130|     129|송파구|롯데월드타워(잠실역2번출구 쪽)|37.513126|\n",
      "|      1308|     141|     158|성북구|      안암로터리 버스정류장 앞|37.582592|\n",
      "|       540|     107|     105|광진구|    군자역 7번출구 베스트샵 앞| 37.55603|\n",
      "|       113|     155|     209|마포구|         홍대입구역 2번출구 앞|37.557499|\n",
      "|      1210|     100|     101|송파구|롯데월드타워(잠실역2번출구 쪽)|37.513126|\n",
      "+----------+--------+--------+------+------------------------------+---------+\n",
      "only showing top 20 rows\n",
      "\n"
     ]
    }
   ],
   "source": [
    "usage100 = du.where(du['대여건수']>=100)\\\n",
    "        .select('대여건수','반납건수',sf.split('대여소명','[.]')[0].alias('대여소번호'))\n",
    "joined = usage100.join(dl.select('대여소번호','구명','대여소명','위도'),on='대여소번호',how='inner')\n",
    "joined.show()\n"
   ]
  },
  {
   "cell_type": "code",
   "execution_count": 29,
   "metadata": {},
   "outputs": [
    {
     "name": "stdout",
     "output_type": "stream",
     "text": [
      "+----------+--------+--------+------+------------------------------------+---------+\n",
      "|대여소번호|대여건수|반납건수|  구명|                            대여소명|     위도|\n",
      "+----------+--------+--------+------+------------------------------------+---------+\n",
      "|      1820|     154|     253|금천구|       신한은행 시흥대로금융센터지점| 37.44334|\n",
      "|      1816|     181|     150|금천구|                     금천폭포공원 앞|37.446861|\n",
      "|      2203|     190|     135|서초구|                청계산입구역 2번출구|37.447659|\n",
      "|      2202|    1054|    1082|서초구|                청계산입구역 1번출구|37.448936|\n",
      "|      2270|     238|     252|서초구|                  서초포레스타 7단지|37.448967|\n",
      "|      1821|     243|     314|금천구|홈플러스 시흥점 맞은편 다비치안경 앞|37.451458|\n",
      "|      1822|     405|     456|금천구|                서울 시흥동우체국 앞|37.452991|\n",
      "|      2201|     155|     174|서초구|                    본마을 정류소 앞|37.453281|\n",
      "|      2205|     587|     548|서초구|             내곡3단지 어린이공원 앞|37.453751|\n",
      "|      2206|     913|     914|서초구|                     언남초등학교 앞|37.454399|\n",
      "|      2207|     138|      96|서초구|                  내곡파출소 뒤 정자|37.454407|\n",
      "|      1825|     195|     204|금천구|             한신아파트 앞 육교 아래|  37.4547|\n",
      "|      2250|     548|     505|서초구|                   서초유치원 맞은편|37.455799|\n",
      "|      1827|     123|     114|금천구|       독산보도육교 앞 자전거 보관소|37.455849|\n",
      "|      1827|    1201|    1242|금천구|       독산보도육교 앞 자전거 보관소|37.455849|\n",
      "|      2249|     296|     289|서초구|                 우솔초등학교 맞은편|37.456234|\n",
      "|      1819|     370|     364|금천구|            금천구청 앞 자전거거치대|37.456478|\n",
      "|      1826|     235|     269|금천구|                         한신코아 앞|37.456841|\n",
      "|      2285|     421|     386|서초구|            LH서초3단지 301동 맞은편|37.457424|\n",
      "|      1823|     300|     234|금천구|                     상신정비공업 앞|37.458912|\n",
      "+----------+--------+--------+------+------------------------------------+---------+\n",
      "only showing top 20 rows\n",
      "\n"
     ]
    }
   ],
   "source": [
    "from pyspark.sql.functions import col\n",
    "joined.orderBy('위도',ascending=True).show()\n",
    "joined.sort(col('위도').asc())"
   ]
  },
  {
   "cell_type": "code",
   "execution_count": 27,
   "metadata": {},
   "outputs": [
    {
     "name": "stdout",
     "output_type": "stream",
     "text": [
      "+----------+--------+--------+------+------------------------------+---------+\n",
      "|대여소번호|대여건수|반납건수|  구명|                      대여소명|     위도|\n",
      "+----------+--------+--------+------+------------------------------+---------+\n",
      "|      1210|     119|     132|송파구|롯데월드타워(잠실역2번출구 쪽)|37.513126|\n",
      "|      1308|     116|     139|성북구|      안암로터리 버스정류장 앞|37.582592|\n",
      "|       113|     144|     202|마포구|         홍대입구역 2번출구 앞|37.557499|\n",
      "|       590|     104|     104|광진구|       건국대학교 (입학정보관)| 37.53989|\n",
      "|      1308|     129|     140|성북구|      안암로터리 버스정류장 앞|37.582592|\n",
      "|       113|     122|     194|마포구|         홍대입구역 2번출구 앞|37.557499|\n",
      "|       590|     120|     121|광진구|       건국대학교 (입학정보관)| 37.53989|\n",
      "|      1308|     116|     115|성북구|      안암로터리 버스정류장 앞|37.582592|\n",
      "|       113|     130|     205|마포구|         홍대입구역 2번출구 앞|37.557499|\n",
      "|       590|     131|     130|광진구|       건국대학교 (입학정보관)| 37.53989|\n",
      "|      1210|     101|     102|송파구|롯데월드타워(잠실역2번출구 쪽)|37.513126|\n",
      "|      1308|     104|     131|성북구|      안암로터리 버스정류장 앞|37.582592|\n",
      "|       113|     140|     201|마포구|         홍대입구역 2번출구 앞|37.557499|\n",
      "|       592|     102|     115|광진구|           건국대학교 학생회관|37.541912|\n",
      "|       590|     118|     116|광진구|       건국대학교 (입학정보관)| 37.53989|\n",
      "|      1210|     130|     129|송파구|롯데월드타워(잠실역2번출구 쪽)|37.513126|\n",
      "|      1308|     141|     158|성북구|      안암로터리 버스정류장 앞|37.582592|\n",
      "|       540|     107|     105|광진구|    군자역 7번출구 베스트샵 앞| 37.55603|\n",
      "|       113|     155|     209|마포구|         홍대입구역 2번출구 앞|37.557499|\n",
      "|      1210|     100|     101|송파구|롯데월드타워(잠실역2번출구 쪽)|37.513126|\n",
      "+----------+--------+--------+------+------------------------------+---------+\n",
      "only showing top 20 rows\n",
      "\n"
     ]
    }
   ],
   "source": [
    "joined.show()"
   ]
  },
  {
   "cell_type": "code",
   "execution_count": 36,
   "metadata": {},
   "outputs": [],
   "source": [
    "j = dl.join(du.withColumn('대여소번호',sf.split('대여소명','[.]')[0]),on='대여소번호',how='inner')"
   ]
  },
  {
   "cell_type": "code",
   "execution_count": 50,
   "metadata": {},
   "outputs": [
    {
     "name": "stdout",
     "output_type": "stream",
     "text": [
      "+----------+------------------+------+------------------+\n",
      "|대여소번호|          평균대여|대여소|              비율|\n",
      "+----------+------------------+------+------------------+\n",
      "|      2122| 25.70124481327801|  20.0|1.2850622406639005|\n",
      "|      1829| 12.35234215885947|  10.0| 1.235234215885947|\n",
      "|       148|24.560047562425684|  11.0| 2.232731596584153|\n",
      "|      1959|19.575129533678755|  10.0|1.9575129533678755|\n",
      "|      1342| 8.581469648562301|  15.0|0.5720979765708201|\n",
      "|      1522| 9.098557692307692|  10.0|0.9098557692307692|\n",
      "|      2235|11.006036217303823|  15.0|0.7337357478202549|\n",
      "|      1127|17.075875486381324|  10.0|1.7075875486381324|\n",
      "|       623| 47.54433497536946|  20.0|2.3772167487684728|\n",
      "|       243|  21.6256038647343|  15.0|  1.44170692431562|\n",
      "|       540| 55.12154031287605|   8.0| 6.890192539109506|\n",
      "|      2387| 22.41826923076923|  10.0| 2.241826923076923|\n",
      "|      1721|29.620689655172413|  12.0| 2.468390804597701|\n",
      "|      1025| 7.384341637010676|  10.0|0.7384341637010676|\n",
      "|       737| 13.39622641509434|  10.0|1.3396226415094339|\n",
      "|      1303|29.024793388429753|  10.0|2.9024793388429755|\n",
      "|      1322|14.248987854251013|  10.0|1.4248987854251012|\n",
      "|      1139|15.542279411764707|   8.0|1.9427849264705883|\n",
      "|      2393|1.5142857142857142|  10.0|0.1514285714285714|\n",
      "|      1352| 9.416403785488958|   8.0|1.1770504731861198|\n",
      "+----------+------------------+------+------------------+\n",
      "only showing top 20 rows\n",
      "\n",
      "+----------+------------------+------+------------------+\n",
      "|대여소번호|          평균대여|대여소|              비율|\n",
      "+----------+------------------+------+------------------+\n",
      "|      2122| 25.70124481327801|  20.0|1.2850622406639005|\n",
      "|      1829| 12.35234215885947|  10.0| 1.235234215885947|\n",
      "|       148|24.560047562425684|  11.0| 2.232731596584153|\n",
      "|      1959|19.575129533678755|  10.0|1.9575129533678755|\n",
      "|      1342| 8.581469648562301|  15.0|0.5720979765708201|\n",
      "|      1522| 9.098557692307692|  10.0|0.9098557692307692|\n",
      "|      2235|11.006036217303823|  15.0|0.7337357478202549|\n",
      "|      1127|17.075875486381324|  10.0|1.7075875486381324|\n",
      "|       623| 47.54433497536946|  20.0|2.3772167487684728|\n",
      "|       243|  21.6256038647343|  15.0|  1.44170692431562|\n",
      "|       540| 55.12154031287605|   8.0| 6.890192539109506|\n",
      "|      2387| 22.41826923076923|  10.0| 2.241826923076923|\n",
      "|      1721|29.620689655172413|  12.0| 2.468390804597701|\n",
      "|      1025| 7.384341637010676|  10.0|0.7384341637010676|\n",
      "|       737| 13.39622641509434|  10.0|1.3396226415094339|\n",
      "|      1303|29.024793388429753|  10.0|2.9024793388429755|\n",
      "|      1322|14.248987854251013|  10.0|1.4248987854251012|\n",
      "|      1139|15.542279411764707|   8.0|1.9427849264705883|\n",
      "|      2393|1.5142857142857142|  10.0|0.1514285714285714|\n",
      "|      1352| 9.416403785488958|   8.0|1.1770504731861198|\n",
      "+----------+------------------+------+------------------+\n",
      "only showing top 20 rows\n",
      "\n"
     ]
    }
   ],
   "source": [
    "tmp = j.groupBy('대여소번호').agg(sf.avg('대여건수').alias('평균대여'),sf.avg('거치대수').alias('대여소')) \n",
    "tmp.withColumn('비율',tmp['평균대여']/tmp['대여소']).show()\n",
    "\n",
    "j.groupBy('대여소번호').agg(sf.avg('대여건수').alias('평균대여'),sf.avg('거치대수').alias('대여소'))\\\n",
    "                        .withColumn('비율',col('평균대여')/col('대여소')).show()"
   ]
  },
  {
   "cell_type": "code",
   "execution_count": null,
   "metadata": {},
   "outputs": [],
   "source": []
  },
  {
   "cell_type": "code",
   "execution_count": null,
   "metadata": {},
   "outputs": [],
   "source": []
  },
  {
   "cell_type": "code",
   "execution_count": null,
   "metadata": {},
   "outputs": [],
   "source": [
    "df= spark.read.json('s3://ssds2/people.json')"
   ]
  },
  {
   "cell_type": "code",
   "execution_count": null,
   "metadata": {},
   "outputs": [],
   "source": [
    "df.show()"
   ]
  },
  {
   "cell_type": "code",
   "execution_count": null,
   "metadata": {},
   "outputs": [],
   "source": [
    "df.printSchema()"
   ]
  },
  {
   "cell_type": "code",
   "execution_count": null,
   "metadata": {},
   "outputs": [],
   "source": [
    "df.select('name').show()"
   ]
  },
  {
   "cell_type": "code",
   "execution_count": null,
   "metadata": {},
   "outputs": [],
   "source": [
    "type(df['name'])"
   ]
  },
  {
   "cell_type": "code",
   "execution_count": null,
   "metadata": {},
   "outputs": [],
   "source": [
    "df.select(df['name'],df['age']+1).show()"
   ]
  },
  {
   "cell_type": "code",
   "execution_count": null,
   "metadata": {},
   "outputs": [],
   "source": [
    "df.filter(df['age']>21).show()"
   ]
  },
  {
   "cell_type": "code",
   "execution_count": null,
   "metadata": {},
   "outputs": [],
   "source": [
    "df.where('age>21').show()"
   ]
  },
  {
   "cell_type": "code",
   "execution_count": null,
   "metadata": {},
   "outputs": [],
   "source": [
    "df.groupBy('age').count().show()"
   ]
  },
  {
   "cell_type": "code",
   "execution_count": null,
   "metadata": {},
   "outputs": [],
   "source": [
    "df.orderBy('age',ascending=False).show()"
   ]
  },
  {
   "cell_type": "code",
   "execution_count": null,
   "metadata": {},
   "outputs": [],
   "source": [
    "df.describe().show()"
   ]
  },
  {
   "cell_type": "code",
   "execution_count": null,
   "metadata": {},
   "outputs": [],
   "source": [
    "df.show()"
   ]
  },
  {
   "cell_type": "code",
   "execution_count": null,
   "metadata": {},
   "outputs": [],
   "source": [
    "df.describe(['age']).show()"
   ]
  },
  {
   "cell_type": "code",
   "execution_count": null,
   "metadata": {},
   "outputs": [],
   "source": [
    "df.createOrReplaceTempView('people')"
   ]
  },
  {
   "cell_type": "code",
   "execution_count": null,
   "metadata": {},
   "outputs": [],
   "source": [
    "sqldf =spark.sql('select * from people')"
   ]
  },
  {
   "cell_type": "code",
   "execution_count": null,
   "metadata": {},
   "outputs": [],
   "source": [
    "sqldf.show()"
   ]
  },
  {
   "cell_type": "code",
   "execution_count": null,
   "metadata": {},
   "outputs": [],
   "source": [
    "sqldf.show()"
   ]
  },
  {
   "cell_type": "code",
   "execution_count": null,
   "metadata": {},
   "outputs": [],
   "source": [
    "df_loc = spark.read.option('header','true') \\\n",
    "        .option('nullValue','?') \\\n",
    "        .option('inferSchema','true') \\\n",
    "        .csv('s3://ssds2/bikeshare_loc.csv')\n",
    "df_usage = spark.read.option('header','true') \\\n",
    "        .option('nullValue','?') \\\n",
    "        .option('inferSchema','true') \\\n",
    "        .csv('s3://ssds2/bikeshare_seoul.csv')"
   ]
  },
  {
   "cell_type": "code",
   "execution_count": null,
   "metadata": {},
   "outputs": [],
   "source": [
    "df_loc.show()"
   ]
  },
  {
   "cell_type": "code",
   "execution_count": null,
   "metadata": {},
   "outputs": [],
   "source": [
    "df_loc.filter(df_loc['대여소번호']==2319).show()"
   ]
  },
  {
   "cell_type": "code",
   "execution_count": null,
   "metadata": {},
   "outputs": [],
   "source": [
    "df_loc.show()"
   ]
  },
  {
   "cell_type": "code",
   "execution_count": null,
   "metadata": {},
   "outputs": [],
   "source": [
    "dl = df_loc\n",
    "du = df_usage"
   ]
  },
  {
   "cell_type": "markdown",
   "metadata": {},
   "source": [
    "## 지역별(구단위) 따릉이 대여소의 총수/가장 많은 곳/가장 적은곳"
   ]
  },
  {
   "cell_type": "code",
   "execution_count": null,
   "metadata": {},
   "outputs": [],
   "source": [
    "maxg = dl.groupBy('구명').count().orderBy('count',ascending=False).take(1)\n",
    "ming = dl.groupBy('구명').count().orderBy('count',ascending=True).take(1)\n",
    "print('가장많은곳 : ', maxg)\n",
    "print('가장적은곳 : ', ming)"
   ]
  },
  {
   "cell_type": "code",
   "execution_count": null,
   "metadata": {},
   "outputs": [],
   "source": [
    "import matplotlib.pyplot as plt\n",
    "import seaborn as sns\n",
    "import matplotlib as mlt"
   ]
  },
  {
   "cell_type": "code",
   "execution_count": null,
   "metadata": {
    "scrolled": true
   },
   "outputs": [],
   "source": [
    "l_pd = dl.select('구명').toPandas()\n",
    "sns.countplot(x='구명',data=l_pd)\n",
    "plt.show()"
   ]
  },
  {
   "cell_type": "code",
   "execution_count": null,
   "metadata": {
    "scrolled": true
   },
   "outputs": [],
   "source": [
    "dl.show()"
   ]
  },
  {
   "cell_type": "code",
   "execution_count": null,
   "metadata": {},
   "outputs": [],
   "source": [
    "mingu = dl.groupBy('구명').sum('거치대수').orderBy('sum(거치대수)',ascending=True).take(1)\n",
    "maxgu = dl.groupBy('구명').sum('거치대수').orderBy('sum(거치대수)',ascending=False).take(1)\n",
    "print('최소:',mingu)\n",
    "print('최대',maxgu)"
   ]
  },
  {
   "cell_type": "code",
   "execution_count": null,
   "metadata": {},
   "outputs": [],
   "source": [
    "gugu = dl.groupBy('구명').sum('거치대수').toPandas()"
   ]
  },
  {
   "cell_type": "code",
   "execution_count": null,
   "metadata": {},
   "outputs": [],
   "source": [
    "sns.barplot(x='구명',y= 'sum(거치대수)',data=gugu)\n",
    "gugu"
   ]
  },
  {
   "cell_type": "code",
   "execution_count": null,
   "metadata": {},
   "outputs": [],
   "source": [
    "import pyspark.sql.functions as sf\n",
    "from pyspark.sql.functions import col"
   ]
  },
  {
   "cell_type": "code",
   "execution_count": null,
   "metadata": {
    "scrolled": false
   },
   "outputs": [],
   "source": [
    "#du.where(df['기준일자'].between('2018-07-01','2018-07-31'))\n",
    "\n",
    "du.show()"
   ]
  },
  {
   "cell_type": "code",
   "execution_count": null,
   "metadata": {},
   "outputs": [],
   "source": [
    "type(du['기준일자'].between('2018-07-01','2018-07-31'))\n",
    "du.where(du['기준일자'].between('2018-07-01','2018-07-31')).show()"
   ]
  },
  {
   "cell_type": "code",
   "execution_count": null,
   "metadata": {},
   "outputs": [],
   "source": [
    "u2318_may=du.where(du['기준일자'].between('2018-05-01','2018-05-31'))\\\n",
    "            .select('기준일자','대여건수','반납건수',sf.split('대여소명','[.]')[0].alias('대여소번호'))\\\n",
    "            .filter(col('대여소번호')==2318)"
   ]
  },
  {
   "cell_type": "code",
   "execution_count": null,
   "metadata": {},
   "outputs": [],
   "source": [
    "sns.lineplot(x='기준일자',y='대여건수',data=u2318_may.toPandas())\n",
    "plt.show()"
   ]
  },
  {
   "cell_type": "code",
   "execution_count": null,
   "metadata": {},
   "outputs": [],
   "source": [
    "du.show()"
   ]
  },
  {
   "cell_type": "code",
   "execution_count": null,
   "metadata": {},
   "outputs": [],
   "source": [
    "type(du['기준일자'])"
   ]
  },
  {
   "cell_type": "code",
   "execution_count": null,
   "metadata": {},
   "outputs": [],
   "source": [
    "u2018 = du.where(du['기준일자'].between('2018-01-01','2018-12-31'))"
   ]
  },
  {
   "cell_type": "code",
   "execution_count": null,
   "metadata": {},
   "outputs": [],
   "source": [
    "monthly = u2018.groupBy('기준일자')\n",
    "daily_max = u2018.orderBy('대여건수',ascending=False).take(1)\n",
    "daily_min = u2018.orderBy('대여건수',ascending=True).take(1)\n",
    "print('최소 :',daily_min)\n",
    "print('최대 :',daily_max)"
   ]
  },
  {
   "cell_type": "code",
   "execution_count": null,
   "metadata": {},
   "outputs": [],
   "source": [
    "gangnam = u2018.where(u2018['대여소위치']=='강남구')"
   ]
  },
  {
   "cell_type": "code",
   "execution_count": null,
   "metadata": {},
   "outputs": [],
   "source": [
    "from pyspark.sql.functions import hour,mean,month,year,dayofmonth\n"
   ]
  },
  {
   "cell_type": "code",
   "execution_count": null,
   "metadata": {},
   "outputs": [],
   "source": [
    "#gangnam.groupBy(month('기준일자').alias('monthly')).agg(sum('반납건수').alias('sum반납')).show()\n",
    "gangnam.withColumn(col(month('기준일자')))"
   ]
  },
  {
   "cell_type": "code",
   "execution_count": null,
   "metadata": {},
   "outputs": [],
   "source": [
    "u2018.withColumn('월',month(du['기준일자']))"
   ]
  },
  {
   "cell_type": "code",
   "execution_count": null,
   "metadata": {},
   "outputs": [],
   "source": [
    "du.show()"
   ]
  },
  {
   "cell_type": "code",
   "execution_count": null,
   "metadata": {},
   "outputs": [],
   "source": []
  }
 ],
 "metadata": {
  "kernelspec": {
   "display_name": "Python 3",
   "language": "python",
   "name": "python3"
  },
  "language_info": {
   "codemirror_mode": {
    "name": "ipython",
    "version": 3
   },
   "file_extension": ".py",
   "mimetype": "text/x-python",
   "name": "python",
   "nbconvert_exporter": "python",
   "pygments_lexer": "ipython3",
   "version": "3.6.7"
  }
 },
 "nbformat": 4,
 "nbformat_minor": 2
}
