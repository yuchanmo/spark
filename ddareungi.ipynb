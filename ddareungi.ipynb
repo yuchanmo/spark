{
 "cells": [
  {
   "cell_type": "code",
   "execution_count": 1,
   "metadata": {},
   "outputs": [],
   "source": [
    "import findspark\n",
    "findspark.init()"
   ]
  },
  {
   "cell_type": "code",
   "execution_count": 2,
   "metadata": {},
   "outputs": [],
   "source": [
    "from pyspark.sql import SparkSession\n",
    "spark = SparkSession.builder \\\n",
    "        .master(\"yarn\") \\\n",
    "        .appName(\"ddareungi\") \\\n",
    "        .getOrCreate()\n",
    "sc = spark.sparkContext"
   ]
  },
  {
   "cell_type": "markdown",
   "metadata": {},
   "source": [
    "<대여소정보>\n",
    " - 지역별(구 단위) 따릉이 대여소의 총 수/가장 많은 곳/가장 적은 곳는?\n",
    " - 지역별(구 단위) 따릉이 거치대의 총 수/가장 많은 곳/가장 적은 곳는?\n",
    "\n",
    "\n",
    "<위치별 대여수 정보>\n",
    " - 총 데이터 누적 기준 가장 많은 따릉이가 대여/반납된 대여소는?\n",
    " - 총 데이터 누적 기준 가장 많은 따릉이가 대여/반납된 구는?\n",
    " - 총 데이터 누적 기준 따릉이 대여와 반납의 차이가 가장 큰 대여소/구는?\n",
    "\n",
    "\n",
    "<일자별/월별 대여수 정보>\n",
    " - 2018년 전체 대여소 중 7/8/9/10월의 평균/일최대 따릉이 대여수는?\n",
    " - 지역별 월별 따릉이 대여/반납 누적 수는?\n",
    "\n",
    "\n",
    "<테이블조인>\n",
    " - 거치대 수 대비 따릉이 대여/반납 비율이 가장 높은 대여소/구는?\n",
    " - 따릉이 대여가 100건 이상 이루어진 경우가 있는 대여소 중 가장 남쪽에 있는 대여소는?"
   ]
  },
  {
   "cell_type": "code",
   "execution_count": 4,
   "metadata": {
    "scrolled": true
   },
   "outputs": [
    {
     "name": "stdout",
     "output_type": "stream",
     "text": [
      "+---+------+-----+--------------------+--------------------+----+---------+----------+\n",
      "| 구명| 대여소ID|대여소번호|                대여소명|              대여소 주소|거치대수|       위도|        경도|\n",
      "+---+------+-----+--------------------+--------------------+----+---------+----------+\n",
      "|강남구|ST-777| 2301|          현대고등학교 건너편|서울특별시 강남구 압구정로 13...|  10|37.524071| 127.02179|\n",
      "|강남구|ST-787| 2302|교보타워 버스정류장(신논현역 3...|서울특별시 강남구 봉은사로 지하...|  10|37.505581|127.024277|\n",
      "|강남구|ST-788| 2303|            논현역 7번출구|서울특별시 강남구 학동로 지하 ...|  15|37.511517|127.021477|\n",
      "|강남구|ST-789| 2304|   신영 ROYAL PALACE 앞|서울특별시 강남구 언주로 626...|  10|37.512527|127.035835|\n",
      "|강남구|ST-790| 2305|        MCM 본사 직영점 앞|서울특별시 강남구 언주로 734...|  10|37.520641|127.034508|\n",
      "|강남구|ST-791| 2306|        압구정역 2번 출구 옆|서울특별시 강남구 압구정로 지하...|  30|37.527122|127.028717|\n",
      "|강남구|ST-792| 2307|       압구정 한양 3차 아파트|서울특별시 강남구 압구정로 32...|  10|37.528614|127.038559|\n",
      "|강남구|ST-793| 2308|            압구정파출소 앞|서울특별시 강남구 압구정로 31...|  14|37.529301|127.035599|\n",
      "|강남구|ST-783| 2309|        청담역(우리들병원 앞)|서울특별시 강남구 학동로 443...|  10|37.518902|127.049385|\n",
      "|강남구|ST-794| 2310|      청담동 맥도날드 옆(위치)|서울특별시 강남구 학동로 지하 ...|  10|37.523613|127.040176|\n",
      "|강남구|ST-786| 2311|       학동로 래미안 아파트 앞|서울특별시 강남구 학동로 지하 ...|  10|37.517773|127.043022|\n",
      "|강남구|ST-795| 2312|        청담역 13번 출구 앞|서울특별시 강남구 영동대로 70...|  10| 37.52058|127.056328|\n",
      "|강남구|ST-796| 2313|              금원빌딩 앞|서울특별시 강남구 도산대로 53...|  10|37.525116|127.052467|\n",
      "|강남구|ST-798| 2314|             청담나들목입구|서울특별시 강남구 영동대로128...|  10|37.521275|127.061035|\n",
      "|강남구|ST-799| 2315|         봉은사역 5번출구 옆|서울특별시 강남구 봉은사로 지하...|  10|37.514248|127.061119|\n",
      "|강남구|ST-784| 2317|              삼성도로공원|서울특별시 강남구 영동대로112...|  10|37.515888|  127.0662|\n",
      "|강남구|ST-801| 2318| 삼성중앙역4번출구(문화센터더 리빌)|서울특별시 강남구 봉은사로 53...|  15|37.513577|127.055031|\n",
      "|강남구|ST-802| 2319|포스코4거리 서측(수협 삼성동 지점)|서울특별시 강남구 테헤란로 43...|  10|37.506607| 127.05468|\n",
      "|강남구|ST-803| 2320|        도곡역 대치지구대 방향|서울특별시 강남구 남부순환로 지...|  10|37.491928|127.056969|\n",
      "|강남구|ST-804| 2321|            학여울역 사거리|서울특별시 강남구 남부순환로 지...|  10|37.496117|127.069443|\n",
      "+---+------+-----+--------------------+--------------------+----+---------+----------+\n",
      "only showing top 20 rows\n",
      "\n"
     ]
    }
   ],
   "source": [
    "# Load location data\n",
    "df_loc = spark.read.option(\"header\", \"true\") \\\n",
    "                    .option(\"nullValue\", \"?\") \\\n",
    "                    .option(\"inferSchema\", \"true\") \\\n",
    "                    .csv('bikeshare_loc.csv')\n",
    "\n",
    "df_loc.show()"
   ]
  },
  {
   "cell_type": "code",
   "execution_count": 5,
   "metadata": {},
   "outputs": [
    {
     "name": "stdout",
     "output_type": "stream",
     "text": [
      "+---+------+-----+--------------------+--------------------+----+---------+---------+\n",
      "| 구명| 대여소ID|대여소번호|                대여소명|              대여소 주소|거치대수|       위도|       경도|\n",
      "+---+------+-----+--------------------+--------------------+----+---------+---------+\n",
      "|강남구|ST-802| 2319|포스코4거리 서측(수협 삼성동 지점)|서울특별시 강남구 테헤란로 43...|  10|37.506607|127.05468|\n",
      "+---+------+-----+--------------------+--------------------+----+---------+---------+\n",
      "\n"
     ]
    }
   ],
   "source": [
    "df_loc.filter(df_loc['대여소번호'] == 2319).show()"
   ]
  },
  {
   "cell_type": "code",
   "execution_count": 6,
   "metadata": {},
   "outputs": [],
   "source": [
    "import pyspark.sql.functions as sf"
   ]
  },
  {
   "cell_type": "code",
   "execution_count": 26,
   "metadata": {},
   "outputs": [
    {
     "name": "stdout",
     "output_type": "stream",
     "text": [
      "+-----+--------------------+-------------------+----+----+\n",
      "|대여소위치|                대여소명|               기준일자|대여건수|반납건수|\n",
      "+-----+--------------------+-------------------+----+----+\n",
      "|  동작구|2067. LG전자 베스트샾 대...|2018-11-30 00:00:00|  16|  11|\n",
      "|  양천구|  726. 목동3단지 시내버스정류장|2018-11-30 00:00:00|  30|  27|\n",
      "|  양천구|     725. 양강중학교앞 교차로|2018-11-30 00:00:00|  14|   5|\n",
      "|  양천구|724. 계남공원 입구 주출입구 좌측|2018-11-30 00:00:00|   3|   0|\n",
      "|  양천구|         723. SBS방송국|2018-11-30 00:00:00|  38|  44|\n",
      "|  양천구|  722. LG전자베스트샵 신정점 |2018-11-30 00:00:00|  29|  28|\n",
      "|  마포구|       426. 서울신용보증재단|2018-11-30 00:00:00|  11|  22|\n",
      "|  마포구|      425. DMC첨단산업센터|2018-11-30 00:00:00|  14|  11|\n",
      "|  마포구|424. 롯데하이마트 (상암월드...|2018-11-30 00:00:00|   2|   3|\n",
      "|  광진구|  502. 뚝섬유원지역 1번출구 앞|2018-11-30 00:00:00|  63|  75|\n",
      "|  광진구|     3505. 신양초교앞 교차로|2018-11-30 00:00:00|  19|  20|\n",
      "|  광진구|          3504. 원일교회|2018-11-30 00:00:00|  38|  33|\n",
      "|  광진구|      3502. 중곡역 1번출구|2018-11-30 00:00:00|   8|  15|\n",
      "|  광진구|        3501. 광진구청 앞|2018-11-30 00:00:00|  46|  36|\n",
      "|  광진구|       3500. 군자역2번출구|2018-11-30 00:00:00|  24|  28|\n",
      "|  송파구|      1250.문정2동 주민센터|2018-11-30 00:00:00|   6|   8|\n",
      "|  광진구|         593.자양중앙나들목|2018-11-30 00:00:00|  23|  28|\n",
      "|  광진구|        501. 광진구의회 앞|2018-11-30 00:00:00|  32|  30|\n",
      "|  종로구|          451. 청와대앞길|2018-11-30 00:00:00|  14|   6|\n",
      "|  종로구|        450. 효자동 삼거리|2018-11-30 00:00:00|  24|  22|\n",
      "+-----+--------------------+-------------------+----+----+\n",
      "only showing top 20 rows\n",
      "\n"
     ]
    }
   ],
   "source": [
    "df_usage = spark.read.option(\"header\", \"true\") \\\n",
    "                    .option(\"nullValue\", \"?\") \\\n",
    "                    .option(\"inferSchema\", \"true\") \\\n",
    "                    .csv('bikeshare_seoul.csv')\n",
    "\n",
    "df_usage.show()"
   ]
  },
  {
   "cell_type": "code",
   "execution_count": 27,
   "metadata": {},
   "outputs": [],
   "source": [
    "usage100 = df_usage.filter(df_usage['대여건수'] >= 100) .select('대여건수', '반납건수',  sf.split('대여소명', '[.]')[0].alias('대여소번호'))"
   ]
  },
  {
   "cell_type": "code",
   "execution_count": 28,
   "metadata": {
    "scrolled": true
   },
   "outputs": [
    {
     "name": "stdout",
     "output_type": "stream",
     "text": [
      "+----+----+-----+\n",
      "|대여건수|반납건수|대여소번호|\n",
      "+----+----+-----+\n",
      "| 119| 132| 1210|\n",
      "| 116| 139| 1308|\n",
      "| 144| 202|  113|\n",
      "| 104| 104|  590|\n",
      "| 129| 140| 1308|\n",
      "| 122| 194|  113|\n",
      "| 120| 121|  590|\n",
      "| 116| 115| 1308|\n",
      "| 130| 205|  113|\n",
      "| 131| 130|  590|\n",
      "| 101| 102| 1210|\n",
      "| 104| 131| 1308|\n",
      "| 140| 201|  113|\n",
      "| 102| 115|  592|\n",
      "| 118| 116|  590|\n",
      "| 130| 129| 1210|\n",
      "| 141| 158| 1308|\n",
      "| 107| 105|  540|\n",
      "| 155| 209|  113|\n",
      "| 100| 101| 1210|\n",
      "+----+----+-----+\n",
      "only showing top 20 rows\n",
      "\n"
     ]
    }
   ],
   "source": [
    "usage100.show()"
   ]
  },
  {
   "cell_type": "code",
   "execution_count": 29,
   "metadata": {
    "scrolled": true
   },
   "outputs": [
    {
     "name": "stdout",
     "output_type": "stream",
     "text": [
      "+-----+----+----+---+-----------------+---------+\n",
      "|대여소번호|대여건수|반납건수| 구명|             대여소명|       위도|\n",
      "+-----+----+----+---+-----------------+---------+\n",
      "| 1210| 119| 132|송파구|롯데월드타워(잠실역2번출구 쪽)|37.513126|\n",
      "| 1308| 116| 139|성북구|    안암로터리 버스정류장 앞|37.582592|\n",
      "|  113| 144| 202|마포구|     홍대입구역 2번출구 앞|37.557499|\n",
      "|  590| 104| 104|광진구|    건국대학교 (입학정보관)| 37.53989|\n",
      "| 1308| 129| 140|성북구|    안암로터리 버스정류장 앞|37.582592|\n",
      "|  113| 122| 194|마포구|     홍대입구역 2번출구 앞|37.557499|\n",
      "|  590| 120| 121|광진구|    건국대학교 (입학정보관)| 37.53989|\n",
      "| 1308| 116| 115|성북구|    안암로터리 버스정류장 앞|37.582592|\n",
      "|  113| 130| 205|마포구|     홍대입구역 2번출구 앞|37.557499|\n",
      "|  590| 131| 130|광진구|    건국대학교 (입학정보관)| 37.53989|\n",
      "| 1210| 101| 102|송파구|롯데월드타워(잠실역2번출구 쪽)|37.513126|\n",
      "| 1308| 104| 131|성북구|    안암로터리 버스정류장 앞|37.582592|\n",
      "|  113| 140| 201|마포구|     홍대입구역 2번출구 앞|37.557499|\n",
      "|  592| 102| 115|광진구|       건국대학교 학생회관|37.541912|\n",
      "|  590| 118| 116|광진구|    건국대학교 (입학정보관)| 37.53989|\n",
      "| 1210| 130| 129|송파구|롯데월드타워(잠실역2번출구 쪽)|37.513126|\n",
      "| 1308| 141| 158|성북구|    안암로터리 버스정류장 앞|37.582592|\n",
      "|  540| 107| 105|광진구|  군자역 7번출구 베스트샵 앞| 37.55603|\n",
      "|  113| 155| 209|마포구|     홍대입구역 2번출구 앞|37.557499|\n",
      "| 1210| 100| 101|송파구|롯데월드타워(잠실역2번출구 쪽)|37.513126|\n",
      "+-----+----+----+---+-----------------+---------+\n",
      "only showing top 20 rows\n",
      "\n"
     ]
    }
   ],
   "source": [
    "df_joined = usage100.join(df_loc.select('대여소번호','구명','대여소명','위도'), on='대여소번호', how='inner')\n",
    "df_joined.show()"
   ]
  },
  {
   "cell_type": "code",
   "execution_count": 30,
   "metadata": {},
   "outputs": [
    {
     "name": "stdout",
     "output_type": "stream",
     "text": [
      "+-----+----+----+---+--------------------+---------+\n",
      "|대여소번호|대여건수|반납건수| 구명|                대여소명|       위도|\n",
      "+-----+----+----+---+--------------------+---------+\n",
      "| 1820| 154| 253|금천구|     신한은행 시흥대로금융센터지점| 37.44334|\n",
      "| 1816| 181| 150|금천구|            금천폭포공원 앞|37.446861|\n",
      "| 2203| 190| 135|서초구|         청계산입구역 2번출구|37.447659|\n",
      "| 2202|1054|1082|서초구|         청계산입구역 1번출구|37.448936|\n",
      "| 2270| 238| 252|서초구|          서초포레스타 7단지|37.448967|\n",
      "| 1821| 243| 314|금천구|홈플러스 시흥점 맞은편 다비치안경 앞|37.451458|\n",
      "| 1822| 405| 456|금천구|         서울 시흥동우체국 앞|37.452991|\n",
      "| 2201| 155| 174|서초구|           본마을 정류소 앞|37.453281|\n",
      "| 2205| 587| 548|서초구|       내곡3단지 어린이공원 앞|37.453751|\n",
      "| 2206| 913| 914|서초구|            언남초등학교 앞|37.454399|\n",
      "| 2207| 138|  96|서초구|          내곡파출소 뒤 정자|37.454407|\n",
      "| 1825| 195| 204|금천구|       한신아파트 앞 육교 아래|  37.4547|\n",
      "| 2250| 548| 505|서초구|           서초유치원 맞은편|37.455799|\n",
      "| 1827|1201|1242|금천구|    독산보도육교 앞 자전거 보관소|37.455849|\n",
      "| 1827| 123| 114|금천구|    독산보도육교 앞 자전거 보관소|37.455849|\n",
      "| 2249| 296| 289|서초구|          우솔초등학교 맞은편|37.456234|\n",
      "| 1819| 370| 364|금천구|       금천구청 앞 자전거거치대|37.456478|\n",
      "| 1826| 235| 269|금천구|              한신코아 앞|37.456841|\n",
      "| 2285| 421| 386|서초구|    LH서초3단지 301동 맞은편|37.457424|\n",
      "| 1823| 300| 234|금천구|            상신정비공업 앞|37.458912|\n",
      "+-----+----+----+---+--------------------+---------+\n",
      "only showing top 20 rows\n",
      "\n"
     ]
    }
   ],
   "source": [
    "from pyspark.sql.functions import col\n",
    "df_joined.sort(col(\"위도\").asc()).show()"
   ]
  },
  {
   "cell_type": "code",
   "execution_count": 31,
   "metadata": {
    "scrolled": true
   },
   "outputs": [
    {
     "name": "stdout",
     "output_type": "stream",
     "text": [
      "+-----+--------------------+-------------------+----+----+\n",
      "|대여소위치|                대여소명|               기준일자|대여건수|반납건수|\n",
      "+-----+--------------------+-------------------+----+----+\n",
      "|  동작구|2067. LG전자 베스트샾 대...|2018-11-30 00:00:00|  16|  11|\n",
      "|  양천구|  726. 목동3단지 시내버스정류장|2018-11-30 00:00:00|  30|  27|\n",
      "|  양천구|     725. 양강중학교앞 교차로|2018-11-30 00:00:00|  14|   5|\n",
      "|  양천구|724. 계남공원 입구 주출입구 좌측|2018-11-30 00:00:00|   3|   0|\n",
      "|  양천구|         723. SBS방송국|2018-11-30 00:00:00|  38|  44|\n",
      "|  양천구|  722. LG전자베스트샵 신정점 |2018-11-30 00:00:00|  29|  28|\n",
      "|  마포구|       426. 서울신용보증재단|2018-11-30 00:00:00|  11|  22|\n",
      "|  마포구|      425. DMC첨단산업센터|2018-11-30 00:00:00|  14|  11|\n",
      "|  마포구|424. 롯데하이마트 (상암월드...|2018-11-30 00:00:00|   2|   3|\n",
      "|  광진구|  502. 뚝섬유원지역 1번출구 앞|2018-11-30 00:00:00|  63|  75|\n",
      "|  광진구|     3505. 신양초교앞 교차로|2018-11-30 00:00:00|  19|  20|\n",
      "|  광진구|          3504. 원일교회|2018-11-30 00:00:00|  38|  33|\n",
      "|  광진구|      3502. 중곡역 1번출구|2018-11-30 00:00:00|   8|  15|\n",
      "|  광진구|        3501. 광진구청 앞|2018-11-30 00:00:00|  46|  36|\n",
      "|  광진구|       3500. 군자역2번출구|2018-11-30 00:00:00|  24|  28|\n",
      "|  송파구|      1250.문정2동 주민센터|2018-11-30 00:00:00|   6|   8|\n",
      "|  광진구|         593.자양중앙나들목|2018-11-30 00:00:00|  23|  28|\n",
      "|  광진구|        501. 광진구의회 앞|2018-11-30 00:00:00|  32|  30|\n",
      "|  종로구|          451. 청와대앞길|2018-11-30 00:00:00|  14|   6|\n",
      "|  종로구|        450. 효자동 삼거리|2018-11-30 00:00:00|  24|  22|\n",
      "+-----+--------------------+-------------------+----+----+\n",
      "only showing top 20 rows\n",
      "\n"
     ]
    }
   ],
   "source": [
    "# Load usage data\n",
    "df_usage = spark.read.option(\"header\", \"true\") \\\n",
    "                    .option(\"nullValue\", \"?\") \\\n",
    "                    .option(\"inferSchema\", \"true\") \\\n",
    "                    .csv('bikeshare_seoul.csv')\n",
    "\n",
    "df_usage.show()"
   ]
  },
  {
   "cell_type": "code",
   "execution_count": 32,
   "metadata": {},
   "outputs": [
    {
     "name": "stdout",
     "output_type": "stream",
     "text": [
      "+-------------------+----+----+-----+\n",
      "|               기준일자|대여건수|반납건수|대여소번호|\n",
      "+-------------------+----+----+-----+\n",
      "|2018-05-30 00:00:00|  18|  16| 2318|\n",
      "|2018-05-29 00:00:00|   8|   9| 2318|\n",
      "|2018-05-28 00:00:00|  13|  14| 2318|\n",
      "|2018-05-27 00:00:00|   7|   9| 2318|\n",
      "|2018-05-26 00:00:00|  16|  15| 2318|\n",
      "|2018-05-25 00:00:00|  27|  14| 2318|\n",
      "|2018-05-24 00:00:00|  26|  20| 2318|\n",
      "|2018-05-23 00:00:00|  24|  18| 2318|\n",
      "|2018-05-22 00:00:00|   6|  12| 2318|\n",
      "|2018-05-21 00:00:00|  21|  16| 2318|\n",
      "|2018-05-20 00:00:00|  21|  22| 2318|\n",
      "|2018-05-19 00:00:00|  13|  14| 2318|\n",
      "|2018-05-18 00:00:00|  11|   4| 2318|\n",
      "|2018-05-17 00:00:00|   1|   3| 2318|\n",
      "|2018-05-16 00:00:00|   2|   2| 2318|\n",
      "|2018-05-15 00:00:00|  21|  13| 2318|\n",
      "|2018-05-14 00:00:00|  19|  10| 2318|\n",
      "|2018-05-13 00:00:00|  23|  15| 2318|\n",
      "|2018-05-11 00:00:00|  26|  20| 2318|\n",
      "|2018-05-10 00:00:00|  16|   7| 2318|\n",
      "+-------------------+----+----+-----+\n",
      "only showing top 20 rows\n",
      "\n"
     ]
    }
   ],
   "source": [
    "import pyspark.sql.functions as sf\n",
    "U2318_may = df_usage.where(df_usage['기준일자'].between('2018-05-01', '2018-05-31')).select('기준일자', '대여건수', '반납건수',  sf.split('대여소명', '[.]')[0].alias('대여소번호')).filter(col('대여소번호') == 2318)\n",
    "U2318_may.show()"
   ]
  },
  {
   "cell_type": "code",
   "execution_count": 33,
   "metadata": {},
   "outputs": [],
   "source": [
    "U2318_may_pd = U2318_may.toPandas()"
   ]
  },
  {
   "cell_type": "code",
   "execution_count": 34,
   "metadata": {},
   "outputs": [
    {
     "name": "stderr",
     "output_type": "stream",
     "text": [
      "/usr/local/lib64/python3.6/site-packages/pandas/plotting/_converter.py:129: FutureWarning: Using an implicitly registered datetime converter for a matplotlib plotting method. The converter was registered by pandas on import. Future versions of pandas will require you to explicitly register matplotlib converters.\n",
      "\n",
      "To register the converters:\n",
      "\t>>> from pandas.plotting import register_matplotlib_converters\n",
      "\t>>> register_matplotlib_converters()\n",
      "  warnings.warn(msg, FutureWarning)\n"
     ]
    },
    {
     "data": {
      "image/png": "[encoded data removed]",
      "text/plain": [
       "<Figure size 842.4x595.44 with 1 Axes>"
      ]
     },
     "metadata": {},
     "output_type": "display_data"
    }
   ],
   "source": [
    "sns.set(rc={'figure.figsize':(11.7,8.27)})\n",
    "sns.lineplot(x='기준일자', y='대여건수', data=U2318_may.toPandas())\n",
    "plt.show()"
   ]
  },
  {
   "cell_type": "markdown",
   "metadata": {},
   "source": [
    "___\n",
    "## <대여소정보>\n"
   ]
  },
  {
   "cell_type": "markdown",
   "metadata": {},
   "source": [
    " - 지역별(구 단위) 따릉이 대여소의 총 수/가장 많은 곳/가장 적은 곳는?"
   ]
  },
  {
   "cell_type": "code",
   "execution_count": 35,
   "metadata": {
    "scrolled": true
   },
   "outputs": [
    {
     "name": "stdout",
     "output_type": "stream",
     "text": [
      "+----+-----+\n",
      "|  구명|count|\n",
      "+----+-----+\n",
      "| 도봉구|   31|\n",
      "| 용산구|   37|\n",
      "| 강북구|   37|\n",
      "|  중구|   38|\n",
      "| 동작구|   41|\n",
      "| 금천구|   42|\n",
      "|동대문구|   49|\n",
      "| 관악구|   51|\n",
      "|서대문구|   51|\n",
      "| 양천구|   51|\n",
      "| 중랑구|   52|\n",
      "| 구로구|   56|\n",
      "| 성북구|   56|\n",
      "| 강동구|   57|\n",
      "| 광진구|   57|\n",
      "| 은평구|   60|\n",
      "| 성동구|   62|\n",
      "| 종로구|   63|\n",
      "| 노원구|   66|\n",
      "| 마포구|   75|\n",
      "+----+-----+\n",
      "only showing top 20 rows\n",
      "\n"
     ]
    }
   ],
   "source": [
    "df_loc.groupBy('구명').count().orderBy('count').show()"
   ]
  },
  {
   "cell_type": "code",
   "execution_count": 36,
   "metadata": {},
   "outputs": [],
   "source": [
    "import seaborn as sns"
   ]
  },
  {
   "cell_type": "code",
   "execution_count": 37,
   "metadata": {
    "scrolled": true
   },
   "outputs": [
    {
     "name": "stdout",
     "output_type": "stream",
     "text": [
      "+----+-----+\n",
      "|  구명|count|\n",
      "+----+-----+\n",
      "| 강남구|   95|\n",
      "| 서초구|   87|\n",
      "| 송파구|   86|\n",
      "|영등포구|   84|\n",
      "| 강서구|   76|\n",
      "| 마포구|   75|\n",
      "| 노원구|   66|\n",
      "| 종로구|   63|\n",
      "| 성동구|   62|\n",
      "| 은평구|   60|\n",
      "| 광진구|   57|\n",
      "| 강동구|   57|\n",
      "| 성북구|   56|\n",
      "| 구로구|   56|\n",
      "| 중랑구|   52|\n",
      "| 관악구|   51|\n",
      "|서대문구|   51|\n",
      "| 양천구|   51|\n",
      "|동대문구|   49|\n",
      "| 금천구|   42|\n",
      "+----+-----+\n",
      "only showing top 20 rows\n",
      "\n"
     ]
    }
   ],
   "source": [
    "df_loc.groupBy('구명').count().orderBy('count', ascending=False).show()"
   ]
  },
  {
   "cell_type": "code",
   "execution_count": 38,
   "metadata": {},
   "outputs": [],
   "source": [
    "pd_loc_count = df_loc.groupBy('구명').count().orderBy('count', ascending=False)"
   ]
  },
  {
   "cell_type": "code",
   "execution_count": 39,
   "metadata": {},
   "outputs": [],
   "source": [
    "import matplotlib.pylab as plt"
   ]
  },
  {
   "cell_type": "code",
   "execution_count": 40,
   "metadata": {},
   "outputs": [],
   "source": [
    "result = df_loc.select('구명').toPandas()"
   ]
  },
  {
   "cell_type": "code",
   "execution_count": 41,
   "metadata": {},
   "outputs": [
    {
     "data": {
      "text/plain": [
       "'/usr/local/lib64/python3.6/site-packages/matplotlib/mpl-data/matplotlibrc'"
      ]
     },
     "execution_count": 41,
     "metadata": {},
     "output_type": "execute_result"
    }
   ],
   "source": [
    "import matplotlib as mpl\n",
    "mpl.matplotlib_fname()"
   ]
  },
  {
   "cell_type": "code",
   "execution_count": 42,
   "metadata": {},
   "outputs": [
    {
     "name": "stdout",
     "output_type": "stream",
     "text": [
      "['/usr/share/fonts/dejavu/DejaVuSansCondensed.ttf', '/usr/share/fonts/nhn-nanum/NanumGothic.ttf', '/usr/share/fonts/dejavu/DejaVuSansCondensed-Bold.ttf', '/usr/share/fonts/nhn-nanum/NanumGothicExtraBold.ttf', '/usr/share/fonts/dejavu/DejaVuSans.ttf', '/usr/share/fonts/dejavu/DejaVuSans-Oblique.ttf', '/usr/share/fonts/nhn-nanum/NanumGothicBold.ttf', '/usr/share/fonts/dejavu/DejaVuSansCondensed-BoldOblique.ttf', '/usr/share/fonts/dejavu/DejaVuSans-Bold.ttf', '/usr/share/fonts/dejavu/DejaVuSans-BoldOblique.ttf', '/usr/share/fonts/dejavu/DejaVuSans-ExtraLight.ttf', '/usr/share/fonts/dejavu/DejaVuSansCondensed-Oblique.ttf']\n"
     ]
    }
   ],
   "source": [
    "import matplotlib.font_manager as fm\n",
    "fonts = fm.findSystemFonts()\n",
    "print(fonts)"
   ]
  },
  {
   "cell_type": "code",
   "execution_count": 43,
   "metadata": {},
   "outputs": [
    {
     "data": {
      "image/png": "[encoded data removed]",
      "text/plain": [
       "<Figure size 842.4x595.44 with 1 Axes>"
      ]
     },
     "metadata": {},
     "output_type": "display_data"
    }
   ],
   "source": [
    "fontname = fm.FontProperties(fname='/usr/share/fonts/nhn-nanum/NanumGothic.ttf').get_name()\n",
    "mpl.rc('font', family = fontname)\n",
    "sns.countplot(x='구명', data=result)\n",
    "plt.show()"
   ]
  },
  {
   "cell_type": "code",
   "execution_count": 44,
   "metadata": {},
   "outputs": [
    {
     "data": {
      "text/plain": [
       "[Row(구명='도봉구', count=31)]"
      ]
     },
     "execution_count": 44,
     "metadata": {},
     "output_type": "execute_result"
    }
   ],
   "source": [
    "df_loc.groupBy('구명').count().orderBy('count', ascending=True).take(1)"
   ]
  },
  {
   "cell_type": "markdown",
   "metadata": {},
   "source": [
    " - 지역별(구 단위) 따릉이 거치대의 총 수/가장 많은 곳/가장 적은 곳는?"
   ]
  },
  {
   "cell_type": "code",
   "execution_count": 45,
   "metadata": {
    "scrolled": true
   },
   "outputs": [
    {
     "name": "stdout",
     "output_type": "stream",
     "text": [
      "+----+---------+\n",
      "|  구명|sum(거치대수)|\n",
      "+----+---------+\n",
      "| 서초구|     1214|\n",
      "|영등포구|     1191|\n",
      "| 강남구|     1150|\n",
      "| 송파구|     1130|\n",
      "| 마포구|     1025|\n",
      "| 강서구|      884|\n",
      "| 노원구|      840|\n",
      "| 성동구|      771|\n",
      "| 강동구|      763|\n",
      "| 광진구|      720|\n",
      "| 종로구|      706|\n",
      "| 성북구|      687|\n",
      "| 은평구|      671|\n",
      "| 구로구|      661|\n",
      "|서대문구|      643|\n",
      "|동대문구|      633|\n",
      "| 관악구|      632|\n",
      "| 양천구|      628|\n",
      "| 중랑구|      616|\n",
      "| 용산구|      523|\n",
      "+----+---------+\n",
      "only showing top 20 rows\n",
      "\n"
     ]
    }
   ],
   "source": [
    "df_loc.groupBy('구명').sum('거치대수').orderBy('sum(거치대수)', ascending=False).show()"
   ]
  },
  {
   "cell_type": "code",
   "execution_count": 46,
   "metadata": {},
   "outputs": [
    {
     "data": {
      "image/png": "[encoded data removed]",
      "text/plain": [
       "<Figure size 842.4x595.44 with 1 Axes>"
      ]
     },
     "metadata": {},
     "output_type": "display_data"
    }
   ],
   "source": [
    "result = df_loc.groupBy('구명').sum('거치대수').toPandas()\n",
    "sns.barplot(x=\"구명\", y=\"sum(거치대수)\", data=result)\n",
    "plt.show()"
   ]
  },
  {
   "cell_type": "code",
   "execution_count": 47,
   "metadata": {},
   "outputs": [
    {
     "data": {
      "text/plain": [
       "[Row(구명='서초구', sum(거치대수)=1214)]"
      ]
     },
     "execution_count": 47,
     "metadata": {},
     "output_type": "execute_result"
    }
   ],
   "source": [
    "df_loc.groupBy('구명').sum('거치대수').orderBy('sum(거치대수)', ascending=False).take(1)"
   ]
  },
  {
   "cell_type": "code",
   "execution_count": 48,
   "metadata": {},
   "outputs": [
    {
     "data": {
      "text/plain": [
       "[Row(구명='도봉구', sum(거치대수)=383)]"
      ]
     },
     "execution_count": 48,
     "metadata": {},
     "output_type": "execute_result"
    }
   ],
   "source": [
    "df_loc.groupBy('구명').sum('거치대수').orderBy('sum(거치대수)', ascending=True).take(1)"
   ]
  },
  {
   "cell_type": "code",
   "execution_count": 49,
   "metadata": {},
   "outputs": [
    {
     "data": {
      "text/plain": [
       "[Row(구명='서초구', 총거치대수=1214)]"
      ]
     },
     "execution_count": 49,
     "metadata": {},
     "output_type": "execute_result"
    }
   ],
   "source": [
    "# 이런식으로 이름도 따로 줄 수 있음, 아래부턴 이 방식으로 진행\n",
    "import pyspark.sql.functions as sf\n",
    "df_loc.groupBy('구명')\\\n",
    "    .agg(sf.sum(\"거치대수\").alias('총거치대수'))\\\n",
    "    .orderBy('총거치대수', ascending=False)\\\n",
    "    .take(1)"
   ]
  },
  {
   "cell_type": "markdown",
   "metadata": {},
   "source": [
    "___\n",
    "## <위치별 대여수 정보>"
   ]
  },
  {
   "cell_type": "markdown",
   "metadata": {},
   "source": [
    " - 총 데이터 누적 기준 가장 많은 따릉이가 대여/반납된 대여소는?"
   ]
  },
  {
   "cell_type": "code",
   "execution_count": 50,
   "metadata": {},
   "outputs": [
    {
     "name": "stdout",
     "output_type": "stream",
     "text": [
      "+--------------------+------+\n",
      "|                대여소명| 총대여건수|\n",
      "+--------------------+------+\n",
      "|   207. 여의나루역 1번출구 앞|159695|\n",
      "|  502. 뚝섬유원지역 1번출구 앞|121702|\n",
      "|   113. 홍대입구역 2번출구 앞|116752|\n",
      "|     152. 마포구민체육센터 앞| 65325|\n",
      "|     106. 합정역 7번출구 앞| 61311|\n",
      "|1210. 롯데월드타워(잠실역2...| 58136|\n",
      "|       358. 성대입구 사거리| 56064|\n",
      "|         419. 홈플러스 앞| 55478|\n",
      "|       2102. 봉림교 교통섬| 55299|\n",
      "|        501. 광진구의회 앞| 54803|\n",
      "|2219. 고속터미널역 8-1번...| 53845|\n",
      "|     102. 망원역 1번출구 앞| 53573|\n",
      "|         421. 마포구청 앞| 52964|\n",
      "|    247. 당산역 10번출구 앞| 52780|\n",
      "|   114. 홍대입구역 8번출구 앞| 51866|\n",
      "|    211. 여의도역 4번출구 옆| 51856|\n",
      "|   511. 서울숲역 4번 출구 옆| 50123|\n",
      "|         311. 서울광장 옆| 49499|\n",
      "|        907. CJ 드림시티| 49412|\n",
      "|       409. 누리꿈스퀘어 옆| 48941|\n",
      "+--------------------+------+\n",
      "only showing top 20 rows\n",
      "\n"
     ]
    }
   ],
   "source": [
    "df_usage.groupBy('대여소명')\\\n",
    "    .agg(sf.sum(\"대여건수\").alias('총대여건수'))\\\n",
    "    .orderBy('총대여건수', ascending=False)\\\n",
    "    .show()"
   ]
  },
  {
   "cell_type": "markdown",
   "metadata": {},
   "source": [
    " - 총 데이터 누적 기준 가장 많은 따릉이가 대여/반납된 구는?"
   ]
  },
  {
   "cell_type": "code",
   "execution_count": 51,
   "metadata": {},
   "outputs": [
    {
     "name": "stdout",
     "output_type": "stream",
     "text": [
      "+-----+-------+\n",
      "|대여소위치|  총대여건수|\n",
      "+-----+-------+\n",
      "|  마포구|2116691|\n",
      "| 영등포구|1836859|\n",
      "|  종로구|1309361|\n",
      "|  성동구|1035122|\n",
      "|  광진구|1017865|\n",
      "|  송파구| 820438|\n",
      "| 서대문구| 810534|\n",
      "| 동대문구| 651099|\n",
      "|   중구| 631085|\n",
      "|  서초구| 568709|\n",
      "|  강남구| 531907|\n",
      "|  노원구| 492055|\n",
      "|  은평구| 491372|\n",
      "|  강서구| 474419|\n",
      "|  관악구| 454347|\n",
      "|  용산구| 408850|\n",
      "|  구로구| 400180|\n",
      "|  강동구| 388399|\n",
      "|  성북구| 371708|\n",
      "|  동작구| 361097|\n",
      "+-----+-------+\n",
      "only showing top 20 rows\n",
      "\n"
     ]
    }
   ],
   "source": [
    "df_usage.groupBy('대여소위치')\\\n",
    "    .agg(sf.sum(\"대여건수\").alias('총대여건수'))\\\n",
    "    .orderBy('총대여건수', ascending=False)\\\n",
    "    .show()"
   ]
  },
  {
   "cell_type": "markdown",
   "metadata": {},
   "source": [
    " - 총 데이터 누적 기준 따릉이 대여와 반납의 차이가 가장 큰 대여소/구는?"
   ]
  },
  {
   "cell_type": "code",
   "execution_count": 61,
   "metadata": {},
   "outputs": [
    {
     "data": {
      "text/plain": [
       "[Row(대여소위치='동작구', 대여소명='2067. LG전자 베스트샾 대리점 앞', 기준일자=datetime.datetime(2018, 11, 30, 0, 0), 대여건수=16, 반납건수=11, 대여차이=5)]"
      ]
     },
     "execution_count": 61,
     "metadata": {},
     "output_type": "execute_result"
    }
   ],
   "source": [
    "df_usage.withColumn('대여차이', df_usage['대여건수']-df_usage['반납건수']).take(1)"
   ]
  },
  {
   "cell_type": "code",
   "execution_count": 52,
   "metadata": {},
   "outputs": [
    {
     "data": {
      "text/plain": [
       "[Row(대여소위치='종로구', 총대여차이=69789)]"
      ]
     },
     "execution_count": 52,
     "metadata": {},
     "output_type": "execute_result"
    }
   ],
   "source": [
    "df_usage.withColumn('대여차이', abs(df_usage['대여건수']-df_usage['반납건수']))\\\n",
    "    .groupBy('대여소위치')\\\n",
    "    .agg(sf.sum(\"대여차이\").alias('총대여차이'))\\\n",
    "    .orderBy('총대여차이', ascending=False)\\\n",
    "    .take(1)\n",
    "\n",
    "# 대여소위치만 대여소명 으로 바꾸면 됩니다"
   ]
  },
  {
   "cell_type": "markdown",
   "metadata": {},
   "source": [
    "## <일자별/월별 대여수 정보>"
   ]
  },
  {
   "cell_type": "markdown",
   "metadata": {},
   "source": [
    " - 2018년 전체 대여소 중 7/8/9/10월의 평균/일최대 따릉이 대여수는?"
   ]
  },
  {
   "cell_type": "code",
   "execution_count": 53,
   "metadata": {},
   "outputs": [
    {
     "name": "stdout",
     "output_type": "stream",
     "text": [
      "+-------------------+------------------+\n",
      "|               기준일자|            평균대여건수|\n",
      "+-------------------+------------------+\n",
      "|2018-07-06 00:00:00| 39.23771790808241|\n",
      "|2018-07-08 00:00:00|38.198412698412696|\n",
      "|2018-07-07 00:00:00| 38.07692307692308|\n",
      "|2018-07-04 00:00:00| 36.15810276679842|\n",
      "|2018-07-13 00:00:00|35.579905063291136|\n",
      "|2018-07-12 00:00:00|34.447867298578196|\n",
      "|2018-07-17 00:00:00| 34.32646592709984|\n",
      "|2018-07-18 00:00:00| 33.81349206349206|\n",
      "|2018-07-19 00:00:00| 33.58095238095238|\n",
      "|2018-07-03 00:00:00| 32.81428571428572|\n",
      "|2018-07-16 00:00:00| 32.45800316957211|\n",
      "|2018-07-20 00:00:00| 32.01587301587302|\n",
      "|2018-07-05 00:00:00|31.465612648221345|\n",
      "|2018-07-25 00:00:00| 31.10071371927042|\n",
      "|2018-07-14 00:00:00| 31.04117181314331|\n",
      "|2018-07-23 00:00:00|30.251592356687897|\n",
      "|2018-07-26 00:00:00|29.901107594936708|\n",
      "|2018-07-24 00:00:00| 29.69651347068146|\n",
      "|2018-07-30 00:00:00| 29.01106719367589|\n",
      "|2018-07-11 00:00:00|27.978656126482214|\n",
      "+-------------------+------------------+\n",
      "only showing top 20 rows\n",
      "\n"
     ]
    },
    {
     "data": {
      "text/plain": [
       "[Row(기준일자=datetime.datetime(2018, 7, 8, 0, 0), 최대대여건수=508)]"
      ]
     },
     "execution_count": 53,
     "metadata": {},
     "output_type": "execute_result"
    }
   ],
   "source": [
    "# between은 경계 모두 포함\n",
    "df_usage.where(df_usage['기준일자'].between('2018-07-01', '2018-07-31'))\\\n",
    "    .groupBy('기준일자')\\\n",
    "    .agg(sf.avg('대여건수').alias('평균대여건수'))\\\n",
    "    .orderBy('평균대여건수', ascending=False)\\\n",
    "    .show()\n",
    "\n",
    "df_usage.where(df_usage['기준일자'].between('2018-07-01', '2018-07-31'))\\\n",
    "    .groupBy('기준일자')\\\n",
    "    .agg(sf.max('대여건수').alias('최대대여건수'))\\\n",
    "    .orderBy('최대대여건수', ascending=False)\\\n",
    "    .take(1)\n",
    "\n",
    "# 문제 조건에 맞게 날짜만 수정"
   ]
  },
  {
   "cell_type": "markdown",
   "metadata": {},
   "source": [
    " - 지역별 월별 따릉이 대여/반납 누적 수는?"
   ]
  },
  {
   "cell_type": "code",
   "execution_count": 54,
   "metadata": {},
   "outputs": [
    {
     "name": "stdout",
     "output_type": "stream",
     "text": [
      "+------+-----+-----+------+------+------+------+------+------+------+------+------+-----+\n",
      "| 대여소위치|   01|   02|    03|    04|    05|    06|    07|    08|    09|    10|    11|   12|\n",
      "+------+-----+-----+------+------+------+------+------+------+------+------+------+-----+\n",
      "|   송파구| 7046| 7762| 26086| 39012| 72061| 95020| 81283| 84137|150308|154568| 94097| 9058|\n",
      "|   도봉구|  824| 1095|  3858|  6402| 11705| 16167| 14548| 14773| 22740| 21128| 14245|  865|\n",
      "|   은평구| 8951| 8747| 22269| 36780| 50266| 59462| 48133| 51134| 70288| 75081| 49335|10926|\n",
      "|   양천구| 3427| 3813| 11632| 19379| 30490| 38638| 34560| 37894| 55911| 55269| 36038| 4266|\n",
      "|   중랑구| 2960| 3308| 10128| 16254| 27224| 37643| 34615| 35927| 55004| 52160| 34212| 3622|\n",
      "|   강동구| 3511| 3698| 11366| 18036| 36214| 49566| 43763| 44393| 66775| 65213| 41632| 4232|\n",
      "|   용산구| 5363| 6264| 16708| 27379| 40678| 47352| 36795| 45704| 73170| 66756| 35479| 7202|\n",
      "|   구로구| 4011| 4389| 12530| 20182| 31453| 49543| 45447| 46611| 67161| 68836| 45203| 4814|\n",
      "|   마포구|43873|43952|110734|164668|216156|241647|199438|220927|322269|309657|186261|57109|\n",
      "|   강서구| 3708| 3862| 10505| 19567| 44866| 62287| 56080| 56873| 81023| 79987| 51014| 4647|\n",
      "|   강남구| 6289| 6623| 17705| 24825| 36777| 52141| 52754| 61965| 99718|101672| 63786| 7652|\n",
      "|   광진구|15264|15901| 46427| 71865|101058|116286| 96511|110404|169578|155102|100230|19239|\n",
      "|   성동구|19679|19600| 50617| 76532|103821|115958| 95622|111536|166062|154043| 98090|23562|\n",
      "|   관악구| 5048| 5055| 14003| 21607| 33538| 52537| 50951| 53142| 79108| 81337| 51945| 6076|\n",
      "|  영등포구|35045|35531| 90486|146640|181392|202771|170937|200853|294718|269291|165510|43685|\n",
      "|  동대문구|12432|12010| 29587| 43554| 60213| 70688| 59000| 71780|105131|102165| 68763|15776|\n",
      "|   동작구| 3631| 4004| 11517| 17576| 26851| 38716| 38480| 42878| 70104| 65008| 37726| 4606|\n",
      "|    중구|15850|15912| 33986| 46131| 59543| 68807| 59127| 65690| 89724| 89317| 67751|19247|\n",
      "|   종로구|33649|33383| 71266| 96829|123105|143442|125956|139203|183676|181532|134686|42634|\n",
      "|그룹명 없음|   29|   54|    77|   109|   171|    50|    81|   136|    66|   196|   164|   87|\n",
      "+------+-----+-----+------+------+------+------+------+------+------+------+------+-----+\n",
      "only showing top 20 rows\n",
      "\n"
     ]
    }
   ],
   "source": [
    "# 월별 컬럼 따로 만들어야함\n",
    "df_usage.select('대여소위치', '대여건수',\n",
    "                sf.split('기준일자', '-')[1].alias('월'))\\\n",
    "        .groupBy('대여소위치')\\\n",
    "        .pivot('월')\\\n",
    "        .agg(sf.sum('대여건수'))\\\n",
    "        .show()\n",
    "\n",
    "# 대여건수만 반납건수로 바꾸면 됨"
   ]
  },
  {
   "cell_type": "markdown",
   "metadata": {},
   "source": [
    "___\n",
    "## <테이블조인>"
   ]
  },
  {
   "cell_type": "markdown",
   "metadata": {},
   "source": [
    " - 거치대 수 대비 따릉이 대여/반납 비율이 가장 높은 대여소/구는?"
   ]
  },
  {
   "cell_type": "code",
   "execution_count": 55,
   "metadata": {},
   "outputs": [
    {
     "name": "stdout",
     "output_type": "stream",
     "text": [
      "+-----+----+----+-----+\n",
      "|대여소위치|대여건수|반납건수|대여소번호|\n",
      "+-----+----+----+-----+\n",
      "|  동작구|  16|  11| 2067|\n",
      "|  양천구|  30|  27|  726|\n",
      "|  양천구|  14|   5|  725|\n",
      "|  양천구|   3|   0|  724|\n",
      "|  양천구|  38|  44|  723|\n",
      "|  양천구|  29|  28|  722|\n",
      "|  마포구|  11|  22|  426|\n",
      "|  마포구|  14|  11|  425|\n",
      "|  마포구|   2|   3|  424|\n",
      "|  광진구|  63|  75|  502|\n",
      "|  광진구|  19|  20| 3505|\n",
      "|  광진구|  38|  33| 3504|\n",
      "|  광진구|   8|  15| 3502|\n",
      "|  광진구|  46|  36| 3501|\n",
      "|  광진구|  24|  28| 3500|\n",
      "|  송파구|   6|   8| 1250|\n",
      "|  광진구|  23|  28|  593|\n",
      "|  광진구|  32|  30|  501|\n",
      "|  종로구|  14|   6|  451|\n",
      "|  종로구|  24|  22|  450|\n",
      "+-----+----+----+-----+\n",
      "only showing top 20 rows\n",
      "\n"
     ]
    }
   ],
   "source": [
    "# df_usage의 대여/반납건수와 df_loc의 거치대수 정보가 모두 필요\n",
    "# 두 테이블에 모두 있는 대여소 번호를 이용해 조인\n",
    "\n",
    "# df_usage 대여소명 컬럼에서 대여소 번호만 파싱\n",
    "# '[.]' 대신 '.' 로 파싱하면 정규표현식으로 인식됨\n",
    "df_usage2 = df_usage.select('대여소위치', '대여건수', '반납건수',\n",
    "                sf.split('대여소명', '[.]')[0].alias('대여소번호'))\\\n",
    "    \n",
    "df_usage2.show()"
   ]
  },
  {
   "cell_type": "code",
   "execution_count": 56,
   "metadata": {},
   "outputs": [
    {
     "name": "stdout",
     "output_type": "stream",
     "text": [
      "+-----+-----+----+----+----+---------------+---------+\n",
      "|대여소번호|대여소위치|대여건수|반납건수|거치대수|           대여소명|       위도|\n",
      "+-----+-----+----+----+----+---------------+---------+\n",
      "| 2067|  동작구|  16|  11|  10|LG전자 베스트샾 대리점 앞|37.497669|\n",
      "|  726|  양천구|  30|  27|  15|  목동3단지 시내버스정류장|37.534389|\n",
      "|  725|  양천구|  14|   5|  15|     양강중학교앞 교차로|37.524334|\n",
      "|  724|  양천구|   3|   0|  15|계남공원 입구 주출입구 좌측|37.510681|\n",
      "|  723|  양천구|  38|  44|  15|         SBS방송국|37.529163|\n",
      "|  722|  양천구|  29|  28|  10|   LG전자베스트샵 신정점|37.521435|\n",
      "|  426|  마포구|  11|  22|  10|       서울신용보증재단|37.549061|\n",
      "|  425|  마포구|  14|  11|  10|      DMC첨단산업센터|37.584503|\n",
      "|  424|  마포구|   2|   3|  15|롯데하이마트 (상암월드컵점)| 37.57362|\n",
      "|  502|  광진구|  63|  75|  27|  뚝섬유원지역 1번출구 앞| 37.53186|\n",
      "| 3505|  광진구|  19|  20|  12|      신양초교앞 교차로|37.535221|\n",
      "| 3504|  광진구|  38|  33|   8|           원일교회|37.538052|\n",
      "| 3502|  광진구|   8|  15|  15|       중곡역 1번출구|37.565659|\n",
      "| 3501|  광진구|  46|  36|  10|         광진구청 앞|37.539501|\n",
      "| 3500|  광진구|  24|  28|  10|        군자역2번출구|37.557587|\n",
      "| 1250|  송파구|   6|   8|  10|      문정2동 주민센터|37.490047|\n",
      "|  593|  광진구|  23|  28|   5|        자양중앙나들목|37.528587|\n",
      "|  501|  광진구|  32|  30|  15|        광진구의회 앞|37.537308|\n",
      "|  451|  종로구|  14|   6|  13|          청와대앞길|37.583515|\n",
      "|  450|  종로구|  24|  22|  20|        효자동 삼거리|37.583603|\n",
      "+-----+-----+----+----+----+---------------+---------+\n",
      "only showing top 20 rows\n",
      "\n"
     ]
    }
   ],
   "source": [
    "# 두 테이블간 명확히 존재하는 대여소만 쓰려고 left대신 inner조인을 했습니다\n",
    "df_joined = df_usage2.join(df_loc.select('대여소번호', '거치대수', '대여소명', '위도'),\n",
    "                           on='대여소번호', how='inner')\\\n",
    "\n",
    "df_joined.show()"
   ]
  },
  {
   "cell_type": "code",
   "execution_count": 62,
   "metadata": {},
   "outputs": [
    {
     "name": "stdout",
     "output_type": "stream",
     "text": [
      "+---------------+------+-----+-----------------+\n",
      "|           대여소명| 총대여건수|총거치대수|             대여비율|\n",
      "+---------------+------+-----+-----------------+\n",
      "|신한은행 서교동금융센터점 앞| 45128|  5.0|           9025.6|\n",
      "|     일진아이윌아파트 옆| 36376|  5.0|           7275.2|\n",
      "|         마포구청 앞| 52964|  8.0|           6620.5|\n",
      "|     합정역 7번출구 앞| 61311| 10.0|           6131.1|\n",
      "|군자역 7번출구 베스트샵 앞| 45806|  8.0|          5725.75|\n",
      "|      신자초교입구교차로| 27856|  5.0|           5571.2|\n",
      "|     시청역 1번출구 뒤| 36977|  7.0|5282.428571428572|\n",
      "|  성수사거리 버스정류장 앞| 35525|  7.0|           5075.0|\n",
      "|        혜화동 로터리| 39685|  8.0|         4960.625|\n",
      "|     합정역 5번출구 앞| 24719|  5.0|           4943.8|\n",
      "|        CJ 드림시티| 49412| 10.0|           4941.2|\n",
      "|    DMC역 9번출구 앞| 48695| 10.0|           4869.5|\n",
      "| 어린이대공원역 3번출구 앞| 46703| 10.0|           4670.3|\n",
      "|   홍대입구역 2번출구 앞|116752| 25.0|          4670.08|\n",
      "|  뚝섬유원지역 1번출구 앞|121702| 27.0|4507.481481481482|\n",
      "|       공덕역 8번출구| 44244| 10.0|           4424.4|\n",
      "|          정동사거리| 30822|  7.0|4403.142857142857|\n",
      "|       성대입구 사거리| 56064| 13.0|4312.615384615385|\n",
      "|     대학로 마로니에공원| 42822| 10.0|           4282.2|\n",
      "| 월드컵경기장역 3번출구 옆| 42628| 10.0|           4262.8|\n",
      "+---------------+------+-----+-----------------+\n",
      "only showing top 20 rows\n",
      "\n"
     ]
    }
   ],
   "source": [
    "df_joined_grouped = df_joined.groupBy('대여소명')\\\n",
    "    .agg(sf.sum('대여건수').alias('총대여건수'), sf.avg('거치대수').alias('총거치대수'))\\\n",
    "    \n",
    "df_joined_grouped.withColumn('대여비율', df_joined_grouped['총대여건수']/df_joined_grouped['총거치대수'])\\\n",
    "    .orderBy('대여비율', ascending=False)\\\n",
    "    .show()\n",
    "\n",
    "# 대여소명 -> 대여소위치, 대여건수 -> 반납건수 로 바꾸면 나머지 해결"
   ]
  },
  {
   "cell_type": "markdown",
   "metadata": {},
   "source": [
    " - 따릉이 대여가 100건 이상 이루어진 경우가 있는 대여소 중 가장 남쪽에 있는 대여소는?"
   ]
  },
  {
   "cell_type": "code",
   "execution_count": 58,
   "metadata": {
    "scrolled": true
   },
   "outputs": [
    {
     "name": "stdout",
     "output_type": "stream",
     "text": [
      "+-----+-----+----+----+----+---------------+---------+\n",
      "|대여소번호|대여소위치|대여건수|반납건수|거치대수|           대여소명|       위도|\n",
      "+-----+-----+----+----+----+---------------+---------+\n",
      "| 2067|  동작구|  16|  11|  10|LG전자 베스트샾 대리점 앞|37.497669|\n",
      "|  726|  양천구|  30|  27|  15|  목동3단지 시내버스정류장|37.534389|\n",
      "|  725|  양천구|  14|   5|  15|     양강중학교앞 교차로|37.524334|\n",
      "|  724|  양천구|   3|   0|  15|계남공원 입구 주출입구 좌측|37.510681|\n",
      "|  723|  양천구|  38|  44|  15|         SBS방송국|37.529163|\n",
      "|  722|  양천구|  29|  28|  10|   LG전자베스트샵 신정점|37.521435|\n",
      "|  426|  마포구|  11|  22|  10|       서울신용보증재단|37.549061|\n",
      "|  425|  마포구|  14|  11|  10|      DMC첨단산업센터|37.584503|\n",
      "|  424|  마포구|   2|   3|  15|롯데하이마트 (상암월드컵점)| 37.57362|\n",
      "|  502|  광진구|  63|  75|  27|  뚝섬유원지역 1번출구 앞| 37.53186|\n",
      "| 3505|  광진구|  19|  20|  12|      신양초교앞 교차로|37.535221|\n",
      "| 3504|  광진구|  38|  33|   8|           원일교회|37.538052|\n",
      "| 3502|  광진구|   8|  15|  15|       중곡역 1번출구|37.565659|\n",
      "| 3501|  광진구|  46|  36|  10|         광진구청 앞|37.539501|\n",
      "| 3500|  광진구|  24|  28|  10|        군자역2번출구|37.557587|\n",
      "| 1250|  송파구|   6|   8|  10|      문정2동 주민센터|37.490047|\n",
      "|  593|  광진구|  23|  28|   5|        자양중앙나들목|37.528587|\n",
      "|  501|  광진구|  32|  30|  15|        광진구의회 앞|37.537308|\n",
      "|  451|  종로구|  14|   6|  13|          청와대앞길|37.583515|\n",
      "|  450|  종로구|  24|  22|  20|        효자동 삼거리|37.583603|\n",
      "+-----+-----+----+----+----+---------------+---------+\n",
      "only showing top 20 rows\n",
      "\n"
     ]
    }
   ],
   "source": [
    "# 앞에서 조인해둔 테이블 재활용\n",
    "df_joined.show()"
   ]
  },
  {
   "cell_type": "code",
   "execution_count": 66,
   "metadata": {
    "scrolled": true
   },
   "outputs": [
    {
     "name": "stdout",
     "output_type": "stream",
     "text": [
      "+-----+-----+----+----+----+--------------------+---------+\n",
      "|대여소번호|대여소위치|대여건수|반납건수|거치대수|                대여소명|       위도|\n",
      "+-----+-----+----+----+----+--------------------+---------+\n",
      "| 1820|  금천구| 154| 253|  10|     신한은행 시흥대로금융센터지점| 37.44334|\n",
      "| 1816|  금천구| 181| 150|  20|            금천폭포공원 앞|37.446861|\n",
      "| 2203|  서초구| 190| 135|  20|         청계산입구역 2번출구|37.447659|\n",
      "| 2202|  서초구|1054|1082|  20|         청계산입구역 1번출구|37.448936|\n",
      "| 2270|  서초구| 238| 252|  10|          서초포레스타 7단지|37.448967|\n",
      "| 1821|  금천구| 243| 314|  10|홈플러스 시흥점 맞은편 다비치안경 앞|37.451458|\n",
      "| 1822|  금천구| 405| 456|  10|         서울 시흥동우체국 앞|37.452991|\n",
      "| 2201|  서초구| 155| 174|  20|           본마을 정류소 앞|37.453281|\n",
      "| 2205|  서초구| 587| 548|  15|       내곡3단지 어린이공원 앞|37.453751|\n",
      "| 2206|  서초구| 913| 914|  20|            언남초등학교 앞|37.454399|\n",
      "| 2207|  서초구| 138|  96|   9|          내곡파출소 뒤 정자|37.454407|\n",
      "| 1825|  금천구| 195| 204|  10|       한신아파트 앞 육교 아래|  37.4547|\n",
      "| 2250|  서초구| 548| 505|  10|           서초유치원 맞은편|37.455799|\n",
      "| 1827|  금천구|1201|1242|  20|    독산보도육교 앞 자전거 보관소|37.455849|\n",
      "| 1827|  금천구| 123| 114|  20|    독산보도육교 앞 자전거 보관소|37.455849|\n",
      "| 2249|  서초구| 296| 289|  10|          우솔초등학교 맞은편|37.456234|\n",
      "| 1819|  금천구| 370| 364|  10|       금천구청 앞 자전거거치대|37.456478|\n",
      "| 1826|  금천구| 235| 269|  20|              한신코아 앞|37.456841|\n",
      "| 2285|  서초구| 421| 386|  15|    LH서초3단지 301동 맞은편|37.457424|\n",
      "| 1823|  금천구| 300| 234|  20|            상신정비공업 앞|37.458912|\n",
      "+-----+-----+----+----+----+--------------------+---------+\n",
      "only showing top 20 rows\n",
      "\n"
     ]
    }
   ],
   "source": [
    "df_joined.where(df_joined['대여건수'] >=100)\\\n",
    "    .orderBy('위도', ascending=True)\\\n",
    "    .show()"
   ]
  },
  {
   "cell_type": "code",
   "execution_count": null,
   "metadata": {},
   "outputs": [],
   "source": []
  }
 ],
 "metadata": {
  "kernelspec": {
   "display_name": "Python 3",
   "language": "python",
   "name": "python3"
  },
  "language_info": {
   "codemirror_mode": {
    "name": "ipython",
    "version": 3
   },
   "file_extension": ".py",
   "mimetype": "text/x-python",
   "name": "python",
   "nbconvert_exporter": "python",
   "pygments_lexer": "ipython3",
   "version": "3.6.6"
  }
 },
 "nbformat": 4,
 "nbformat_minor": 2
}
