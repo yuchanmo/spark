{
 "cells": [
  {
   "cell_type": "code",
   "execution_count": 2,
   "metadata": {},
   "outputs": [],
   "source": [
    "import findspark\n",
    "findspark.init()"
   ]
  },
  {
   "cell_type": "code",
   "execution_count": 3,
   "metadata": {},
   "outputs": [],
   "source": [
    "from pyspark.sql import SparkSession\n",
    "\n",
    "spark = SparkSession.builder.master('yarn').appName('myapp').getOrCreate()"
   ]
  },
  {
   "cell_type": "code",
   "execution_count": 4,
   "metadata": {},
   "outputs": [],
   "source": [
    "sc = spark.sparkContext\n",
    "\n",
    "from pyspark.sql.types import StructType,StructField,IntegerType,DoubleType\n",
    "\n",
    "colNames = [\"Elevation\", \"Aspect\", \"Slope\", \"Horizontal_Distance_To_Hydrology\", \"Vertical_Distance_To_Hydrology\", \"Horizontal_Distance_To_Roadways\", \"Hillshade_9am\", \"Hillshade_Noon\", \"Hillshade_3pm\", \"Horizontal_Distance_To_Fire_Points\"] \n",
    "\n",
    "for i in range(4): \n",
    "    colNames += [\"Wilderness_Area_\"+str(i),]\n",
    "for i in range(40): \n",
    "    colNames += [\"Soil_Type_\"+str(i),] \n",
    "colNames += [\"Cover_Type\",]"
   ]
  },
  {
   "cell_type": "code",
   "execution_count": 5,
   "metadata": {},
   "outputs": [
    {
     "data": {
      "text/plain": [
       "581012"
      ]
     },
     "execution_count": 5,
     "metadata": {},
     "output_type": "execute_result"
    }
   ],
   "source": [
    "schema = StructType()\n",
    "for name in colNames:\n",
    "    if name == 'Cover_Type':\n",
    "        schema.add(StructField(name,DoubleType(),True))\n",
    "    else:\n",
    "        schema.add(StructField(name,IntegerType(),True))\n",
    "        \n",
    "        \n",
    "data = spark.read.csv('s3://ssds2/covtype.data',header=False,schema=schema)\n",
    "data.count()"
   ]
  },
  {
   "cell_type": "code",
   "execution_count": 6,
   "metadata": {},
   "outputs": [
    {
     "data": {
      "text/plain": [
       "Row(Elevation=2596, Aspect=51, Slope=3, Horizontal_Distance_To_Hydrology=258, Vertical_Distance_To_Hydrology=0, Horizontal_Distance_To_Roadways=510, Hillshade_9am=221, Hillshade_Noon=232, Hillshade_3pm=148, Horizontal_Distance_To_Fire_Points=6279, Wilderness_Area_0=1, Wilderness_Area_1=0, Wilderness_Area_2=0, Wilderness_Area_3=0, Soil_Type_0=0, Soil_Type_1=0, Soil_Type_2=0, Soil_Type_3=0, Soil_Type_4=0, Soil_Type_5=0, Soil_Type_6=0, Soil_Type_7=0, Soil_Type_8=0, Soil_Type_9=0, Soil_Type_10=0, Soil_Type_11=0, Soil_Type_12=0, Soil_Type_13=0, Soil_Type_14=0, Soil_Type_15=0, Soil_Type_16=0, Soil_Type_17=0, Soil_Type_18=0, Soil_Type_19=0, Soil_Type_20=0, Soil_Type_21=0, Soil_Type_22=0, Soil_Type_23=0, Soil_Type_24=0, Soil_Type_25=0, Soil_Type_26=0, Soil_Type_27=0, Soil_Type_28=1, Soil_Type_29=0, Soil_Type_30=0, Soil_Type_31=0, Soil_Type_32=0, Soil_Type_33=0, Soil_Type_34=0, Soil_Type_35=0, Soil_Type_36=0, Soil_Type_37=0, Soil_Type_38=0, Soil_Type_39=0, Cover_Type=5.0)"
      ]
     },
     "execution_count": 6,
     "metadata": {},
     "output_type": "execute_result"
    }
   ],
   "source": [
    "data.head()"
   ]
  },
  {
   "cell_type": "code",
   "execution_count": 7,
   "metadata": {},
   "outputs": [
    {
     "name": "stdout",
     "output_type": "stream",
     "text": [
      "root\n",
      " |-- Elevation: integer (nullable = true)\n",
      " |-- Aspect: integer (nullable = true)\n",
      " |-- Slope: integer (nullable = true)\n",
      " |-- Horizontal_Distance_To_Hydrology: integer (nullable = true)\n",
      " |-- Vertical_Distance_To_Hydrology: integer (nullable = true)\n",
      " |-- Horizontal_Distance_To_Roadways: integer (nullable = true)\n",
      " |-- Hillshade_9am: integer (nullable = true)\n",
      " |-- Hillshade_Noon: integer (nullable = true)\n",
      " |-- Hillshade_3pm: integer (nullable = true)\n",
      " |-- Horizontal_Distance_To_Fire_Points: integer (nullable = true)\n",
      " |-- Wilderness_Area_0: integer (nullable = true)\n",
      " |-- Wilderness_Area_1: integer (nullable = true)\n",
      " |-- Wilderness_Area_2: integer (nullable = true)\n",
      " |-- Wilderness_Area_3: integer (nullable = true)\n",
      " |-- Soil_Type_0: integer (nullable = true)\n",
      " |-- Soil_Type_1: integer (nullable = true)\n",
      " |-- Soil_Type_2: integer (nullable = true)\n",
      " |-- Soil_Type_3: integer (nullable = true)\n",
      " |-- Soil_Type_4: integer (nullable = true)\n",
      " |-- Soil_Type_5: integer (nullable = true)\n",
      " |-- Soil_Type_6: integer (nullable = true)\n",
      " |-- Soil_Type_7: integer (nullable = true)\n",
      " |-- Soil_Type_8: integer (nullable = true)\n",
      " |-- Soil_Type_9: integer (nullable = true)\n",
      " |-- Soil_Type_10: integer (nullable = true)\n",
      " |-- Soil_Type_11: integer (nullable = true)\n",
      " |-- Soil_Type_12: integer (nullable = true)\n",
      " |-- Soil_Type_13: integer (nullable = true)\n",
      " |-- Soil_Type_14: integer (nullable = true)\n",
      " |-- Soil_Type_15: integer (nullable = true)\n",
      " |-- Soil_Type_16: integer (nullable = true)\n",
      " |-- Soil_Type_17: integer (nullable = true)\n",
      " |-- Soil_Type_18: integer (nullable = true)\n",
      " |-- Soil_Type_19: integer (nullable = true)\n",
      " |-- Soil_Type_20: integer (nullable = true)\n",
      " |-- Soil_Type_21: integer (nullable = true)\n",
      " |-- Soil_Type_22: integer (nullable = true)\n",
      " |-- Soil_Type_23: integer (nullable = true)\n",
      " |-- Soil_Type_24: integer (nullable = true)\n",
      " |-- Soil_Type_25: integer (nullable = true)\n",
      " |-- Soil_Type_26: integer (nullable = true)\n",
      " |-- Soil_Type_27: integer (nullable = true)\n",
      " |-- Soil_Type_28: integer (nullable = true)\n",
      " |-- Soil_Type_29: integer (nullable = true)\n",
      " |-- Soil_Type_30: integer (nullable = true)\n",
      " |-- Soil_Type_31: integer (nullable = true)\n",
      " |-- Soil_Type_32: integer (nullable = true)\n",
      " |-- Soil_Type_33: integer (nullable = true)\n",
      " |-- Soil_Type_34: integer (nullable = true)\n",
      " |-- Soil_Type_35: integer (nullable = true)\n",
      " |-- Soil_Type_36: integer (nullable = true)\n",
      " |-- Soil_Type_37: integer (nullable = true)\n",
      " |-- Soil_Type_38: integer (nullable = true)\n",
      " |-- Soil_Type_39: integer (nullable = true)\n",
      " |-- Cover_Type: double (nullable = true)\n",
      "\n"
     ]
    }
   ],
   "source": [
    "data.printSchema()"
   ]
  },
  {
   "cell_type": "code",
   "execution_count": 8,
   "metadata": {},
   "outputs": [],
   "source": [
    "(trainData,testData) = data.randomSplit([0.9,0.1])\n",
    "from pyspark.ml.feature import VectorAssembler\n",
    "from pyspark.sql.functions import col,udf\n",
    "inputCols = trainData.drop('Cover_Type').columns"
   ]
  },
  {
   "cell_type": "code",
   "execution_count": 9,
   "metadata": {},
   "outputs": [
    {
     "name": "stdout",
     "output_type": "stream",
     "text": [
      "+----------------------------------------------------------------------------------------------------+\n",
      "|featureVector                                                                                       |\n",
      "+----------------------------------------------------------------------------------------------------+\n",
      "|(54,[0,1,2,3,4,5,6,7,8,9,13,15],[1859.0,18.0,12.0,67.0,11.0,90.0,211.0,215.0,139.0,792.0,1.0,1.0])  |\n",
      "|(54,[0,1,2,3,4,5,6,7,8,9,13,15],[1860.0,18.0,13.0,95.0,15.0,90.0,210.0,213.0,138.0,780.0,1.0,1.0])  |\n",
      "|(54,[0,1,2,3,4,5,6,7,8,9,13,15],[1863.0,37.0,17.0,120.0,18.0,90.0,217.0,202.0,115.0,769.0,1.0,1.0]) |\n",
      "|(54,[0,1,2,3,4,5,6,7,8,9,13,15],[1866.0,23.0,14.0,85.0,16.0,108.0,212.0,210.0,133.0,819.0,1.0,1.0]) |\n",
      "|(54,[0,1,2,3,4,5,6,7,8,9,13,15],[1867.0,20.0,15.0,108.0,19.0,120.0,208.0,206.0,132.0,808.0,1.0,1.0])|\n",
      "|(54,[0,1,2,3,4,5,6,7,8,9,13,15],[1868.0,27.0,16.0,67.0,17.0,95.0,212.0,204.0,125.0,859.0,1.0,1.0])  |\n",
      "|(54,[0,1,2,3,4,5,6,7,8,9,13,18],[1871.0,22.0,22.0,60.0,12.0,85.0,200.0,187.0,115.0,792.0,1.0,1.0])  |\n",
      "|(54,[0,1,2,3,4,5,6,7,8,9,13,15],[1871.0,36.0,19.0,134.0,26.0,120.0,215.0,194.0,107.0,797.0,1.0,1.0])|\n",
      "|(54,[0,1,2,3,4,5,6,7,8,9,13,15],[1871.0,37.0,19.0,120.0,29.0,90.0,216.0,195.0,107.0,759.0,1.0,1.0]) |\n",
      "|(54,[0,1,2,3,4,5,6,7,8,9,13,18],[1872.0,12.0,27.0,85.0,25.0,60.0,182.0,174.0,118.0,577.0,1.0,1.0])  |\n",
      "|(54,[0,1,2,3,4,5,6,7,8,9,13,15],[1872.0,27.0,16.0,95.0,22.0,124.0,212.0,205.0,126.0,847.0,1.0,1.0]) |\n",
      "|(54,[0,1,2,3,4,5,6,7,8,9,13,15],[1872.0,27.0,21.0,108.0,30.0,67.0,206.0,190.0,112.0,713.0,1.0,1.0]) |\n",
      "|(54,[0,1,2,3,4,5,6,7,8,9,13,14],[1872.0,35.0,21.0,120.0,18.0,85.0,213.0,189.0,104.0,797.0,1.0,1.0]) |\n",
      "|(54,[0,1,2,3,4,5,6,7,8,9,13,15],[1873.0,30.0,19.0,67.0,21.0,85.0,211.0,195.0,114.0,899.0,1.0,1.0])  |\n",
      "|(54,[0,1,2,5,6,7,8,9,13,18],[1874.0,18.0,14.0,90.0,208.0,209.0,135.0,793.0,1.0,1.0])                |\n",
      "|(54,[0,1,2,3,4,5,6,7,8,9,13,15],[1876.0,25.0,17.0,124.0,26.0,150.0,209.0,200.0,123.0,836.0,1.0,1.0])|\n",
      "|(54,[0,1,2,3,4,5,6,7,8,9,13,15],[1876.0,29.0,19.0,124.0,34.0,90.0,210.0,195.0,115.0,750.0,1.0,1.0]) |\n",
      "|(54,[0,1,2,3,4,5,6,7,8,9,13,15],[1877.0,19.0,18.0,85.0,25.0,108.0,204.0,199.0,127.0,886.0,1.0,1.0]) |\n",
      "|(54,[0,1,2,5,6,7,8,9,13,18],[1879.0,18.0,14.0,120.0,208.0,210.0,137.0,767.0,1.0,1.0])               |\n",
      "|(54,[0,1,2,3,4,5,6,7,8,9,13,15],[1879.0,23.0,18.0,108.0,28.0,134.0,207.0,200.0,124.0,875.0,1.0,1.0])|\n",
      "+----------------------------------------------------------------------------------------------------+\n",
      "only showing top 20 rows\n",
      "\n"
     ]
    }
   ],
   "source": [
    "assembler = VectorAssembler(inputCols = inputCols,outputCol='featureVector')\n",
    "assembledTrainData = assembler.transform(trainData)\n",
    "assembledTestData = assembler.transform(testData)\n",
    "\n",
    "assembledTrainData.select('featureVector').show(truncate=False)"
   ]
  },
  {
   "cell_type": "code",
   "execution_count": 10,
   "metadata": {},
   "outputs": [
    {
     "data": {
      "text/plain": [
       "[Row(Elevation=1863, Aspect=37, Slope=17, Horizontal_Distance_To_Hydrology=120, Vertical_Distance_To_Hydrology=18, Horizontal_Distance_To_Roadways=90, Hillshade_9am=217, Hillshade_Noon=202, Hillshade_3pm=115, Horizontal_Distance_To_Fire_Points=769, Wilderness_Area_0=0, Wilderness_Area_1=0, Wilderness_Area_2=0, Wilderness_Area_3=1, Soil_Type_0=0, Soil_Type_1=1, Soil_Type_2=0, Soil_Type_3=0, Soil_Type_4=0, Soil_Type_5=0, Soil_Type_6=0, Soil_Type_7=0, Soil_Type_8=0, Soil_Type_9=0, Soil_Type_10=0, Soil_Type_11=0, Soil_Type_12=0, Soil_Type_13=0, Soil_Type_14=0, Soil_Type_15=0, Soil_Type_16=0, Soil_Type_17=0, Soil_Type_18=0, Soil_Type_19=0, Soil_Type_20=0, Soil_Type_21=0, Soil_Type_22=0, Soil_Type_23=0, Soil_Type_24=0, Soil_Type_25=0, Soil_Type_26=0, Soil_Type_27=0, Soil_Type_28=0, Soil_Type_29=0, Soil_Type_30=0, Soil_Type_31=0, Soil_Type_32=0, Soil_Type_33=0, Soil_Type_34=0, Soil_Type_35=0, Soil_Type_36=0, Soil_Type_37=0, Soil_Type_38=0, Soil_Type_39=0, Cover_Type=6.0, featureVector=SparseVector(54, {0: 1863.0, 1: 37.0, 2: 17.0, 3: 120.0, 4: 18.0, 5: 90.0, 6: 217.0, 7: 202.0, 8: 115.0, 9: 769.0, 13: 1.0, 15: 1.0})),\n",
       " Row(Elevation=1874, Aspect=18, Slope=14, Horizontal_Distance_To_Hydrology=0, Vertical_Distance_To_Hydrology=0, Horizontal_Distance_To_Roadways=90, Hillshade_9am=208, Hillshade_Noon=209, Hillshade_3pm=135, Horizontal_Distance_To_Fire_Points=793, Wilderness_Area_0=0, Wilderness_Area_1=0, Wilderness_Area_2=0, Wilderness_Area_3=1, Soil_Type_0=0, Soil_Type_1=0, Soil_Type_2=0, Soil_Type_3=0, Soil_Type_4=1, Soil_Type_5=0, Soil_Type_6=0, Soil_Type_7=0, Soil_Type_8=0, Soil_Type_9=0, Soil_Type_10=0, Soil_Type_11=0, Soil_Type_12=0, Soil_Type_13=0, Soil_Type_14=0, Soil_Type_15=0, Soil_Type_16=0, Soil_Type_17=0, Soil_Type_18=0, Soil_Type_19=0, Soil_Type_20=0, Soil_Type_21=0, Soil_Type_22=0, Soil_Type_23=0, Soil_Type_24=0, Soil_Type_25=0, Soil_Type_26=0, Soil_Type_27=0, Soil_Type_28=0, Soil_Type_29=0, Soil_Type_30=0, Soil_Type_31=0, Soil_Type_32=0, Soil_Type_33=0, Soil_Type_34=0, Soil_Type_35=0, Soil_Type_36=0, Soil_Type_37=0, Soil_Type_38=0, Soil_Type_39=0, Cover_Type=6.0, featureVector=SparseVector(54, {0: 1874.0, 1: 18.0, 2: 14.0, 5: 90.0, 6: 208.0, 7: 209.0, 8: 135.0, 9: 793.0, 13: 1.0, 18: 1.0})),\n",
       " Row(Elevation=1888, Aspect=33, Slope=22, Horizontal_Distance_To_Hydrology=150, Vertical_Distance_To_Hydrology=46, Horizontal_Distance_To_Roadways=108, Hillshade_9am=209, Hillshade_Noon=185, Hillshade_3pm=103, Horizontal_Distance_To_Fire_Points=735, Wilderness_Area_0=0, Wilderness_Area_1=0, Wilderness_Area_2=0, Wilderness_Area_3=1, Soil_Type_0=0, Soil_Type_1=1, Soil_Type_2=0, Soil_Type_3=0, Soil_Type_4=0, Soil_Type_5=0, Soil_Type_6=0, Soil_Type_7=0, Soil_Type_8=0, Soil_Type_9=0, Soil_Type_10=0, Soil_Type_11=0, Soil_Type_12=0, Soil_Type_13=0, Soil_Type_14=0, Soil_Type_15=0, Soil_Type_16=0, Soil_Type_17=0, Soil_Type_18=0, Soil_Type_19=0, Soil_Type_20=0, Soil_Type_21=0, Soil_Type_22=0, Soil_Type_23=0, Soil_Type_24=0, Soil_Type_25=0, Soil_Type_26=0, Soil_Type_27=0, Soil_Type_28=0, Soil_Type_29=0, Soil_Type_30=0, Soil_Type_31=0, Soil_Type_32=0, Soil_Type_33=0, Soil_Type_34=0, Soil_Type_35=0, Soil_Type_36=0, Soil_Type_37=0, Soil_Type_38=0, Soil_Type_39=0, Cover_Type=6.0, featureVector=SparseVector(54, {0: 1888.0, 1: 33.0, 2: 22.0, 3: 150.0, 4: 46.0, 5: 108.0, 6: 209.0, 7: 185.0, 8: 103.0, 9: 735.0, 13: 1.0, 15: 1.0}))]"
      ]
     },
     "execution_count": 10,
     "metadata": {},
     "output_type": "execute_result"
    }
   ],
   "source": [
    "assembledTrainData.take(3)"
   ]
  },
  {
   "cell_type": "code",
   "execution_count": 28,
   "metadata": {},
   "outputs": [],
   "source": [
    "def fitTransformEvalution(machinemodel,train=None,test=None):\n",
    "    if train:\n",
    "        model = machinemodel.fit(train)\n",
    "    else:\n",
    "        model = machinemodel.fit(assembledTrainData)\n",
    "        \n",
    "    from pyspark.ml.evaluation import MulticlassClassificationEvaluator\n",
    "\n",
    "    evaluator = MulticlassClassificationEvaluator( labelCol=\"Cover_Type\", predictionCol=\"prediction\")\n",
    "\n",
    "    if test:\n",
    "        predicitions = model.transform(test)\n",
    "    else:\n",
    "        predicitions = model.transform(assembledTestData)\n",
    "    predicitions.select([\"Cover_Type\", \"prediction\", \"probability\"]).show(truncate=False)\n",
    "\n",
    "    print(evaluator.setMetricName('accuracy').evaluate(predicitions))\n",
    "    print(evaluator.setMetricName('f1').evaluate(predicitions))"
   ]
  },
  {
   "cell_type": "code",
   "execution_count": 11,
   "metadata": {},
   "outputs": [],
   "source": [
    "from pyspark.ml.classification import LinearSVC,LogisticRegression\n",
    "\n",
    "logi = LogisticRegression(labelCol='Cover_Type',\n",
    "                         featuresCol = 'featureVector',\n",
    "                          family='multinomial',\n",
    "                          predictionCol='prediction')"
   ]
  },
  {
   "cell_type": "code",
   "execution_count": 12,
   "metadata": {},
   "outputs": [],
   "source": [
    "model = logi.fit(assembledTrainData)"
   ]
  },
  {
   "cell_type": "code",
   "execution_count": 15,
   "metadata": {},
   "outputs": [
    {
     "name": "stderr",
     "output_type": "stream",
     "text": [
      "Exception ignored in: <object repr() failed>\n",
      "Traceback (most recent call last):\n",
      "  File \"/usr/lib/spark/python/pyspark/ml/wrapper.py\", line 40, in __del__\n",
      "    if SparkContext._active_spark_context and self._java_obj is not None:\n",
      "AttributeError: 'MulticlassClassificationEvaluator' object has no attribute '_java_obj'\n"
     ]
    },
    {
     "name": "stdout",
     "output_type": "stream",
     "text": [
      "+----------+----------+--------------------------------------------------------------------------------------------------------------------------------------------------------------------------+\n",
      "|Cover_Type|prediction|probability                                                                                                                                                               |\n",
      "+----------+----------+--------------------------------------------------------------------------------------------------------------------------------------------------------------------------+\n",
      "|6.0       |3.0       |[2.312385918511953E-8,1.278553589076978E-6,9.792677317647752E-5,0.5514789127365558,0.04122003281064906,1.158773357981844E-4,0.40708561165901996,3.37007352168252E-7]      |\n",
      "|6.0       |3.0       |[1.4759735090718072E-8,1.4139301378889199E-6,1.0717364759249224E-4,0.6560843909881598,0.006036619355674224,8.005205147888889E-5,0.33769021408343414,1.2118378753350913E-7]|\n",
      "|3.0       |3.0       |[4.2790607745682483E-8,1.5558419411869874E-5,0.02160917777534722,0.7407416103532808,0.004416009199441661,2.7030173845456846E-4,0.23294725126916327,4.8454292886148894E-8] |\n",
      "|6.0       |3.0       |[2.444162711771252E-8,1.8157201236178698E-6,5.1167263680827254E-5,0.7100720188259135,0.06498944079955976,8.860441091106725E-5,0.22479616013961262,7.683985714323074E-7]   |\n",
      "|3.0       |3.0       |[9.00136863948688E-9,4.243425039168751E-8,0.006749935070971784,0.6301053943533217,0.34658599200911944,1.395953184188559E-5,0.016544663166348887,4.432777259195276E-9]     |\n",
      "|3.0       |3.0       |[7.509685015494265E-8,1.660832775843883E-5,0.02102382950243325,0.7151847941019819,0.028985922571636617,5.073389990632229E-4,0.23428123148647798,1.9991379832607998E-7]    |\n",
      "|3.0       |3.0       |[1.542925613922515E-8,1.257898181728451E-7,0.00753190874911053,0.49468273582844424,0.4801957730679421,1.5308987307377716E-5,0.017574087283201104,4.4864920371224186E-8]   |\n",
      "|3.0       |3.0       |[5.719111712047162E-8,5.189706410374153E-5,0.02841600165511125,0.7212785126525554,0.0024251077141540407,2.55775014112728E-4,0.247572494309808,1.5439903776193873E-7]      |\n",
      "|4.0       |3.0       |[3.6271018908021146E-8,8.535289635330262E-7,0.013536763352953523,0.8013362742762533,0.07945067917640013,9.48421653748672E-5,0.10558040211882491,1.4911021055020953E-7]    |\n",
      "|4.0       |3.0       |[7.482349177976121E-8,1.8800111543388268E-5,0.024298671170949207,0.6524559099617049,0.017690369535101388,6.449201080488817E-4,0.30489108910090945,1.6518825089349865E-7]  |\n",
      "|6.0       |3.0       |[3.18789782183506E-8,2.1814897743102772E-6,1.1549343570126581E-4,0.6438887113769596,0.08702815229584547,1.5756878178754574E-4,0.2688071285068275,7.322341260677071E-7]    |\n",
      "|4.0       |4.0       |[6.2251644300687E-8,1.1027295020825904E-5,0.005493965996558229,0.17763547220458983,0.731049815243735,0.002868563204500009,0.08294106823948133,2.5564470575602302E-8]      |\n",
      "|4.0       |4.0       |[5.2496927105063436E-8,6.592759610624568E-6,0.0037944156979611205,0.23419582221928512,0.6845289731803145,0.0029511034858430074,0.07452302377573519,1.6384323494601768E-8] |\n",
      "|4.0       |4.0       |[4.52213061058987E-9,1.1812630370907919E-7,6.292600973741456E-7,0.1538727155602709,0.6354852052350726,7.0588939067825805E-6,0.21063422109839455,4.730382338258768E-8]     |\n",
      "|3.0       |3.0       |[2.8478267681842462E-8,3.520492877225333E-6,2.8058576029788292E-5,0.7835682363412827,0.05387981876736098,1.1709313482021314E-4,0.16240085659078032,2.3876185810355137E-6] |\n",
      "|4.0       |3.0       |[1.2883805638916132E-7,4.039220934985341E-5,0.05023979433993275,0.5465987844601538,0.05470980693741253,7.933322447859634E-4,0.34761729881334846,4.6215696018276926E-7]    |\n",
      "|3.0       |3.0       |[3.2047832356388335E-8,4.135467779900872E-6,2.7015460096292557E-4,0.7131845591476689,0.02292550046394517,1.246485765405207E-4,0.2634902142870247,7.554082455966647E-7]    |\n",
      "|4.0       |3.0       |[1.1612094382859888E-7,4.332575663944322E-5,0.03839846894008514,0.6468735783274228,0.03379240163042443,6.353882117251971E-4,0.2802561538546961,5.671580630811497E-7]      |\n",
      "|6.0       |3.0       |[5.604501016052222E-8,5.2078640117437455E-5,3.0111793669394853E-4,0.6208748903012119,0.004741729702404483,8.880744975178325E-5,0.3739274483927464,1.3871532063804248E-5]  |\n",
      "|3.0       |3.0       |[2.589765142652376E-8,3.0083978703176996E-6,4.8422249913005687E-5,0.794454739176131,0.023976002964533612,1.3244491865012606E-4,0.18138387919011764,1.477205133088645E-6]  |\n",
      "+----------+----------+--------------------------------------------------------------------------------------------------------------------------------------------------------------------------+\n",
      "only showing top 20 rows\n",
      "\n",
      "0.7138463653076302\n",
      "0.7012346919650065\n"
     ]
    }
   ],
   "source": [
    "from pyspark.ml.evaluation import MulticlassClassificationEvaluator\n",
    "\n",
    "evaluator = MulticlassClassificationEvaluator( labelCol=\"Cover_Type\", predictionCol=\"prediction\")\n",
    "\n",
    "\n",
    "predicitions = model.transform(assembledTestData)\n",
    "predicitions.select([\"Cover_Type\", \"prediction\", \"probability\"]).show(truncate=False)\n",
    "\n",
    "print(evaluator.setMetricName('accuracy').evaluate(predicitions))\n",
    "print(evaluator.setMetricName('f1').evaluate(predicitions))"
   ]
  },
  {
   "cell_type": "code",
   "execution_count": 16,
   "metadata": {},
   "outputs": [
    {
     "data": {
      "text/plain": [
       "Row(Elevation=1861, Aspect=35, Slope=14, Horizontal_Distance_To_Hydrology=60, Vertical_Distance_To_Hydrology=11, Horizontal_Distance_To_Roadways=85, Hillshade_9am=218, Hillshade_Noon=209, Hillshade_3pm=124, Horizontal_Distance_To_Fire_Points=832, Wilderness_Area_0=0, Wilderness_Area_1=0, Wilderness_Area_2=0, Wilderness_Area_3=1, Soil_Type_0=0, Soil_Type_1=1, Soil_Type_2=0, Soil_Type_3=0, Soil_Type_4=0, Soil_Type_5=0, Soil_Type_6=0, Soil_Type_7=0, Soil_Type_8=0, Soil_Type_9=0, Soil_Type_10=0, Soil_Type_11=0, Soil_Type_12=0, Soil_Type_13=0, Soil_Type_14=0, Soil_Type_15=0, Soil_Type_16=0, Soil_Type_17=0, Soil_Type_18=0, Soil_Type_19=0, Soil_Type_20=0, Soil_Type_21=0, Soil_Type_22=0, Soil_Type_23=0, Soil_Type_24=0, Soil_Type_25=0, Soil_Type_26=0, Soil_Type_27=0, Soil_Type_28=0, Soil_Type_29=0, Soil_Type_30=0, Soil_Type_31=0, Soil_Type_32=0, Soil_Type_33=0, Soil_Type_34=0, Soil_Type_35=0, Soil_Type_36=0, Soil_Type_37=0, Soil_Type_38=0, Soil_Type_39=0, Cover_Type=3.0, featureVector=SparseVector(54, {0: 1861.0, 1: 35.0, 2: 14.0, 3: 60.0, 4: 11.0, 5: 85.0, 6: 218.0, 7: 209.0, 8: 124.0, 9: 832.0, 13: 1.0, 15: 1.0}), rawPrediction=DenseVector([-8.9548, -7.8069, 2.7244, 8.6827, 6.2423, 1.1351, 6.4272, -8.45]), probability=DenseVector([0.0, 0.0, 0.0022, 0.8368, 0.0729, 0.0004, 0.0877, 0.0]), prediction=3.0)"
      ]
     },
     "execution_count": 16,
     "metadata": {},
     "output_type": "execute_result"
    }
   ],
   "source": [
    "predicitions.head()"
   ]
  },
  {
   "cell_type": "code",
   "execution_count": 19,
   "metadata": {},
   "outputs": [
    {
     "name": "stdout",
     "output_type": "stream",
     "text": [
      "+----------+\n",
      "|Cover_Type|\n",
      "+----------+\n",
      "|       7.0|\n",
      "|       1.0|\n",
      "|       4.0|\n",
      "|       3.0|\n",
      "|       2.0|\n",
      "|       6.0|\n",
      "|       5.0|\n",
      "+----------+\n",
      "\n"
     ]
    }
   ],
   "source": [
    "predicitions.select('Cover_Type').distinct().show()"
   ]
  },
  {
   "cell_type": "code",
   "execution_count": 25,
   "metadata": {},
   "outputs": [
    {
     "name": "stdout",
     "output_type": "stream",
     "text": [
      "+----------+----------+------------------------------------------------------------------------------------------------+\n",
      "|Cover_Type|prediction|probability                                                                                     |\n",
      "+----------+----------+------------------------------------------------------------------------------------------------+\n",
      "|6.0       |3.0       |[0.0,0.0,0.03363532229511611,0.6307403936269915,0.051268700753236834,0.0,0.2843555833246555,0.0]|\n",
      "|6.0       |3.0       |[0.0,0.0,0.03363532229511611,0.6307403936269915,0.051268700753236834,0.0,0.2843555833246555,0.0]|\n",
      "|3.0       |3.0       |[0.0,0.0,0.03363532229511611,0.6307403936269915,0.051268700753236834,0.0,0.2843555833246555,0.0]|\n",
      "|6.0       |3.0       |[0.0,0.0,0.03363532229511611,0.6307403936269915,0.051268700753236834,0.0,0.2843555833246555,0.0]|\n",
      "|3.0       |3.0       |[0.0,0.0,0.03363532229511611,0.6307403936269915,0.051268700753236834,0.0,0.2843555833246555,0.0]|\n",
      "|3.0       |4.0       |[0.0,0.0,0.04184641932700604,0.28602243313201037,0.4357204486626402,0.0,0.2364106988783434,0.0] |\n",
      "|3.0       |3.0       |[0.0,0.0,0.03363532229511611,0.6307403936269915,0.051268700753236834,0.0,0.2843555833246555,0.0]|\n",
      "|3.0       |3.0       |[0.0,0.0,0.03363532229511611,0.6307403936269915,0.051268700753236834,0.0,0.2843555833246555,0.0]|\n",
      "|4.0       |4.0       |[0.0,0.0,0.04184641932700604,0.28602243313201037,0.4357204486626402,0.0,0.2364106988783434,0.0] |\n",
      "|4.0       |4.0       |[0.0,0.0,0.04184641932700604,0.28602243313201037,0.4357204486626402,0.0,0.2364106988783434,0.0] |\n",
      "|6.0       |3.0       |[0.0,0.0,0.03363532229511611,0.6307403936269915,0.051268700753236834,0.0,0.2843555833246555,0.0]|\n",
      "|4.0       |4.0       |[0.0,0.0,0.04184641932700604,0.28602243313201037,0.4357204486626402,0.0,0.2364106988783434,0.0] |\n",
      "|4.0       |4.0       |[0.0,0.0,0.04184641932700604,0.28602243313201037,0.4357204486626402,0.0,0.2364106988783434,0.0] |\n",
      "|4.0       |4.0       |[0.0,0.0,0.04184641932700604,0.28602243313201037,0.4357204486626402,0.0,0.2364106988783434,0.0] |\n",
      "|3.0       |3.0       |[0.0,0.0,0.03363532229511611,0.6307403936269915,0.051268700753236834,0.0,0.2843555833246555,0.0]|\n",
      "|4.0       |4.0       |[0.0,0.0,0.04184641932700604,0.28602243313201037,0.4357204486626402,0.0,0.2364106988783434,0.0] |\n",
      "|3.0       |3.0       |[0.0,0.0,0.03363532229511611,0.6307403936269915,0.051268700753236834,0.0,0.2843555833246555,0.0]|\n",
      "|4.0       |3.0       |[0.0,0.0,0.03363532229511611,0.6307403936269915,0.051268700753236834,0.0,0.2843555833246555,0.0]|\n",
      "|6.0       |3.0       |[0.0,0.0,0.03363532229511611,0.6307403936269915,0.051268700753236834,0.0,0.2843555833246555,0.0]|\n",
      "|3.0       |3.0       |[0.0,0.0,0.03363532229511611,0.6307403936269915,0.051268700753236834,0.0,0.2843555833246555,0.0]|\n",
      "+----------+----------+------------------------------------------------------------------------------------------------+\n",
      "only showing top 20 rows\n",
      "\n",
      "0.6944487397556827\n",
      "0.6730872589102946\n"
     ]
    }
   ],
   "source": [
    "from pyspark.ml.classification import DecisionTreeClassifier\n",
    "\n",
    "classifier = DecisionTreeClassifier(\n",
    "labelCol=\"Cover_Type\",\n",
    "featuresCol='featureVector',\n",
    "    predictionCol = 'prediction'\n",
    ")\n",
    "\n",
    "fitTransformEvalution(classifier)"
   ]
  },
  {
   "cell_type": "code",
   "execution_count": 26,
   "metadata": {},
   "outputs": [
    {
     "name": "stdout",
     "output_type": "stream",
     "text": [
      "+----------+----------+------------------------------------------------------------------------------------------------------------------------------------------------------+\n",
      "|Cover_Type|prediction|probability                                                                                                                                           |\n",
      "+----------+----------+------------------------------------------------------------------------------------------------------------------------------------------------------+\n",
      "|6.0       |3.0       |[0.0,0.11979625818465763,0.24385047307090285,0.3881308548637986,0.042928366742550954,0.008843450192483827,0.18783822916121004,0.008612367784396157]   |\n",
      "|6.0       |3.0       |[0.0,0.11090466087396426,0.2183191422504446,0.42165712368813013,0.041544514485190816,0.008233957714058823,0.19134561218052354,0.007994988807687732]   |\n",
      "|3.0       |3.0       |[0.0,0.03814404309732002,0.1403430777774414,0.53469209720545,0.033633483766862614,0.004292691435866996,0.245975181034346,0.002919425682713008]        |\n",
      "|6.0       |3.0       |[0.0,0.10328534248513384,0.1868021720311439,0.462046978537675,0.04300694264572278,0.007554226646962513,0.189310904963161,0.007993432690200862]        |\n",
      "|3.0       |3.0       |[0.0,0.1197962581846576,0.23555055205155662,0.40781381660727256,0.056777682919082396,0.008843450192483825,0.16260587226055073,0.008612367784396155]   |\n",
      "|3.0       |3.0       |[0.0,0.042351385123606734,0.17425938709395733,0.44005625451604785,0.11723489704897268,0.005645837487836204,0.21753281304686603,0.002919425682713007]  |\n",
      "|3.0       |3.0       |[0.0,0.1197962581846576,0.23456060215257096,0.400902421396568,0.06134177760375235,0.008843450192483825,0.16594312268557102,0.008612367784396155]      |\n",
      "|3.0       |3.0       |[0.0,0.038144043097320016,0.1389240677470494,0.5374520709447872,0.03102056137524157,0.004292691435866995,0.24724713971702167,0.0029194256827130075]   |\n",
      "|4.0       |3.0       |[0.0,0.10148387364450477,0.22703061910412559,0.3599584194036697,0.14856554433120467,0.00770569527525269,0.14839231227486374,0.006863535966378986]     |\n",
      "|4.0       |3.0       |[0.0,0.05009355717187373,0.1924743019395908,0.43185815330556016,0.08563841087133146,0.005985072920366097,0.23041369913185622,0.003536804659421429]    |\n",
      "|6.0       |3.0       |[0.0,0.11045099461725827,0.2065757941107653,0.42312649412851305,0.053871533181761154,0.0073379065239368504,0.19002646577085602,0.008610811666909284]  |\n",
      "|4.0       |3.0       |[0.0,0.1197962581846576,0.2324333728534667,0.31846252662336416,0.18158746177219648,0.008843450192483825,0.13026456258943492,0.008612367784396155]     |\n",
      "|4.0       |3.0       |[0.0,0.1197962581846576,0.2324333728534667,0.31846252662336416,0.18158746177219648,0.008843450192483825,0.13026456258943492,0.008612367784396155]     |\n",
      "|4.0       |3.0       |[0.0,0.11979625818465763,0.2378309634640154,0.33068077071877494,0.1486894404212568,0.008843450192483827,0.14554674923441527,0.008612367784396157]     |\n",
      "|3.0       |3.0       |[0.0,0.10328534248513384,0.1868021720311439,0.462046978537675,0.04300694264572278,0.007554226646962513,0.189310904963161,0.007993432690200862]        |\n",
      "|4.0       |3.0       |[0.0,0.04951703725573118,0.18932751638313988,0.39181978997065203,0.14761454399999557,0.005429517364810542,0.2127547903662493,0.0035368046594214295]   |\n",
      "|3.0       |3.0       |[0.0,0.11979625818465763,0.2405679488606806,0.3970145164023188,0.04732558380348253,0.008843450192483827,0.17783987477198043,0.008612367784396157]     |\n",
      "|4.0       |3.0       |[0.0,0.049517037255731186,0.19064549174941314,0.46091350939353326,0.043637764990600264,0.005429517364810543,0.24631987458649024,0.0035368046594214304]|\n",
      "|6.0       |3.0       |[0.0,0.11090466087396429,0.21690013222005264,0.42441709742746747,0.038931592093569785,0.008233957714058824,0.19261757086319933,0.007994988807687734]  |\n",
      "|3.0       |3.0       |[0.0,0.11263060605253317,0.22178427668004486,0.4288409482411596,0.04226495598378403,0.009059770315509488,0.17742445391928102,0.007994988807687732]    |\n",
      "+----------+----------+------------------------------------------------------------------------------------------------------------------------------------------------------+\n",
      "only showing top 20 rows\n",
      "\n",
      "0.681975155919798\n",
      "0.65099969767029\n"
     ]
    }
   ],
   "source": [
    "from pyspark.ml.classification import RandomForestClassifier\n",
    "\n",
    "rf = RandomForestClassifier( labelCol=\"Cover_Type\", featuresCol=\"featureVector\", predictionCol=\"prediction\")\n",
    "fitTransformEvalution(rf)"
   ]
  },
  {
   "cell_type": "code",
   "execution_count": 27,
   "metadata": {},
   "outputs": [],
   "source": [
    "trainDataBinary = assembledTrainData.where(\"Cover_Type = 1 or Cover_Type = 2\") \n",
    "testDataBinary = assembledTestData.filter(assembledTestData.Cover_Type <= 2)"
   ]
  },
  {
   "cell_type": "code",
   "execution_count": 29,
   "metadata": {},
   "outputs": [
    {
     "name": "stdout",
     "output_type": "stream",
     "text": [
      "+----------+------+\n",
      "|Cover_Type| count|\n",
      "+----------+------+\n",
      "|       1.0|190476|\n",
      "|       2.0|254917|\n",
      "+----------+------+\n",
      "\n",
      "+----------+-----+\n",
      "|Cover_Type|count|\n",
      "+----------+-----+\n",
      "|       1.0|21451|\n",
      "|       2.0|28083|\n",
      "+----------+-----+\n",
      "\n"
     ]
    }
   ],
   "source": [
    "trainDataBinary.groupBy('Cover_Type').count().show()\n",
    "testDataBinary.groupBy('Cover_Type').count().show()"
   ]
  },
  {
   "cell_type": "code",
   "execution_count": 30,
   "metadata": {},
   "outputs": [
    {
     "name": "stdout",
     "output_type": "stream",
     "text": [
      "+-----+------+\n",
      "|label| count|\n",
      "+-----+------+\n",
      "|  0.0|254917|\n",
      "|  1.0|190476|\n",
      "+-----+------+\n",
      "\n",
      "+-----+-----+\n",
      "|label|count|\n",
      "+-----+-----+\n",
      "|  0.0|28083|\n",
      "|  1.0|21451|\n",
      "+-----+-----+\n",
      "\n"
     ]
    }
   ],
   "source": [
    "from pyspark.sql.types import DoubleType\n",
    "from pyspark.sql.functions import udf\n",
    "\n",
    "def convertTo01(label):\n",
    "    if label==2.0:\n",
    "        res =0\n",
    "    else:\n",
    "        res = 1\n",
    "    return float(res)\n",
    "\n",
    "indexer_udf = udf(convertTo01,DoubleType())\n",
    "testDataBinary = testDataBinary.withColumn('label',indexer_udf(testDataBinary['Cover_Type']))\n",
    "trainDataBinary = trainDataBinary.withColumn('label',indexer_udf(testDataBinary['Cover_Type']))\n",
    "\n",
    "trainDataBinary.groupBy('label').count().show()\n",
    "testDataBinary.groupBy('label').count().show()\n"
   ]
  },
  {
   "cell_type": "code",
   "execution_count": 37,
   "metadata": {},
   "outputs": [
    {
     "name": "stdout",
     "output_type": "stream",
     "text": [
      "penalty rate :  0.015 max iter :  27\n",
      "0.6529709130084504\n",
      "penalty rate :  0.0225 max iter :  13\n",
      "0.558081854574569\n",
      "penalty rate :  0.03375 max iter :  51\n",
      "0.6608732268527191\n",
      "penalty rate :  0.050625 max iter :  28\n",
      "0.653180351477583\n",
      "penalty rate :  0.0759375 max iter :  57\n",
      "0.6606417700995233\n",
      "penalty rate :  0.11390625000000001 max iter :  59\n",
      "0.662568701125736\n",
      "penalty rate :  0.17085937500000004 max iter :  15\n",
      "0.6190407024066344\n",
      "penalty rate :  0.25628906250000005 max iter :  54\n",
      "0.6526082952427726\n",
      "penalty rate :  0.3844335937500001 max iter :  35\n",
      "0.6535741656856918\n",
      "penalty rate :  0.5766503906250001 max iter :  60\n",
      "0.6330325948474895\n",
      "penalty rate :  0.8649755859375001 max iter :  85\n",
      "0.6158156745126442\n",
      "penalty rate :  1.2974633789062502 max iter :  26\n",
      "0.5226431923140094\n"
     ]
    }
   ],
   "source": [
    "from pyspark.ml.classification import LinearSVC\n",
    "from pyspark.ml.evaluation import BinaryClassificationEvaluator\n",
    "import random\n",
    "\n",
    "random.randint(1,100)\n",
    "\n",
    "rate = 0.01\n",
    "while rate < 1:\n",
    "    itera = int(random.randint(1,100))\n",
    "    rate = rate*1.5\n",
    "    print('penalty rate : ', rate, 'max iter : ',itera)\n",
    "    svm = LinearSVC(labelCol=\"label\", featuresCol=\"featureVector\", maxIter=itera, regParam=rate)\n",
    "    \n",
    "#     from pyspark.ml.evaluation import BinaryClassificationEvaluator\n",
    "    model = svm.fit(trainDataBinary)\n",
    "    predictions = model.transform(testDataBinary)\n",
    "    evaluator = BinaryClassificationEvaluator(labelCol=\"label\",rawPredictionCol=\"prediction\")\n",
    "    print(evaluator.evaluate(predictions))"
   ]
  },
  {
   "cell_type": "code",
   "execution_count": 33,
   "metadata": {},
   "outputs": [
    {
     "name": "stdout",
     "output_type": "stream",
     "text": [
      "0.5\n"
     ]
    }
   ],
   "source": []
  },
  {
   "cell_type": "code",
   "execution_count": null,
   "metadata": {},
   "outputs": [],
   "source": []
  }
 ],
 "metadata": {
  "kernelspec": {
   "display_name": "Python 3",
   "language": "python",
   "name": "python3"
  },
  "language_info": {
   "codemirror_mode": {
    "name": "ipython",
    "version": 3
   },
   "file_extension": ".py",
   "mimetype": "text/x-python",
   "name": "python",
   "nbconvert_exporter": "python",
   "pygments_lexer": "ipython3",
   "version": "3.6.7"
  }
 },
 "nbformat": 4,
 "nbformat_minor": 2
}
